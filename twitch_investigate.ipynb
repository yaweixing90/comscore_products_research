{
 "cells": [
  {
   "cell_type": "code",
   "execution_count": 1,
   "metadata": {
    "ExecuteTime": {
     "end_time": "2019-12-06T20:42:56.152060Z",
     "start_time": "2019-12-06T20:42:56.146829Z"
    }
   },
   "outputs": [],
   "source": [
    "import findspark"
   ]
  },
  {
   "cell_type": "code",
   "execution_count": 2,
   "metadata": {
    "ExecuteTime": {
     "end_time": "2019-12-06T20:42:56.984070Z",
     "start_time": "2019-12-06T20:42:56.979310Z"
    }
   },
   "outputs": [],
   "source": [
    "findspark.init()"
   ]
  },
  {
   "cell_type": "code",
   "execution_count": 61,
   "metadata": {
    "ExecuteTime": {
     "end_time": "2019-12-09T03:05:29.243180Z",
     "start_time": "2019-12-09T03:05:29.238596Z"
    }
   },
   "outputs": [],
   "source": [
    "from pyspark.sql.functions import col\n",
    "from pyspark.sql import functions as F"
   ]
  },
  {
   "cell_type": "code",
   "execution_count": 3,
   "metadata": {
    "ExecuteTime": {
     "end_time": "2019-12-06T20:43:32.666259Z",
     "start_time": "2019-12-06T20:42:58.147571Z"
    }
   },
   "outputs": [],
   "source": [
    "import pyspark\n",
    "from pyspark.sql import SparkSession\n",
    "spark = (\n",
    "    SparkSession.builder.appName('yxing_CBP').master('yarn-client').config(\n",
    "        'spark.executor.memory', '28g').config('spark.cores.max', '10').config(\n",
    "            'spark.driver.memory',\n",
    "            '10g').config('spark.shuffle.consolidateFiles').config(\n",
    "                'spark.executor.instances',\n",
    "                '20').config('spark.yarn.queue',\n",
    "                             'root.digital.heavy').getOrCreate())\n",
    "sc = spark.sparkContext"
   ]
  },
  {
   "cell_type": "code",
   "execution_count": 68,
   "metadata": {
    "ExecuteTime": {
     "end_time": "2019-12-09T03:30:49.155396Z",
     "start_time": "2019-12-09T03:30:49.147436Z"
    }
   },
   "outputs": [],
   "source": [
    "prod_path = \"/mapr/ia1.comscore.com/output/stream_sense_fact/239m/finalclose/c1_23/20191115/duration_deux/utc/streaming/valid\"\n",
    "test_path = \"/mapr/ia1.comscore.com/user/tpires/dd2_twitch_20191115/valid\"\n",
    "schema = [\n",
    "    \"c1\", \"playlist_id\", \"clip_number\", \"content_identifier\", \"uid\",\n",
    "    \"pattern_id\", \"time_id\", \"osid\", \"iab_flag\", \"ip_address\", \"ss2k_first\",\n",
    "    \"url\", \"duration\", \"ns_ak_d_vce\", \"uid_hash\", \"raw_duration\", \"c2\",\n",
    "    \"country\", \"is_nht\", \"waterfall_stats\", \"video_id\", \"ua_hash\", \"time_zone\",\n",
    "    \"browser_type\", \"boc\", \"zip\", \"recorded\", \"publisher\", \"program\",\n",
    "    \"episode\", \"content_type\", \"c3\", \"c4\", \"c6\", \"source_title_no\",\n",
    "    \"source_owner_no\", \"source_genre_no\"\n",
    "]"
   ]
  },
  {
   "cell_type": "code",
   "execution_count": 87,
   "metadata": {
    "ExecuteTime": {
     "end_time": "2019-12-16T20:39:03.240263Z",
     "start_time": "2019-12-16T20:39:03.199790Z"
    }
   },
   "outputs": [
    {
     "data": {
      "text/plain": [
       "37"
      ]
     },
     "execution_count": 87,
     "metadata": {},
     "output_type": "execute_result"
    }
   ],
   "source": [
    "len(schema)"
   ]
  },
  {
   "cell_type": "code",
   "execution_count": 69,
   "metadata": {
    "ExecuteTime": {
     "end_time": "2019-12-09T03:38:02.312071Z",
     "start_time": "2019-12-09T03:30:49.159413Z"
    }
   },
   "outputs": [],
   "source": [
    "prod = spark.read.format(\"csv\").option(\"delimiter\", '\\t').option(\n",
    "    \"inferSchema\", \"true\").load(prod_path).toDF(*schema)"
   ]
  },
  {
   "cell_type": "code",
   "execution_count": 10,
   "metadata": {
    "ExecuteTime": {
     "end_time": "2019-12-06T21:01:03.651797Z",
     "start_time": "2019-12-06T20:58:30.970132Z"
    }
   },
   "outputs": [],
   "source": [
    "test = spark.read.format(\"csv\").option(\"delimiter\", '\\t').option(\n",
    "    \"inferSchema\", \"true\").load(test_path).toDF(*schema)"
   ]
  },
  {
   "cell_type": "code",
   "execution_count": 19,
   "metadata": {
    "ExecuteTime": {
     "end_time": "2019-12-06T21:21:19.544772Z",
     "start_time": "2019-12-06T21:21:19.457646Z"
    }
   },
   "outputs": [],
   "source": [
    "# vmx_desk = prod.where(col('url').like(\"ns_ap_pn=web\"))"
   ]
  },
  {
   "cell_type": "code",
   "execution_count": 70,
   "metadata": {
    "ExecuteTime": {
     "end_time": "2019-12-09T03:38:02.387197Z",
     "start_time": "2019-12-09T03:38:02.317390Z"
    }
   },
   "outputs": [],
   "source": [
    "twitch_tagless_desktop_prod = prod.filter((prod.url.contains('ns_ap_pn=web')) & (prod.c2=='31864766'))"
   ]
  },
  {
   "cell_type": "code",
   "execution_count": 71,
   "metadata": {
    "ExecuteTime": {
     "end_time": "2019-12-09T03:52:45.683180Z",
     "start_time": "2019-12-09T03:38:02.392401Z"
    }
   },
   "outputs": [
    {
     "name": "stdout",
     "output_type": "stream",
     "text": [
      "+---+-----------+-----------+------------------+---+----------+-------+----+--------+----------+----------+---+--------+-----------+--------+------------+---+-------+------+---------------+--------+-------+---------+------------+---+---+--------+---------+-------+-------+------------+---+---+---+---------------+---------------+---------------+\n",
      "| c1|playlist_id|clip_number|content_identifier|uid|pattern_id|time_id|osid|iab_flag|ip_address|ss2k_first|url|duration|ns_ak_d_vce|uid_hash|raw_duration| c2|country|is_nht|waterfall_stats|video_id|ua_hash|time_zone|browser_type|boc|zip|recorded|publisher|program|episode|content_type| c3| c4| c6|source_title_no|source_owner_no|source_genre_no|\n",
      "+---+-----------+-----------+------------------+---+----------+-------+----+--------+----------+----------+---+--------+-----------+--------+------------+---+-------+------+---------------+--------+-------+---------+------------+---+---+--------+---------+-------+-------+------------+---+---+---+---------------+---------------+---------------+\n",
      "+---+-----------+-----------+------------------+---+----------+-------+----+--------+----------+----------+---+--------+-----------+--------+------------+---+-------+------+---------------+--------+-------+---------+------------+---+---+--------+---------+-------+-------+------------+---+---+---+---------------+---------------+---------------+\n",
      "\n"
     ]
    }
   ],
   "source": [
    "twitch_tagless_desktop_prod.show()"
   ]
  },
  {
   "cell_type": "code",
   "execution_count": 25,
   "metadata": {
    "ExecuteTime": {
     "end_time": "2019-12-06T21:42:05.189748Z",
     "start_time": "2019-12-06T21:40:50.791914Z"
    }
   },
   "outputs": [
    {
     "name": "stdout",
     "output_type": "stream",
     "text": [
      "+-------+-----------+\n",
      "|summary|         c2|\n",
      "+-------+-----------+\n",
      "|  count|   76525463|\n",
      "|   mean|3.1864766E7|\n",
      "| stddev|        0.0|\n",
      "|    min|   31864766|\n",
      "|    max|   31864766|\n",
      "+-------+-----------+\n",
      "\n"
     ]
    }
   ],
   "source": [
    "test.select(\"c2\").describe().show()"
   ]
  },
  {
   "cell_type": "code",
   "execution_count": 26,
   "metadata": {
    "ExecuteTime": {
     "end_time": "2019-12-06T21:42:05.198429Z",
     "start_time": "2019-12-06T21:42:05.193597Z"
    }
   },
   "outputs": [
    {
     "name": "stdout",
     "output_type": "stream",
     "text": [
      "root\n",
      " |-- c1: integer (nullable = true)\n",
      " |-- playlist_id: string (nullable = true)\n",
      " |-- clip_number: integer (nullable = true)\n",
      " |-- content_identifier: string (nullable = true)\n",
      " |-- uid: string (nullable = true)\n",
      " |-- pattern_id: integer (nullable = true)\n",
      " |-- time_id: integer (nullable = true)\n",
      " |-- osid: integer (nullable = true)\n",
      " |-- iab_flag: integer (nullable = true)\n",
      " |-- ip_address: string (nullable = true)\n",
      " |-- ss2k_first: integer (nullable = true)\n",
      " |-- url: string (nullable = true)\n",
      " |-- duration: double (nullable = true)\n",
      " |-- ns_ak_d_vce: integer (nullable = true)\n",
      " |-- uid_hash: long (nullable = true)\n",
      " |-- raw_duration: double (nullable = true)\n",
      " |-- c2: string (nullable = true)\n",
      " |-- country: string (nullable = true)\n",
      " |-- is_nht: integer (nullable = true)\n",
      " |-- waterfall_stats: long (nullable = true)\n",
      " |-- video_id: long (nullable = true)\n",
      " |-- ua_hash: string (nullable = true)\n",
      " |-- time_zone: double (nullable = true)\n",
      " |-- browser_type: integer (nullable = true)\n",
      " |-- boc: integer (nullable = true)\n",
      " |-- zip: string (nullable = true)\n",
      " |-- recorded: timestamp (nullable = true)\n",
      " |-- publisher: string (nullable = true)\n",
      " |-- program: string (nullable = true)\n",
      " |-- episode: string (nullable = true)\n",
      " |-- content_type: string (nullable = true)\n",
      " |-- c3: string (nullable = true)\n",
      " |-- c4: string (nullable = true)\n",
      " |-- c6: string (nullable = true)\n",
      " |-- source_title_no: long (nullable = true)\n",
      " |-- source_owner_no: long (nullable = true)\n",
      " |-- source_genre_no: long (nullable = true)\n",
      "\n"
     ]
    }
   ],
   "source": [
    "twitch_prod.printSchema()"
   ]
  },
  {
   "cell_type": "code",
   "execution_count": 30,
   "metadata": {
    "ExecuteTime": {
     "end_time": "2019-12-06T21:49:51.885879Z",
     "start_time": "2019-12-06T21:49:51.879732Z"
    }
   },
   "outputs": [
    {
     "name": "stdout",
     "output_type": "stream",
     "text": [
      "root\n",
      " |-- c1: integer (nullable = true)\n",
      " |-- playlist_id: string (nullable = true)\n",
      " |-- clip_number: integer (nullable = true)\n",
      " |-- content_identifier: string (nullable = true)\n",
      " |-- uid: string (nullable = true)\n",
      " |-- pattern_id: integer (nullable = true)\n",
      " |-- time_id: integer (nullable = true)\n",
      " |-- osid: integer (nullable = true)\n",
      " |-- iab_flag: integer (nullable = true)\n",
      " |-- ip_address: string (nullable = true)\n",
      " |-- ss2k_first: integer (nullable = true)\n",
      " |-- url: string (nullable = true)\n",
      " |-- duration: double (nullable = true)\n",
      " |-- ns_ak_d_vce: integer (nullable = true)\n",
      " |-- uid_hash: long (nullable = true)\n",
      " |-- raw_duration: double (nullable = true)\n",
      " |-- c2: string (nullable = true)\n",
      " |-- country: string (nullable = true)\n",
      " |-- is_nht: integer (nullable = true)\n",
      " |-- waterfall_stats: long (nullable = true)\n",
      " |-- video_id: long (nullable = true)\n",
      " |-- ua_hash: string (nullable = true)\n",
      " |-- time_zone: double (nullable = true)\n",
      " |-- browser_type: integer (nullable = true)\n",
      " |-- boc: integer (nullable = true)\n",
      " |-- zip: string (nullable = true)\n",
      " |-- recorded: timestamp (nullable = true)\n",
      " |-- publisher: string (nullable = true)\n",
      " |-- program: string (nullable = true)\n",
      " |-- episode: string (nullable = true)\n",
      " |-- content_type: string (nullable = true)\n",
      " |-- c3: string (nullable = true)\n",
      " |-- c4: string (nullable = true)\n",
      " |-- c6: string (nullable = true)\n",
      " |-- source_title_no: long (nullable = true)\n",
      " |-- source_owner_no: long (nullable = true)\n",
      " |-- source_genre_no: long (nullable = true)\n",
      "\n"
     ]
    }
   ],
   "source": [
    "prod.printSchema()"
   ]
  },
  {
   "cell_type": "code",
   "execution_count": null,
   "metadata": {},
   "outputs": [],
   "source": [
    "# 1.\tValid streams are 55.1% of the total streams.\n",
    "# 2.\tI don’t have any device ID. I try to get this from URL parameter “ns_ak”, but these are always empty. I do have values for ns_ak_d_vce and ns_ak_d_aud. Should I fall back to these?\n",
    "# 3.\tisNHT flag is always -1\n",
    "# 4.\tvideoId is always 0\n",
    "# 5.\tBirth of Cookie is always -1\n",
    "# 6.\tsource_title_no, source_owner_no and source_genre_no are always 0\n",
    "\n"
   ]
  },
  {
   "cell_type": "code",
   "execution_count": 44,
   "metadata": {
    "ExecuteTime": {
     "end_time": "2019-12-09T02:17:02.674524Z",
     "start_time": "2019-12-09T02:16:54.907368Z"
    }
   },
   "outputs": [
    {
     "name": "stdout",
     "output_type": "stream",
     "text": [
      "+-----------------------------------------------------------------------------------------------------------------------------------------------------------------------------------------------------------------------------------------------------------------------------------------------------------------------------------------------------------------------------------------------------------------------------------------------------------------------------------------------------------------------------------------------------------------------------------------------------------------------------------------------------------------------------------------------------------------------------------------------------------------------------------------------------------------------------------------------------------------------------------------------------------------------------------------------------------------------------------------------------------------------------------------------------------------------------------------------------------------------------------------------------------------------------------------------------------------------------------------------------------------------------------------------------------------------------------------------------------------------------------------------------------------------------------------------------------------------------------------------------------------------------------------------------------------------------------------------------------------------------------------------------------------------------------------------------------------------------------------------------------------------------------------------------------------------------------------------------------------------------------------------------------------------------------------------------------------------+\n",
      "|url                                                                                                                                                                                                                                                                                                                                                                                                                                                                                                                                                                                                                                                                                                                                                                                                                                                                                                                                                                                                                                                                                                                                                                                                                                                                                                                                                                                                                                                                                                                                                                                                                                                                                                                                                                                                                                                                                                                                                                    |\n",
      "+-----------------------------------------------------------------------------------------------------------------------------------------------------------------------------------------------------------------------------------------------------------------------------------------------------------------------------------------------------------------------------------------------------------------------------------------------------------------------------------------------------------------------------------------------------------------------------------------------------------------------------------------------------------------------------------------------------------------------------------------------------------------------------------------------------------------------------------------------------------------------------------------------------------------------------------------------------------------------------------------------------------------------------------------------------------------------------------------------------------------------------------------------------------------------------------------------------------------------------------------------------------------------------------------------------------------------------------------------------------------------------------------------------------------------------------------------------------------------------------------------------------------------------------------------------------------------------------------------------------------------------------------------------------------------------------------------------------------------------------------------------------------------------------------------------------------------------------------------------------------------------------------------------------------------------------------------------------------------+\n",
      "|/p2?C1=23&C2=21892541&C3=*null&C4=*null&C5=vc13&C6=*null&C7=https%3A%2F%2Fwww.aftonbladet.se%2F&C8=Nyheter%20fr%C3%A5n%20Sveriges%20st%C3%B6rsta%20nyhetssajt%20%7C%20Aftonbladet&C10=1-0&NS_ST_BP=0&NS_ST_BR=0&NS_ST_BT=0&NS_ST_CI=301598&NS_ST_CL=0&NS_ST_CN=1&NS_ST_EC=4&NS_ST_EP=live%3a%20aftonbladet%20morgon%2015%20november&NS_ST_EV=PLAY&NS_ST_GE=news&NS_ST_ID=1573796041931&NS_ST_LI=1&NS_ST_MP=schibstedstreamsplayer&NS_ST_MV=3.15.11&NS_ST_PA=0&NS_ST_PB=1&NS_ST_PC=0&NS_ST_PL=live%3a%20aftonbladet%20morgon%2015%20november&NS_ST_PN=1&NS_ST_PO=725930&NS_ST_PP=0&NS_ST_PR=aftonbladet%20morgon&NS_ST_PT=0.0&NS_ST_SP=1&NS_ST_SQ=1&NS_ST_ST=aftonbladet&NS_ST_SV=6.2.3.180328&NS_ST_TP=0&NS_ST_TY=live&NS_ST_UB=0&NS_TS=1573796041932&ns_site=aftonbladet&ns_st_smv=5.10&ns_st_it=c&ns_st_sc=1&ns_st_psq=1&ns_st_asq=1&ns_st_ppc=1&ns_st_apc=1&ns_st_spc=1&ns_st_dpt=0&ns_st_ipt=0&ns_st_ap=0&ns_st_dap=0&ns_st_et=0&ns_st_det=0&ns_st_upc=0&ns_st_dupc=0&ns_st_iupc=0&ns_st_upa=0&ns_st_dupa=0&ns_st_iupa=0&ns_st_lpc=0&ns_st_dlpc=0&ns_st_lpa=0&ns_st_dlpa=0&ns_st_ldw=0&ns_st_ldo=-725930&ns_st_bc=0&ns_st_dbc=0&ns_st_dbt=0&ns_st_skc=0&ns_st_dskc=0&ns_st_ska=0&ns_st_dska=0&ns_st_skd=0&ns_st_skt=0&ns_st_dskt=0&ns_st_dpc=0&ns_st_rt=100&ns_st_ki=1200000&ns_st_sn=*null&ns_st_en=*null&ns_st_ct=vc13&ns_st_pu=Aftonbladet&mms_clnr=1001107&mms_subsite=aftonbladet.web&mms_auto=yes&mms_tid=301598&cs_sub=sb&cs_al=sv-se&&cs_metro_code=0&cs_reg=08&cs_ec=SE&cs_boc=0&Ak_hh=3594BBEF6D01607628D669EBC5A9017B&ns_st_ow=Aftonbladet&cs_stacked=-1&stack_id=-1&orig_ts=0.0&ns_st_ct_orig=*null&c5_orig=*null                                                                                                                                                                                                                                                                                                                                      |\n",
      "|/p2?C1=23&C2=21892541&C3=*null&C4=*null&C5=vc12&C6=*null&C7=https%3A%2F%2Fwww.aftonbladet.se%2Ftv%2Fa%2F301494%2Fdet-ser-ut-som-en-gullig-bild--tills-vi-ser-vad-som-hander&C8=Det%20ser%20ut%20som%20en%20gullig%20bild%20%E2%80%94%20tills%20vi%20ser%20vad%20som%20h%C3%A4nder%20%7C%20Aftonbladet&C9=https%3A%2F%2Fwww.aftonbladet.se%2F&C10=1-0&NS_ST_BP=0&NS_ST_BR=0&NS_ST_BT=0&NS_ST_CI=301484&NS_ST_CL=41145&NS_ST_CN=1&NS_ST_EC=1&NS_ST_EP=det%20ser%20ut%20som%20en%20gullig%20bild%20%e2%80%94%20tills%20vi%20ser%20vad%20som%20h%c3%a4nder&NS_ST_EV=PLAY&NS_ST_GE=news&NS_ST_ID=1573805787233&NS_ST_MP=schibstedstreamsplayer&NS_ST_MV=3.15.11&NS_ST_PA=0&NS_ST_PB=1&NS_ST_PC=0&NS_ST_PL=det%20ser%20ut%20som%20en%20gullig%20bild%20%e2%80%94%20tills%20vi%20ser%20vad%20som%20h%c3%a4nder&NS_ST_PN=1&NS_ST_PO=0&NS_ST_PP=0&NS_ST_PR=aftonbladet%20morgon&NS_ST_PT=0.0&NS_ST_SP=1&NS_ST_SQ=1&NS_ST_ST=aftonbladet&NS_ST_SV=6.2.3.180328&NS_ST_TP=0&NS_ST_TY=vod&NS_ST_UB=0&NS_TS=1573805812523&ns_site=aftonbladet&ns_st_smv=5.10&ns_st_it=c&ns_st_sc=1&ns_st_psq=1&ns_st_asq=1&ns_st_ppc=1&ns_st_apc=1&ns_st_spc=1&ns_st_dpt=0&ns_st_ipt=0&ns_st_ap=0&ns_st_dap=0&ns_st_et=0&ns_st_det=0&ns_st_upc=0&ns_st_dupc=0&ns_st_iupc=0&ns_st_upa=0&ns_st_dupa=0&ns_st_iupa=0&ns_st_lpc=0&ns_st_dlpc=0&ns_st_lpa=0&ns_st_dlpa=0&ns_st_ldw=0&ns_st_ldo=0&ns_st_bc=0&ns_st_dbc=0&ns_st_dbt=0&ns_st_lt=25290&ns_st_skc=0&ns_st_dskc=0&ns_st_ska=0&ns_st_dska=0&ns_st_skd=0&ns_st_skt=0&ns_st_dskt=0&ns_st_dpc=0&ns_st_rt=100&ns_st_ki=1200000&ns_st_sn=*null&ns_st_en=*null&ns_st_ct=vc12&ns_st_pu=Aftonbladet&mms_clnr=1001107&mms_subsite=aftonbladet.web&mms_auto=no&mms_tid=301484&cs_sub=sb&cs_al=sv-se&&cs_metro_code=0&cs_reg=08&cs_ec=SE&cs_boc=0&Ak_hh=B329FEAB97B79705B6B01B1171240DF2&ns_st_ow=Aftonbladet&cs_stacked=-1&stack_id=-1&orig_ts=0.0&ns_st_ct_orig=*null&c5_orig=*null                                                                        |\n",
      "|/p2?C1=23&C2=21892541&C3=*null&C4=*null&C5=vc12&C6=*null&C7=https%3A%2F%2Fwww.aftonbladet.se%2Ftv%2Fa%2F301450%2Fefter-det-ryska-valfangelset--har-atervander-50-valar-till-havet&C8=Efter%20det%20ryska%20%22valf%C3%A4ngelset%22%20%E2%80%93%20h%C3%A4r%20%C3%A5terv%C3%A4nder%2050%20valar%20till%20havet%20%7C%20Aftonbladet&C10=1-0&NS_ST_BP=0&NS_ST_BR=0&NS_ST_BT=0&NS_ST_CI=301450&NS_ST_CL=54502&NS_ST_CN=2&NS_ST_EC=3&NS_ST_EP=efter%20det%20ryska%20%22valf%c3%a4ngelset%22%20%e2%80%93%20h%c3%a4r%20%c3%a5terv%c3%a4nder%2050%20valar%20till%20havet&NS_ST_EV=PLAY&NS_ST_GE=news&NS_ST_ID=1573796056326&NS_ST_MP=schibstedstreamsplayer&NS_ST_MV=3.15.11&NS_ST_PA=5956&NS_ST_PC=0&NS_ST_PL=efter%20det%20ryska%20%22valf%c3%a4ngelset%22%20%e2%80%93%20h%c3%a4r%20%c3%a5terv%c3%a4nder%2050%20valar%20till%20havet&NS_ST_PN=1&NS_ST_PO=164&NS_ST_PP=0&NS_ST_PR=nyheter&NS_ST_PT=0.0&NS_ST_SP=1&NS_ST_SQ=1&NS_ST_ST=aftonbladet&NS_ST_SV=6.2.3.180328&NS_ST_TP=0&NS_ST_TY=vod&NS_ST_UB=0&NS_TS=1573796123222&ns_site=aftonbladet&ns_st_smv=5.10&ns_st_it=c&ns_st_sc=1&ns_st_psq=2&ns_st_asq=1&ns_st_ppc=1&ns_st_apc=1&ns_st_spc=1&ns_st_dpt=0&ns_st_ipt=0&ns_st_ap=0&ns_st_dap=0&ns_st_et=0&ns_st_det=0&ns_st_upc=0&ns_st_dupc=0&ns_st_iupc=0&ns_st_upa=0&ns_st_dupa=0&ns_st_iupa=0&ns_st_lpc=0&ns_st_dlpc=0&ns_st_lpa=0&ns_st_dlpa=0&ns_st_ldw=0&ns_st_ldo=-164&ns_st_bc=0&ns_st_dbc=0&ns_st_dbt=0&ns_st_skc=0&ns_st_dskc=0&ns_st_ska=0&ns_st_dska=0&ns_st_skd=0&ns_st_skt=0&ns_st_dskt=0&ns_st_dpc=0&ns_st_rt=100&ns_st_ki=1200000&ns_st_sn=*null&ns_st_en=*null&ns_st_ct=vc12&ns_st_pu=Aftonbladet&mms_clnr=1001107&mms_subsite=aftonbladet.web&mms_auto=no&mms_tid=301450&cs_sub=sb&cs_al=sv-se&&cs_metro_code=0&cs_reg=08&cs_ec=SE&cs_boc=0&Ak_hh=3594BBEF6D01607628D669EBC5A9017B&ns_st_ow=Aftonbladet&cs_stacked=-1&stack_id=-1&orig_ts=0.0&ns_st_ct_orig=*null&c5_orig=*null                                                                         |\n",
      "|/p2?C1=23&C2=21892541&C3=*null&C4=*null&C5=vc13&C6=*null&C7=https%3A%2F%2Fwww.aftonbladet.se%2F&C8=Nyheter%20fr%C3%A5n%20Sveriges%20st%C3%B6rsta%20nyhetssajt%20%7C%20Aftonbladet&C10=1-0&NS_ST_BP=0&NS_ST_BR=0&NS_ST_BT=0&NS_ST_CI=301598&NS_ST_CL=0&NS_ST_CN=1&NS_ST_EC=1&NS_ST_EP=live%3a%20aftonbladet%20morgon%2015%20november&NS_ST_EV=PLAY&NS_ST_GE=news&NS_ST_ID=1573796187918&NS_ST_LI=1&NS_ST_MP=schibstedstreamsplayer&NS_ST_MV=3.15.11&NS_ST_PA=0&NS_ST_PB=1&NS_ST_PC=0&NS_ST_PL=live%3a%20aftonbladet%20morgon%2015%20november&NS_ST_PN=1&NS_ST_PO=875983&NS_ST_PP=0&NS_ST_PR=aftonbladet%20morgon&NS_ST_PT=0.0&NS_ST_SP=1&NS_ST_SQ=1&NS_ST_ST=aftonbladet&NS_ST_SV=6.2.3.180328&NS_ST_TP=0&NS_ST_TY=live&NS_ST_UB=0&NS_TS=1573796189251&ns_site=aftonbladet&ns_st_smv=5.10&ns_st_it=c&ns_st_sc=1&ns_st_psq=1&ns_st_asq=1&ns_st_ppc=1&ns_st_apc=1&ns_st_spc=1&ns_st_dpt=0&ns_st_ipt=0&ns_st_ap=0&ns_st_dap=0&ns_st_et=0&ns_st_det=0&ns_st_upc=0&ns_st_dupc=0&ns_st_iupc=0&ns_st_upa=0&ns_st_dupa=0&ns_st_iupa=0&ns_st_lpc=0&ns_st_dlpc=0&ns_st_lpa=0&ns_st_dlpa=0&ns_st_ldw=0&ns_st_ldo=-875983&ns_st_bc=0&ns_st_dbc=0&ns_st_dbt=0&ns_st_lt=1333&ns_st_skc=0&ns_st_dskc=0&ns_st_ska=0&ns_st_dska=0&ns_st_skd=0&ns_st_skt=0&ns_st_dskt=0&ns_st_dpc=0&ns_st_rt=100&ns_st_ki=1200000&ns_st_sn=*null&ns_st_en=*null&ns_st_ct=vc13&ns_st_pu=Aftonbladet&mms_clnr=1001107&mms_subsite=aftonbladet.web&mms_auto=yes&mms_tid=301598&cs_sub=sb&cs_al=sv-se&&cs_metro_code=0&cs_reg=08&cs_ec=SE&cs_boc=0&Ak_hh=3594BBEF6D01607628D669EBC5A9017B&ns_st_ow=Aftonbladet&cs_stacked=-1&stack_id=-1&orig_ts=0.0&ns_st_ct_orig=*null&c5_orig=*null                                                                                                                                                                                                                                                                                                                        |\n",
      "|/p2?C1=23&C2=21892541&C3=*null&C4=*null&C5=vc12&C6=*null&C7=https%3A%2F%2Fwww.aftonbladet.se%2Fsportbladet%2Ffotboll%2Fa%2FP9Xbw5%2Fhan-kunde-ha-dodat-honom&C8=Myles%20Garrett%20attackerade%20Mason%20Rudolph%20med%20hj%C3%A4lmen%20%7C%20Aftonbladet&C10=1-0&NS_ST_BP=0&NS_ST_BR=0&NS_ST_BT=0&NS_ST_CI=295717&NS_ST_CL=35904&NS_ST_CN=2&NS_ST_EC=5&NS_ST_EP=drama%20i%20nfl%20-%20b%c3%b6rjade%20brinna%20p%c3%a5%20planen&NS_ST_EV=PLAY&NS_ST_GE=news&NS_ST_ID=1573805711920&NS_ST_MP=schibstedstreamsplayer&NS_ST_MV=3.15.11&NS_ST_PA=7164&NS_ST_PC=0&NS_ST_PL=drama%20i%20nfl%20-%20b%c3%b6rjade%20brinna%20p%c3%a5%20planen&NS_ST_PN=1&NS_ST_PO=0&NS_ST_PP=0&NS_ST_PR=sportbladet%20news&NS_ST_PT=0.0&NS_ST_SP=1&NS_ST_SQ=1&NS_ST_ST=aftonbladet&NS_ST_SV=6.2.3.180328&NS_ST_TP=0&NS_ST_TY=vod&NS_ST_UB=0&NS_TS=1573805720513&ns_site=aftonbladet&ns_st_smv=5.10&ns_st_it=c&ns_st_sc=1&ns_st_psq=2&ns_st_asq=1&ns_st_ppc=1&ns_st_apc=1&ns_st_spc=1&ns_st_dpt=0&ns_st_ipt=0&ns_st_ap=0&ns_st_dap=0&ns_st_et=0&ns_st_det=0&ns_st_upc=0&ns_st_dupc=0&ns_st_iupc=0&ns_st_upa=0&ns_st_dupa=0&ns_st_iupa=0&ns_st_lpc=0&ns_st_dlpc=0&ns_st_lpa=0&ns_st_dlpa=0&ns_st_ldw=0&ns_st_ldo=0&ns_st_bc=0&ns_st_dbc=0&ns_st_dbt=0&ns_st_skc=0&ns_st_dskc=0&ns_st_ska=0&ns_st_dska=0&ns_st_skd=0&ns_st_skt=0&ns_st_dskt=0&ns_st_dpc=0&ns_st_rt=100&ns_st_ki=1200000&ns_st_sn=*null&ns_st_en=*null&ns_st_ct=vc12&ns_st_pu=Aftonbladet&mms_clnr=1001107&mms_subsite=aftonbladet.web&mms_auto=no&mms_tid=295717&cs_sub=sb&cs_al=sv-se&&cs_metro_code=0&cs_reg=08&cs_ec=SE&cs_boc=0&Ak_hh=B329FEAB97B79705B6B01B1171240DF2&ns_st_ow=Aftonbladet&cs_stacked=-1&stack_id=-1&orig_ts=0.0&ns_st_ct_orig=*null&c5_orig=*null                                                                                                                                                                                                                                                             |\n",
      "|/p2?C1=23&C2=21892541&C3=*null&C4=*null&C5=va11&C6=*null&C7=https%3A%2F%2Fwww.aftonbladet.se%2Fsportbladet%2Ffotboll%2Fa%2FP9Xbw5%2Fhan-kunde-ha-dodat-honom&C8=Myles%20Garrett%20attackerade%20Mason%20Rudolph%20med%20hj%C3%A4lmen%20%7C%20Aftonbladet&C10=1-1&NS_ST_AD=preroll&NS_ST_BP=0&NS_ST_BR=0&NS_ST_BT=0&NS_ST_CI=295717&NS_ST_CL=20042&NS_ST_CN=1&NS_ST_EC=3&NS_ST_EP=drama%20i%20nfl%20-%20b%c3%b6rjade%20brinna%20p%c3%a5%20planen&NS_ST_EV=PLAY&NS_ST_ID=1573805711920&NS_ST_MP=schibstedstreamsplayer&NS_ST_MV=3.15.11&NS_ST_PA=0&NS_ST_PB=1&NS_ST_PC=0&NS_ST_PL=drama%20i%20nfl%20-%20b%c3%b6rjade%20brinna%20p%c3%a5%20planen&NS_ST_PN=1&NS_ST_PO=20042&NS_ST_PP=0&NS_ST_PR=sportbladet%20news&NS_ST_PT=0.0&NS_ST_SP=1&NS_ST_SQ=1&NS_ST_ST=*null&NS_ST_SV=6.2.3.180328&NS_ST_TP=1&NS_ST_TY=advertisement&NS_ST_UB=0&NS_TS=1573805711921&ns_site=aftonbladet&ns_st_smv=5.10&ns_st_it=c&ns_st_sc=1&ns_st_psq=1&ns_st_asq=1&ns_st_ppc=1&ns_st_apc=1&ns_st_spc=1&ns_st_dpt=0&ns_st_ipt=0&ns_st_ap=0&ns_st_dap=0&ns_st_et=0&ns_st_det=0&ns_st_upc=0&ns_st_dupc=0&ns_st_iupc=0&ns_st_upa=0&ns_st_dupa=0&ns_st_iupa=0&ns_st_lpc=0&ns_st_dlpc=0&ns_st_lpa=0&ns_st_dlpa=0&ns_st_ldw=0&ns_st_ldo=-20042&ns_st_bc=0&ns_st_dbc=0&ns_st_dbt=0&ns_st_skc=0&ns_st_dskc=0&ns_st_ska=0&ns_st_dska=0&ns_st_skd=0&ns_st_skt=0&ns_st_dskt=0&ns_st_dpc=0&ns_st_rt=100&ns_st_ki=1200000&ns_st_sn=*null&ns_st_en=*null&ns_st_ct=va11&ns_st_pu=*null&mms_clnr=1001107&mms_subsite=aftonbladet.web&mms_auto=no&mms_adid=ac321f79-30aa-4892-920b-da557e6f6013&mms_tid=295717&cs_sub=sb&cs_al=sv-se&&cs_metro_code=0&cs_reg=08&cs_ec=SE&cs_boc=0&Ak_hh=B329FEAB97B79705B6B01B1171240DF2&ns_st_ow=*null&cs_stacked=-1&stack_id=-1&orig_ts=0.0&ns_st_ct_orig=*null&c5_orig=*null                                                                                                                                                                                                   |\n",
      "|/p2?C1=23&C2=21892541&C3=*null&C4=*null&C5=va11&C6=*null&C7=https%3A%2F%2Fwww.aftonbladet.se%2Ftv%2Fa%2F301450%2Fefter-det-ryska-valfangelset--har-atervander-50-valar-till-havet&C8=Efter%20det%20ryska%20%22valf%C3%A4ngelset%22%20%E2%80%93%20h%C3%A4r%20%C3%A5terv%C3%A4nder%2050%20valar%20till%20havet%20%7C%20Aftonbladet&C10=1-1&NS_ST_AD=preroll&NS_ST_BP=0&NS_ST_BR=0&NS_ST_BT=0&NS_ST_CI=301450&NS_ST_CL=20042&NS_ST_CN=1&NS_ST_EC=1&NS_ST_EP=efter%20det%20ryska%20%22valf%c3%a4ngelset%22%20%e2%80%93%20h%c3%a4r%20%c3%a5terv%c3%a4nder%2050%20valar%20till%20havet&NS_ST_EV=PLAY&NS_ST_ID=1573796056326&NS_ST_MP=schibstedstreamsplayer&NS_ST_MV=3.15.11&NS_ST_PA=0&NS_ST_PB=1&NS_ST_PC=0&NS_ST_PL=efter%20det%20ryska%20%22valf%c3%a4ngelset%22%20%e2%80%93%20h%c3%a4r%20%c3%a5terv%c3%a4nder%2050%20valar%20till%20havet&NS_ST_PN=1&NS_ST_PO=20042&NS_ST_PP=0&NS_ST_PR=nyheter&NS_ST_PT=0.0&NS_ST_SP=1&NS_ST_SQ=1&NS_ST_ST=*null&NS_ST_SV=6.2.3.180328&NS_ST_TP=1&NS_ST_TY=advertisement&NS_ST_UB=0&NS_TS=1573796115739&ns_site=aftonbladet&ns_st_smv=5.10&ns_st_it=c&ns_st_sc=1&ns_st_psq=1&ns_st_asq=1&ns_st_ppc=1&ns_st_apc=1&ns_st_spc=1&ns_st_dpt=0&ns_st_ipt=0&ns_st_ap=0&ns_st_dap=0&ns_st_et=0&ns_st_det=0&ns_st_upc=0&ns_st_dupc=0&ns_st_iupc=0&ns_st_upa=0&ns_st_dupa=0&ns_st_iupa=0&ns_st_lpc=0&ns_st_dlpc=0&ns_st_lpa=0&ns_st_dlpa=0&ns_st_ldw=0&ns_st_ldo=-20042&ns_st_bc=0&ns_st_dbc=0&ns_st_dbt=0&ns_st_lt=59413&ns_st_skc=0&ns_st_dskc=0&ns_st_ska=0&ns_st_dska=0&ns_st_skd=0&ns_st_skt=0&ns_st_dskt=0&ns_st_dpc=0&ns_st_rt=100&ns_st_ki=1200000&ns_st_sn=*null&ns_st_en=*null&ns_st_ct=va11&ns_st_pu=*null&mms_clnr=1001107&mms_subsite=aftonbladet.web&mms_auto=no&mms_adid=150874106&mms_customadid=H2AABVX005&mms_tid=301450&cs_sub=sb&cs_al=sv-se&&cs_metro_code=0&cs_reg=08&cs_ec=SE&cs_boc=0&Ak_hh=3594BBEF6D01607628D669EBC5A9017B&ns_st_ow=*null&cs_stacked=-1&stack_id=-1&orig_ts=0.0&ns_st_ct_orig=*null&c5_orig=*null      |\n",
      "|/p2?C1=23&C2=21892541&C3=*null&C4=*null&C5=vc12&C6=*null&C7=https%3A%2F%2Fwww.aftonbladet.se%2Fsportbladet%2Ffotboll%2Fa%2FP9Xbw5%2Fhan-kunde-ha-dodat-honom&C8=Myles%20Garrett%20attackerade%20Mason%20Rudolph%20med%20hj%C3%A4lmen%20%7C%20Aftonbladet&C10=1-0&NS_ST_BP=0&NS_ST_BR=0&NS_ST_BT=0&NS_ST_CI=301612&NS_ST_CL=33984&NS_ST_CN=1&NS_ST_EC=1&NS_ST_EP=storbr%c3%a5ket%20som%20chockar%20nfl&NS_ST_EV=PLAY&NS_ST_GE=news&NS_ST_ID=1573805637906&NS_ST_MP=schibstedstreamsplayer&NS_ST_MV=3.15.11&NS_ST_PA=0&NS_ST_PB=1&NS_ST_PC=0&NS_ST_PL=storbr%c3%a5ket%20som%20chockar%20nfl&NS_ST_PN=1&NS_ST_PO=0&NS_ST_PP=0&NS_ST_PR=sportbladet%20news%20highlights&NS_ST_PT=0.0&NS_ST_SP=1&NS_ST_SQ=1&NS_ST_ST=aftonbladet&NS_ST_SV=6.2.3.180328&NS_ST_TP=0&NS_ST_TY=vod&NS_ST_UB=0&NS_TS=1573805672206&ns_site=aftonbladet&ns_st_smv=5.10&ns_st_it=c&ns_st_sc=1&ns_st_psq=1&ns_st_asq=1&ns_st_ppc=1&ns_st_apc=1&ns_st_spc=1&ns_st_dpt=0&ns_st_ipt=0&ns_st_ap=0&ns_st_dap=0&ns_st_et=0&ns_st_det=0&ns_st_upc=0&ns_st_dupc=0&ns_st_iupc=0&ns_st_upa=0&ns_st_dupa=0&ns_st_iupa=0&ns_st_lpc=0&ns_st_dlpc=0&ns_st_lpa=0&ns_st_dlpa=0&ns_st_ldw=0&ns_st_ldo=0&ns_st_bc=0&ns_st_dbc=0&ns_st_dbt=0&ns_st_lt=34299&ns_st_skc=0&ns_st_dskc=0&ns_st_ska=0&ns_st_dska=0&ns_st_skd=0&ns_st_skt=0&ns_st_dskt=0&ns_st_dpc=0&ns_st_rt=100&ns_st_ki=1200000&ns_st_sn=*null&ns_st_en=*null&ns_st_ct=vc12&ns_st_pu=Aftonbladet&mms_clnr=1001107&mms_subsite=aftonbladet.web&mms_auto=no&mms_tid=301612&cs_sub=sb&cs_al=sv-se&&cs_metro_code=0&cs_reg=08&cs_ec=SE&cs_boc=0&Ak_hh=B329FEAB97B79705B6B01B1171240DF2&ns_st_ow=Aftonbladet&cs_stacked=-1&stack_id=-1&orig_ts=0.0&ns_st_ct_orig=*null&c5_orig=*null                                                                                                                                                                                                                                                                           |\n",
      "|/p2?C1=23&C2=3000013&C5=va11&C6=*null&C7=https%3A%2F%2Fwww.tmz.com%2F2019%2F11%2F14%2Fmark-cuban-president-race-trump%2F&C8=My%20Family%20Voted%20It%20Down&C9=https%3A%2F%2Fwww.tmz.com%2F2019%2F11%2F14%2Fmark-cuban-president-race-trump%2F&C10=1-1&NS_ST_AD=pre-roll&NS_ST_BP=0&NS_ST_BR=0&NS_ST_BT=0&NS_ST_CI=&NS_ST_CL=30000&NS_ST_CN=1&NS_ST_EC=1&NS_ST_EP=*null&NS_ST_EV=PLAY&NS_ST_GE=&NS_ST_ID=1573778269591&NS_ST_MP=kaltura&NS_ST_MV=2.79.1&NS_ST_PA=0&NS_ST_PB=1&NS_ST_PC=0&NS_ST_PL=mark%20cuban%20considered%20running%20for%20president%20but%20%27my%20family%20voted%20it%20down%27&NS_ST_PN=1&NS_ST_PO=0&NS_ST_PP=0&NS_ST_PR=&NS_ST_PT=0.0&NS_ST_SP=1&NS_ST_SQ=1&NS_ST_ST=*null&NS_ST_SV=6.1.0.170130&NS_ST_TP=1&NS_ST_TY=audio&NS_ST_UB=0&NS_ST_VO=75&NS_TS=1573778274394&ns_st_pv=1.3.0.170908&ns_st_smv=5.8&ns_st_it=c&ns_st_sc=1&ns_st_psq=1&ns_st_asq=1&ns_st_ppc=1&ns_st_apc=1&ns_st_spc=1&ns_st_dpt=0&ns_st_ipt=0&ns_st_et=0&ns_st_det=0&ns_st_upc=0&ns_st_dupc=0&ns_st_iupc=0&ns_st_upa=0&ns_st_dupa=0&ns_st_iupa=0&ns_st_lpc=0&ns_st_dlpc=0&ns_st_lpa=0&ns_st_dlpa=0&ns_st_bc=0&ns_st_dbc=0&ns_st_dbt=0&ns_st_lt=4803&ns_st_skc=0&ns_st_dskc=0&ns_st_ska=0&ns_st_dska=0&ns_st_skd=0&ns_st_skt=0&ns_st_dskt=0&ns_st_dpc=0&ns_st_rt=100&ns_st_ki=1200000&ns_st_an=1&ns_st_sn=*null&ns_st_en=*null&ns_st_ct=va11&ns_st_pu=nbc&ns_st_amt=259078480_MTV_TMZ_RBPrerollVideo_Mobile_FlatRate_1x1_ROS_1114-1114&ns_st_ams=gdfp&cs_sub=sb&cs_st=NJ&cs_al=en-us&cs_metro_code=501&cs_reg=NJ&cs_ec=US&cs_boc=0&Ak_hh=702966B26E3337B95970245A4550A673&ns_st_ep_orig=*null&ns_st_pr_orig=&ns_st_pu_orig=nbc&ns_st_ow=nbc&cs_stacked=-1&stack_id=-1&orig_ts=0.0                                                                                                                                                                                                                                                                                         |\n",
      "|/p2?C1=23&C2=7241469&C3=*null&C4=US%20fp&C5=vc11&C6=wynonna%20judd%27s%20daughter,%2023,%20released%20from%20prison%206%20years%20early%20after%20being%20granted%20parole&C7=https%3A%2F%2Fwww.yahoo.com%2F&C8=Yahoo&C10=1-1&NS_ST_BP=0&NS_ST_BR=0&NS_ST_BT=0&NS_ST_CI=2e7cd885-efd2-3350-b05d-9ddf82652119&NS_ST_CL=74000&NS_ST_CN=1&NS_ST_CS=401x226&NS_ST_CU=https%3a%2f%2fwww.yahoo.com%2f&NS_ST_EC=1&NS_ST_EP=time%20inc%20premium%20publisher%20video%20sales%20%26%20content%20license%20agreement%20-%202016-09-18%20%5bpeople%20(video)%5d&NS_ST_EV=PLAY&NS_ST_GE=none&NS_ST_ID=1573842166455_1&NS_ST_MP=f&NS_ST_MV=7.86.871.1571807823&NS_ST_PB=1&NS_ST_PL=wynonna%20judd%27s%20daughter%2c%2023%2c%20released%20from%20prison%206%20years%20early%20after%20being%20granted%20parole&NS_ST_PN=1&NS_ST_PO=0&NS_ST_PR=wynonna%20judd%27s%20daughter%2c%2023%2c%20released%20from%20prison%206%20years%20early%20after%20being%20granted%20parole&NS_ST_SP=1&NS_ST_SQ=1&NS_ST_ST=*null&NS_ST_SV=4.1505.18&NS_ST_TP=1&NS_ST_TY=vod%20short&NS_ST_UB=0&NS_ST_VO=0&NS_TS=1573842187333&ns_site=yahoo-video&ns_st_it=c&ns_st_ct=vc11&ns_st_pu=*null&y_lms=a0ad000000BZymAAAT&y_sp=https&y_stype=hls&y_st=frontpage&y_rg=us&y_lc=onProp&y_pb=none&ns_st_sn=*null&ns_st_en=*null&ns_st_ce=0&ns_st_ddt=*null&ns_st_tdt=*null&ns_st_ia=0&y_pid=meredith_videos_131&y_lbl=none&y_art=none&y_pvid=da32be47-d23a-3b86-a676-6a94956e43cd&y_s=2023538075&y_c=edgecast&y_ap=0&cs_sub=sb&cs_st=NJ&cs_dnt=1&cs_al=en-US%2cen%3bq%3d0.5&&cs_metro_code=501&cs_reg=NJ&cs_ec=US&cs_boc=0&Ak_hh=F6285C1A7CE8740C94632512700940DB&cs_stacked=0&cs_identifier=3761&cs_stack_id=f5011aad41933fc1292aba7dcc9beb9e&ns_st_ow=*null&stack_id=725918null00000003761&ns_st_pt=0.0&orig_ts=0.0                                                                                                                                                                                              |\n",
      "|/p2?C1=23&C2=12963797&C3=Entercom&C4=Radio.com&C5=va11&C6=*null&C7=https%3A%2F%2Fwww.radio.com%2Fwcbsfm%2Flisten&C8=WCBS-FM%20%7C%20RADIO.COM&C9=https%3A%2F%2Fwcbsfm.radio.com%2F&C10=1-1&NS_ST_AD=pre-roll&NS_ST_BP=0&NS_ST_BR=0&NS_ST_BT=0&NS_ST_CI=16e6f8ef028&NS_ST_CL=7000&NS_ST_CN=1&NS_ST_CS=0x0&NS_ST_EC=1&NS_ST_EL=0&NS_ST_EP=&NS_ST_EV=PLAY&NS_ST_GE=*null&NS_ST_ID=1573829667540&NS_ST_MP=brightcove&NS_ST_MV=6.37.3&NS_ST_PA=0&NS_ST_PB=1&NS_ST_PC=0&NS_ST_PN=1&NS_ST_PO=0&NS_ST_PP=0&NS_ST_PR=*null&NS_ST_PT=0.0&NS_ST_SP=1&NS_ST_SQ=1&NS_ST_ST=radio.com&NS_ST_SV=6.1.0.170130&NS_ST_TP=1&NS_ST_TY=video&NS_ST_UB=0&NS_ST_VO=50&NS_ST_WS=norm&NS_TS=1573829668905&ns_ap_pn=js&ns_ap_pfm=html&ns_st_pv=1.5.1.190515&ns_st_smv=5.8&ns_st_it=c&ns_st_sc=1&ns_st_psq=1&ns_st_asq=1&ns_st_ppc=1&ns_st_apc=1&ns_st_spc=1&ns_st_dpt=0&ns_st_ipt=0&ns_st_et=0&ns_st_det=0&ns_st_upc=0&ns_st_dupc=0&ns_st_iupc=0&ns_st_upa=0&ns_st_dupa=0&ns_st_iupa=0&ns_st_lpc=0&ns_st_dlpc=0&ns_st_lpa=0&ns_st_dlpa=0&ns_st_bc=0&ns_st_dbc=0&ns_st_dbt=0&ns_st_lt=1365&ns_st_skc=0&ns_st_dskc=0&ns_st_ska=0&ns_st_dska=0&ns_st_skd=0&ns_st_skt=0&ns_st_dskt=0&ns_st_dpc=0&ns_st_rt=100&ns_st_ki=1200000&ns_st_sn=*null&ns_st_en=*null&ns_st_ct=va11&ns_st_ce=1&ns_st_ia=0&ns_st_ddt=*null&ns_st_tdt=*null&ns_st_pu=Radio.com&ns_st_ti=*null&ns_st_ami=352905477783&ns_st_amt=video&ns_st_ams=ima&cs_sub=sb&cs_st=NJ&cs_dnt=1&cs_al=en-US%2cen%3bq%3d0.5&&cs_metro_code=501&cs_reg=NJ&cs_ec=US&cs_boc=0&Ak_hh=F6285C1A7CE8740C94632512700940DB&ns_st_ow=Radio.com&cs_stacked=-1&stack_id=-1&orig_ts=0.0                                                                                                                                                                                                                                                                                                                                                                        |\n",
      "|/p2?C1=23&C2=6036305&C3=ALLRECIPES&C4=*null&C5=vc00&C6=*null&C7=https%3A%2F%2Fwww.allrecipes.com%2Fvideo%2F9472%2Fparty-punch-iii%2F%3FinternalSource%3Dpicture_play%26referringId%3D46659%26referringContentType%3DRecipe&C8=Party%20Punch%20III%20Video%20-%20Allrecipes.com&C9=https%3A%2F%2Fwww.allrecipes.com%2Frecipe%2F46659%2Fparty-punch-iii%2F&C10=1-0&NS_ST_BP=0&NS_ST_BR=0&NS_ST_BT=0&NS_ST_CI=6044946740001&NS_ST_CL=24875&NS_ST_CN=1&NS_ST_CS=0x0&NS_ST_CU=https%3a%2f%2fmanifest.prod.boltdns.net%2fmanifest%2fv1%2fhls%2fv4%2fclear%2f1033249144001%2f2cf703a6-3a75-4d92-808e-8af53ca174d9%2f10s%2fmaster.m3u8%3ffastly_token%3dnwrkmthlytvfnmm0ztc4ntfinddmytgyymi0yziyytlimze1ntvmoti4mtc0ntk3otkyymfmmgq0yjyzmwrlmdzkntcymzfioa%253d%253d&NS_ST_EC=6&NS_ST_EL=24875&NS_ST_EP=party%20punch%20iii&NS_ST_EV=PLAY&NS_ST_ID=1573841091085&NS_ST_MP=brightcove&NS_ST_MV=6.34.3&NS_ST_PA=30569&NS_ST_PC=0&NS_ST_PL=party%20punch%20iii&NS_ST_PN=1&NS_ST_PO=1721&NS_ST_PP=1&NS_ST_PR=*null&NS_ST_PT=0.0&NS_ST_SP=1&NS_ST_SQ=1&NS_ST_ST=*null&NS_ST_SV=6.1.0.170130&NS_ST_TP=0&NS_ST_TY=video&NS_ST_UB=0&NS_ST_VO=100&NS_ST_WS=norm&NS_TS=1573841126117&ns_ap_pn=js&ns_ap_pfm=html&ns_st_pv=1.5.1.190515&ns_st_smv=5.8&ns_st_it=c&ns_st_sc=2&ns_st_psq=3&ns_st_asq=1&ns_st_ppc=1&ns_st_apc=2&ns_st_spc=2&ns_st_dpt=0&ns_st_ipt=0&ns_st_et=0&ns_st_det=0&ns_st_upc=183&ns_st_dupc=0&ns_st_iupc=0&ns_st_upa=0&ns_st_dupa=0&ns_st_iupa=0&ns_st_lpc=183&ns_st_dlpc=0&ns_st_lpa=0&ns_st_dlpa=0&ns_st_bc=0&ns_st_dbc=0&ns_st_dbt=0&ns_st_skc=0&ns_st_dskc=0&ns_st_ska=0&ns_st_dska=0&ns_st_skd=0&ns_st_skt=0&ns_st_dskt=0&ns_st_dpc=0&ns_st_rt=100&ns_st_ki=1200000&ns_st_sn=*null&ns_st_en=*null&ns_st_ct=vc00&ns_st_pu=ALLRECIPES&cs_sub=sb&cs_st=NJ&cs_dnt=1&cs_al=en-US%2cen%3bq%3d0.5&&cs_metro_code=501&cs_reg=NJ&cs_ec=US&cs_boc=0&Ak_hh=F6285C1A7CE8740C94632512700940DB&ns_st_ow=ALLRECIPES&cs_stacked=-1&stack_id=-1&orig_ts=0.0                        |\n",
      "|/p2?C1=23&C2=7241469&C3=*null&C4=yahoobrx&C5=va11&C6=ad&C7=https%3A%2F%2Fwww.yahoo.com%2F&C9=none&C10=1-1&NS_ST_AD=1&NS_ST_BP=0&NS_ST_BR=0&NS_ST_BT=0&NS_ST_CI=a987437_4211115&NS_ST_CL=15000&NS_ST_CN=1&NS_ST_CS=640x360&NS_ST_CU=none&NS_ST_EC=1&NS_ST_EP=ad&NS_ST_EV=PLAY&NS_ST_ID=1573826913485_1&NS_ST_MP=f&NS_ST_MV=7.86.875.1573759827&NS_ST_PB=1&NS_ST_PL=%27the%20report%3a%27%20adam%20driver%20on%20joining%20the%20marines%20after%209%2f11%20and%20the%20military%27s%20stance%20against%20torture&NS_ST_PN=1&NS_ST_PO=0&NS_ST_PR=ad&NS_ST_SP=1&NS_ST_SQ=1&NS_ST_SV=4.1505.18&NS_ST_TP=1&NS_ST_TY=ad%20pre-roll&NS_ST_UB=0&NS_ST_VO=0&NS_TS=1573826914373&ns_site=yahoo-video&ns_st_it=c&ns_st_ct=va11&y_lms=a0a0W00000Dr1ZKQAZ&y_sp=https&y_stype=hls&y_st=yahoo.com&y_rg=us&y_lc=onProp&y_pb=none&y_pid=video_yahooentertainment_com_77&y_lbl=none&y_art=none&y_pvid=dcffe808-68c6-34cc-ba19-5438aad1d2ba&y_s=2023538075&y_ap=1&cs_sub=sb&cs_st=NJ&cs_dnt=1&cs_al=en-US%2cen%3bq%3d0.5&&cs_metro_code=501&cs_reg=NJ&cs_ec=US&cs_boc=0&Ak_hh=F6285C1A7CE8740C94632512700940DB&cs_stacked=0&cs_identifier=3065&cs_stack_id=2eee2eb3fcf40e8c95d78ed992e6c375&stack_id=725914null00000003065&ns_st_pt=0.0&orig_ts=0.0                                                                                                                                                                                                                                                                                                                                                                                                                                                                                                                                                                                                                                                                                                                                       |\n",
      "|/p2?C1=23&C2=6036305&C3=ALLRECIPES&C4=*null&C5=va11&C6=*null&C7=https%3A%2F%2Fwww.allrecipes.com%2Fvideo%2F9472%2Fparty-punch-iii%2F%3FinternalSource%3Dpicture_play%26referringId%3D46659%26referringContentType%3DRecipe&C8=Party%20Punch%20III%20Video%20-%20Allrecipes.com&C9=https%3A%2F%2Fwww.allrecipes.com%2Frecipe%2F46659%2Fparty-punch-iii%2F&C10=1-1&NS_ST_AD=pre-roll&NS_ST_BP=0&NS_ST_BR=0&NS_ST_BT=0&NS_ST_CI=16e703d4395&NS_ST_CL=30037.333&NS_ST_CN=2&NS_ST_CS=0x0&NS_ST_EC=4&NS_ST_EL=0&NS_ST_EP=&NS_ST_EV=PLAY&NS_ST_ID=1573841091085&NS_ST_MP=brightcove&NS_ST_MV=6.34.3&NS_ST_PA=623&NS_ST_PC=0&NS_ST_PL=party%20punch%20iii&NS_ST_PN=1&NS_ST_PO=0&NS_ST_PP=1&NS_ST_PR=*null&NS_ST_PT=0.0&NS_ST_SP=1&NS_ST_SQ=1&NS_ST_ST=*null&NS_ST_SV=6.1.0.170130&NS_ST_TP=1&NS_ST_TY=video&NS_ST_UB=0&NS_ST_VO=100&NS_ST_WS=norm&NS_TS=1573841093526&ns_ap_pn=js&ns_ap_pfm=html&ns_st_pv=1.5.1.190515&ns_st_smv=5.8&ns_st_it=c&ns_st_sc=1&ns_st_psq=2&ns_st_asq=1&ns_st_ppc=1&ns_st_apc=1&ns_st_spc=1&ns_st_dpt=0&ns_st_ipt=0&ns_st_et=0&ns_st_det=0&ns_st_upc=0&ns_st_dupc=0&ns_st_iupc=0&ns_st_upa=0&ns_st_dupa=0&ns_st_iupa=0&ns_st_lpc=0&ns_st_dlpc=0&ns_st_lpa=0&ns_st_dlpa=0&ns_st_bc=0&ns_st_dbc=0&ns_st_dbt=0&ns_st_skc=0&ns_st_dskc=0&ns_st_ska=0&ns_st_dska=0&ns_st_skd=0&ns_st_skt=0&ns_st_dskt=0&ns_st_dpc=0&ns_st_rt=100&ns_st_ki=1200000&ns_st_sn=*null&ns_st_en=*null&ns_st_ct=va11&ns_st_pu=ALLRECIPES&ns_st_ami=af2f5481-adcb-4c53-b43c-7e4c55fa7443&ns_st_amt=Video_VID_Great%20Big%20Story_Video_PreRoll_Meredith_30s_OPTG_IVD_dCPM_IVNA_IDNA&ns_st_ams=ima&cs_sub=sb&cs_st=NJ&cs_dnt=1&cs_al=en-US%2cen%3bq%3d0.5&&cs_metro_code=501&cs_reg=NJ&cs_ec=US&cs_boc=0&Ak_hh=F6285C1A7CE8740C94632512700940DB&ns_st_ow=ALLRECIPES&cs_stacked=-1&stack_id=-1&orig_ts=0.0                                                                                                                                                                         |\n",
      "|/p2?C1=23&C2=3000013&C5=vc00&C6=*null&C7=https%3A%2F%2Fwww.tmz.com%2F2019%2F11%2F14%2Fmark-cuban-president-race-trump%2F&C8=My%20Family%20Voted%20It%20Down&C9=https%3A%2F%2Fwww.tmz.com%2F2019%2F11%2F14%2Fmark-cuban-president-race-trump%2F&C10=2-0&NS_ST_BP=12&NS_ST_BR=0&NS_ST_BT=0&NS_ST_CI=&NS_ST_CL=64941&NS_ST_CN=2&NS_ST_CS=1440x1080&NS_ST_CU=https%3a%2f%2fcdnapisec.kaltura.com%2fp%2f591531%2fsp%2f59153100%2fplaymanifest%2fentryid%2f0_5jgy8ghh%2fformat%2fdownload%2fprotocol%2fhttps%2fflavorparamids%2f0&NS_ST_EC=3&NS_ST_EP=*null&NS_ST_EV=PLAY&NS_ST_GE=&NS_ST_ID=1573778269591&NS_ST_MP=kaltura&NS_ST_MV=2.79.1&NS_ST_PA=29855&NS_ST_PC=0&NS_ST_PL=mark%20cuban%20considered%20running%20for%20president%20but%20%27my%20family%20voted%20it%20down%27&NS_ST_PN=2&NS_ST_PO=0&NS_ST_PP=0&NS_ST_PR=&NS_ST_PT=0.0&NS_ST_SP=1&NS_ST_SQ=1&NS_ST_ST=*null&NS_ST_SV=6.1.0.170130&NS_ST_TP=0&NS_ST_TY=audio&NS_ST_UB=0&NS_ST_VO=75&NS_TS=1573778305965&ns_st_pv=1.3.0.170908&ns_st_smv=5.8&ns_st_it=c&ns_st_sc=1&ns_st_psq=2&ns_st_asq=1&ns_st_ppc=1&ns_st_apc=1&ns_st_spc=1&ns_st_dpt=0&ns_st_ipt=0&ns_st_et=0&ns_st_det=0&ns_st_upc=0&ns_st_dupc=0&ns_st_iupc=0&ns_st_upa=0&ns_st_dupa=0&ns_st_iupa=0&ns_st_lpc=0&ns_st_dlpc=0&ns_st_lpa=0&ns_st_dlpa=0&ns_st_bc=0&ns_st_dbc=0&ns_st_dbt=0&ns_st_skc=0&ns_st_dskc=0&ns_st_ska=0&ns_st_dska=0&ns_st_skd=0&ns_st_skt=0&ns_st_dskt=0&ns_st_dpc=0&ns_st_rt=100&ns_st_ki=1200000&ns_st_sn=*null&ns_st_en=*null&ns_st_ct=vc00&ns_st_pu=nbc&cs_sub=sb&cs_st=NJ&cs_al=en-us&cs_metro_code=501&cs_reg=NJ&cs_ec=US&cs_boc=0&Ak_hh=702966B26E3337B95970245A4550A673&ns_st_ep_orig=*null&ns_st_pr_orig=&ns_st_pu_orig=nbc&ns_st_ow=nbc&cs_stacked=-1&stack_id=-1&orig_ts=0.0                                                                                                                                                                                                                                       |\n",
      "|/p2?C1=23&C2=6036305&C3=ALLRECIPES&C4=*null&C5=vc00&C6=*null&C7=https%3A%2F%2Fwww.allrecipes.com%2Fvideo%2F9472%2Fparty-punch-iii%2F%3FinternalSource%3Dpicture_play%26referringId%3D46659%26referringContentType%3DRecipe&C8=Party%20Punch%20III%20Video%20-%20Allrecipes.com&C9=https%3A%2F%2Fwww.allrecipes.com%2Frecipe%2F46659%2Fparty-punch-iii%2F&C10=1-0&NS_ST_BP=0&NS_ST_BR=0&NS_ST_BT=0&NS_ST_CI=6044946740001&NS_ST_CL=24875&NS_ST_CN=2&NS_ST_CS=0x0&NS_ST_CU=https%3a%2f%2fmanifest.prod.boltdns.net%2fmanifest%2fv1%2fhls%2fv4%2fclear%2f1033249144001%2f2cf703a6-3a75-4d92-808e-8af53ca174d9%2f10s%2fmaster.m3u8%3ffastly_token%3dnwrkmthlytvfnmm0ztc4ntfinddmytgyymi0yziyytlimze1ntvmoti4mtc0ntk3otkyymfmmgq0yjyzmwrlmdzkntcymzfioa%253d%253d&NS_ST_EC=3&NS_ST_EL=24875&NS_ST_EP=party%20punch%20iii&NS_ST_EV=PLAY&NS_ST_ID=1573841274532&NS_ST_MP=brightcove&NS_ST_MV=6.34.3&NS_ST_PA=29897&NS_ST_PC=0&NS_ST_PL=party%20punch%20iii&NS_ST_PN=1&NS_ST_PO=0&NS_ST_PP=0&NS_ST_PR=*null&NS_ST_PT=0.0&NS_ST_SP=1&NS_ST_SQ=1&NS_ST_ST=*null&NS_ST_SV=6.1.0.170130&NS_ST_TP=0&NS_ST_TY=video&NS_ST_UB=0&NS_ST_VO=0&NS_ST_WS=norm&NS_TS=1573841307791&ns_ap_pn=js&ns_ap_pfm=html&ns_st_pv=1.5.1.190515&ns_st_smv=5.8&ns_st_it=c&ns_st_sc=1&ns_st_psq=2&ns_st_asq=1&ns_st_ppc=1&ns_st_apc=1&ns_st_spc=1&ns_st_dpt=0&ns_st_ipt=0&ns_st_et=0&ns_st_det=0&ns_st_upc=0&ns_st_dupc=0&ns_st_iupc=0&ns_st_upa=0&ns_st_dupa=0&ns_st_iupa=0&ns_st_lpc=0&ns_st_dlpc=0&ns_st_lpa=0&ns_st_dlpa=0&ns_st_bc=0&ns_st_dbc=0&ns_st_dbt=0&ns_st_skc=0&ns_st_dskc=0&ns_st_ska=0&ns_st_dska=0&ns_st_skd=0&ns_st_skt=0&ns_st_dskt=0&ns_st_dpc=0&ns_st_rt=100&ns_st_ki=1200000&ns_st_sn=*null&ns_st_en=*null&ns_st_ct=vc00&ns_st_pu=ALLRECIPES&cs_sub=sb&cs_st=NJ&cs_dnt=1&cs_al=en-US%2cen%3bq%3d0.5&&cs_metro_code=501&cs_reg=NJ&cs_ec=US&cs_boc=0&Ak_hh=F6285C1A7CE8740C94632512700940DB&ns_st_ow=ALLRECIPES&cs_stacked=-1&stack_id=-1&orig_ts=0.0                                 |\n",
      "|/p2?C1=23&C2=6036305&C3=ALLRECIPES&C4=*null&C5=va11&C6=*null&C7=https%3A%2F%2Fwww.allrecipes.com%2Fvideo%2F9472%2Fparty-punch-iii%2F%3FinternalSource%3Dpicture_play%26referringId%3D46659%26referringContentType%3DRecipe&C8=Party%20Punch%20III%20Video%20-%20Allrecipes.com&C9=https%3A%2F%2Fwww.allrecipes.com%2Frecipe%2F46659%2Fparty-punch-iii%2F&C10=1-1&NS_ST_AD=pre-roll&NS_ST_BP=0&NS_ST_BR=0&NS_ST_BT=0&NS_ST_CI=16e70401156&NS_ST_CL=30000&NS_ST_CN=1&NS_ST_CS=0x0&NS_ST_EC=1&NS_ST_EL=0&NS_ST_EP=&NS_ST_EV=PLAY&NS_ST_ID=1573841274532&NS_ST_MP=brightcove&NS_ST_MV=6.34.3&NS_ST_PA=0&NS_ST_PB=1&NS_ST_PC=0&NS_ST_PL=party%20punch%20iii&NS_ST_PN=1&NS_ST_PO=0&NS_ST_PP=0&NS_ST_PR=*null&NS_ST_PT=0.0&NS_ST_SP=1&NS_ST_SQ=1&NS_ST_ST=*null&NS_ST_SV=6.1.0.170130&NS_ST_TP=1&NS_ST_TY=video&NS_ST_UB=0&NS_ST_VO=0&NS_ST_WS=norm&NS_TS=1573841277271&ns_ap_pn=js&ns_ap_pfm=html&ns_st_pv=1.5.1.190515&ns_st_smv=5.8&ns_st_it=c&ns_st_sc=1&ns_st_psq=1&ns_st_asq=1&ns_st_ppc=1&ns_st_apc=1&ns_st_spc=1&ns_st_dpt=0&ns_st_ipt=0&ns_st_et=0&ns_st_det=0&ns_st_upc=0&ns_st_dupc=0&ns_st_iupc=0&ns_st_upa=0&ns_st_dupa=0&ns_st_iupa=0&ns_st_lpc=0&ns_st_dlpc=0&ns_st_lpa=0&ns_st_dlpa=0&ns_st_bc=0&ns_st_dbc=0&ns_st_dbt=0&ns_st_lt=2738&ns_st_skc=0&ns_st_dskc=0&ns_st_ska=0&ns_st_dska=0&ns_st_skd=0&ns_st_skt=0&ns_st_dskt=0&ns_st_dpc=0&ns_st_rt=100&ns_st_ki=1200000&ns_st_sn=*null&ns_st_en=*null&ns_st_ct=va11&ns_st_pu=ALLRECIPES&ns_st_ami=moat_ad&ns_st_amt=257301317_10232019&ns_st_ams=ima&cs_sub=sb&cs_st=NJ&cs_dnt=1&cs_al=en-US%2cen%3bq%3d0.5&&cs_metro_code=501&cs_reg=NJ&cs_ec=US&cs_boc=0&Ak_hh=F6285C1A7CE8740C94632512700940DB&ns_st_ow=ALLRECIPES&cs_stacked=-1&stack_id=-1&orig_ts=0.0                                                                                                                                                                                                                                                   |\n",
      "|/p2?C1=23&C2=7241469&C3=*null&C4=US%20entertainment&C5=va11&C6=ad&C7=https%3A%2F%2Fwww.yahoo.com%2Fentertainment%2Faaron-carter-hospitalized-amid-ongoing-personal-issues-220625051.html&C8=Aaron%20Carter%27s%20health%20takes%20a%20turn%20for%20the%20worse%20The%20%22I%20Want%20Candy%22%20singer,%2031,%20shared%20a%20photo%20from%20the%20hospital%20on%20Thursday.%20He%20looked%20worse%20for%20wear%20in%20bed%20with%20an%20IV%20bag%20and%20other%20medical%20paraphernalia%20around%20him.%20%27I%20deserve%20more%27%C2%A0%C2%BB&C9=https%3A%2F%2Fwww.yahoo.com%2F&C10=1-1&NS_ST_AD=1&NS_ST_BP=0&NS_ST_BR=0&NS_ST_BT=0&NS_ST_CI=a1174204_4410131&NS_ST_CL=15000&NS_ST_CN=1&NS_ST_CS=640x360&NS_ST_CU=none&NS_ST_EC=1&NS_ST_EP=ad&NS_ST_EV=PLAY&NS_ST_ID=1573826914955_1&NS_ST_MP=f&NS_ST_MV=7.86.875.1573759827&NS_ST_PB=1&NS_ST_PL=aaron%20carter%20shares%20instagram%20photo%20of%20himself%20in%20a%20hospital%20bed&NS_ST_PN=1&NS_ST_PO=0&NS_ST_PR=ad&NS_ST_SP=1&NS_ST_SQ=1&NS_ST_SV=4.1505.18&NS_ST_TP=1&NS_ST_TY=ad%20pre-roll&NS_ST_UB=0&NS_ST_VO=0&NS_TS=1573826917704&ns_site=yahoo-video&ns_st_it=c&ns_st_ct=va11&y_lms=a0ad000000BZymAAAT&y_sp=https&y_stype=hls&y_st=entertainment&y_rg=us&y_lc=onProp&y_pb=none&y_pid=video.people.time.com&y_lbl=none&y_art=none&y_pvid=ac702590-0f97-360e-914e-6d8d4752f1ce&y_s=1197800334&y_ap=1&cs_sub=sb&cs_st=NJ&cs_dnt=1&cs_al=en-US%2cen%3bq%3d0.5&&cs_metro_code=501&cs_reg=NJ&cs_ec=US&cs_boc=0&Ak_hh=F6285C1A7CE8740C94632512700940DB&cs_stacked=0&cs_identifier=3076&cs_stack_id=e8937d5b76846d23f82b98d0b54b5992&stack_id=725914null00000003076&ns_st_pt=0.0&orig_ts=0.0                                                                                                                                                                                                                                                                                                                     |\n",
      "|/p2?C1=23&C2=7241469&C3=*null&C4=US%20fp&C5=vc11&C6=YAHOOFOXNEWS&C7=https%3A%2F%2Fwww.yahoo.com%2F&C8=Yahoo&C10=1-1&NS_ST_BP=0&NS_ST_BR=0&NS_ST_BT=0&NS_ST_CI=40055827-c0e7-342a-8485-de100c9e4063&NS_ST_CL=67000&NS_ST_CN=1&NS_ST_CS=401x226&NS_ST_CU=https%3a%2f%2fwww.yahoo.com%2f&NS_ST_EC=1&NS_ST_EP=fox%20news&NS_ST_EV=PLAY&NS_ST_GE=none&NS_ST_ID=1573846900392_1&NS_ST_MP=f&NS_ST_MV=7.86.871.1571807823&NS_ST_PB=1&NS_ST_PL=police%20find%2026%20children%20behind%20false%20wall%20at%20colorado%20day%20care&NS_ST_PN=1&NS_ST_PO=0&NS_ST_PR=police%20find%2026%20children%20behind%20false%20wall%20at%20colorado%20day%20care&NS_ST_SP=1&NS_ST_SQ=1&NS_ST_ST=*null&NS_ST_SV=4.1505.18&NS_ST_TP=1&NS_ST_TY=vod%20short&NS_ST_UB=0&NS_ST_VO=0&NS_TS=1573846901043&ns_site=yahoo-video&ns_st_it=c&ns_st_ct=vc11&ns_st_pu=*null&y_lms=a0770000002lmbdAAA&y_sp=https&y_stype=hls&y_st=frontpage&y_rg=us&y_lc=onProp&y_pb=none&ns_st_sn=*null&ns_st_en=*null&ns_st_ce=0&ns_st_ddt=*null&ns_st_tdt=*null&ns_st_ia=0&y_pid=video.fbc.news.com&y_lbl=none&y_art=none&y_pvid=c52d9bbb-aa79-37e2-9797-e8096be5e35e&y_s=2023538075&y_c=edgecast&y_ap=1&cs_sub=sb&cs_st=NJ&cs_dnt=1&cs_al=en-US%2cen%3bq%3d0.5&&cs_metro_code=501&cs_reg=NJ&cs_ec=US&cs_boc=0&Ak_hh=F6285C1A7CE8740C94632512700940DB&cs_stacked=0&cs_identifier=7455&cs_stack_id=d76684c2e4a761ce42b3c90da8008728&ns_st_ow=*null&stack_id=725919null00000007455&ns_st_pt=0.0&orig_ts=0.0                                                                                                                                                                                                                                                                                                                                                                                                                                                                                                               |\n",
      "|/p2?C1=23&C2=6036305&C3=ALLRECIPES&C4=*null&C5=vc00&C6=*null&C7=https%3A%2F%2Fwww.allrecipes.com%2Fvideo%2F2642%2Fretro-cocktail-party%2F&C8=Retro%20Cocktail%20Party%20Video%20-%20Allrecipes.com&C9=https%3A%2F%2Fwww.allrecipes.com%2Fvideo%2F9472%2Fparty-punch-iii%2F%3FinternalSource%3Dpicture_play%26referringId%3D46659%26referringContentType%3DRecipe&C10=1-0&NS_ST_BP=2021&NS_ST_BR=0&NS_ST_BT=2021&NS_ST_CI=1924838347001&NS_ST_CL=130530&NS_ST_CN=2&NS_ST_CS=0x0&NS_ST_CU=https%3a%2f%2fmanifest.prod.boltdns.net%2fmanifest%2fv1%2fhls%2fv4%2fclear%2f1033249144001%2fd8bbf881-169a-4820-91a9-5df2d39715c2%2f10s%2fmaster.m3u8%3ffastly_token%3dnwrkmthmn2jfmdu2ogvkm2iyywjkn2iwzwmyy2yxmwzkmta2zdgyodq1mza4mwuzownjmjmzmdhjnda4y2vjyjrhymrkntfmnq%253d%253d&NS_ST_EC=3&NS_ST_EL=130530&NS_ST_EP=retro%20cocktail%20party&NS_ST_EV=PLAY&NS_ST_ID=1573841181719&NS_ST_MP=brightcove&NS_ST_MV=6.34.3&NS_ST_PA=30005&NS_ST_PC=0&NS_ST_PL=retro%20cocktail%20party&NS_ST_PN=1&NS_ST_PO=14001&NS_ST_PP=0&NS_ST_PR=*null&NS_ST_PT=0.0&NS_ST_SP=1&NS_ST_SQ=1&NS_ST_ST=*null&NS_ST_SV=6.1.0.170130&NS_ST_TP=0&NS_ST_TY=video&NS_ST_UB=0&NS_ST_VO=0&NS_ST_WS=norm&NS_TS=1573841235017&ns_ap_pn=js&ns_ap_pfm=html&ns_st_pv=1.5.1.190515&ns_st_smv=5.8&ns_st_it=c&ns_st_sc=1&ns_st_psq=2&ns_st_asq=1&ns_st_ppc=1&ns_st_apc=1&ns_st_spc=1&ns_st_dpt=0&ns_st_ipt=0&ns_st_et=0&ns_st_det=0&ns_st_upc=0&ns_st_dupc=0&ns_st_iupc=0&ns_st_upa=0&ns_st_dupa=0&ns_st_iupa=0&ns_st_lpc=0&ns_st_dlpc=0&ns_st_lpa=0&ns_st_dlpa=0&ns_st_bc=0&ns_st_dbc=0&ns_st_dbt=2021&ns_st_skc=0&ns_st_dskc=0&ns_st_ska=0&ns_st_dska=0&ns_st_skd=0&ns_st_skt=0&ns_st_dskt=0&ns_st_dpc=0&ns_st_rt=100&ns_st_ki=1200000&ns_st_sn=*null&ns_st_en=*null&ns_st_ct=vc00&ns_st_pu=ALLRECIPES&cs_sub=sb&cs_st=NJ&cs_dnt=1&cs_al=en-US%2cen%3bq%3d0.5&&cs_metro_code=501&cs_reg=NJ&cs_ec=US&cs_boc=0&Ak_hh=F6285C1A7CE8740C94632512700940DB&ns_st_ow=ALLRECIPES&cs_stacked=-1&stack_id=-1&orig_ts=0.0|\n",
      "+-----------------------------------------------------------------------------------------------------------------------------------------------------------------------------------------------------------------------------------------------------------------------------------------------------------------------------------------------------------------------------------------------------------------------------------------------------------------------------------------------------------------------------------------------------------------------------------------------------------------------------------------------------------------------------------------------------------------------------------------------------------------------------------------------------------------------------------------------------------------------------------------------------------------------------------------------------------------------------------------------------------------------------------------------------------------------------------------------------------------------------------------------------------------------------------------------------------------------------------------------------------------------------------------------------------------------------------------------------------------------------------------------------------------------------------------------------------------------------------------------------------------------------------------------------------------------------------------------------------------------------------------------------------------------------------------------------------------------------------------------------------------------------------------------------------------------------------------------------------------------------------------------------------------------------------------------------------------------+\n",
      "only showing top 20 rows\n",
      "\n"
     ]
    }
   ],
   "source": [
    "prod.select('url').show(20, False)"
   ]
  },
  {
   "cell_type": "code",
   "execution_count": 63,
   "metadata": {
    "ExecuteTime": {
     "end_time": "2019-12-09T03:06:34.606079Z",
     "start_time": "2019-12-09T03:06:34.596733Z"
    }
   },
   "outputs": [],
   "source": [
    "def get_details(df):\n",
    "    r = {}\n",
    "    r['country_content_type_dur_sum'] = df.groupBy(['country', 'content_type']).agg(F.sum('duration'))\n",
    "    r['country_content_type_count'] = df.groupBy(['country', 'content_type']).count()\n",
    "    r['country_countent_type_pattern_number'] = df.groupBy(['country', 'content_type']).agg(F.countDistinct('pattern_id'))\n",
    "    r['is_nht_detail'] = df.select('is_nht').describe()\n",
    "    r['video_id_detail'] = df.select('video_id').describe()\n",
    "    r['birth_of_cookie_detail'] = df.select('boc').describe()\n",
    "    r['nsak_detail'] = df.select('ns_ak_d_vce').describe()\n",
    "    r['source_detail'] = df.select(['source_title_no','source_owner_no', 'source_genre_no']).describe()\n",
    "    return r"
   ]
  },
  {
   "cell_type": "code",
   "execution_count": 64,
   "metadata": {
    "ExecuteTime": {
     "end_time": "2019-12-09T03:21:11.751110Z",
     "start_time": "2019-12-09T03:06:35.328419Z"
    }
   },
   "outputs": [],
   "source": [
    "test_result = get_details(test)"
   ]
  },
  {
   "cell_type": "code",
   "execution_count": 66,
   "metadata": {
    "ExecuteTime": {
     "end_time": "2019-12-09T03:26:20.159322Z",
     "start_time": "2019-12-09T03:23:45.652940Z"
    }
   },
   "outputs": [
    {
     "name": "stdout",
     "output_type": "stream",
     "text": [
      "+-------+------------+-------------+\n",
      "|country|content_type|sum(duration)|\n",
      "+-------+------------+-------------+\n",
      "|     GU|        vc22|    839736000|\n",
      "|     WS|        vc23|     53868000|\n",
      "|     LC|        va21|      3512132|\n",
      "|     BM|        va21|     12031441|\n",
      "|     BY|        vc23| 308943083966|\n",
      "|     VC|        vc22|     36074000|\n",
      "|     CM|        vc22|     14245000|\n",
      "|     PR|        va11|      3140003|\n",
      "|     GG|        vc22|    378478002|\n",
      "|     GI|        vc23|   1967840001|\n",
      "|     SV|        va21|     78265060|\n",
      "|     MT|        vc23|  11192191002|\n",
      "|     PF|        vc23|   1992552002|\n",
      "|     UG|        vc22|     23271003|\n",
      "|     AE|        va11|        22000|\n",
      "|     NO|        vc22|  27096053040|\n",
      "|     MY|        va11|     12324114|\n",
      "|     A1|        vc23|   1755404000|\n",
      "|     SR|        vc22|    142153000|\n",
      "|     CO|        vc23| 202973165712|\n",
      "+-------+------------+-------------+\n",
      "only showing top 20 rows\n",
      "\n"
     ]
    }
   ],
   "source": [
    "test_result['country_content_type_dur_sum'].show()"
   ]
  },
  {
   "cell_type": "code",
   "execution_count": 67,
   "metadata": {
    "ExecuteTime": {
     "end_time": "2019-12-09T03:30:49.142960Z",
     "start_time": "2019-12-09T03:27:55.068371Z"
    }
   },
   "outputs": [
    {
     "name": "stdout",
     "output_type": "stream",
     "text": [
      "+-------+------------+------+\n",
      "|country|content_type| count|\n",
      "+-------+------------+------+\n",
      "|     GU|        vc22|   514|\n",
      "|     WS|        vc23|    32|\n",
      "|     LC|        va21|    63|\n",
      "|     BM|        va21|   211|\n",
      "|     BY|        vc23|262777|\n",
      "|     CM|        vc22|    15|\n",
      "|     VC|        vc22|    47|\n",
      "|     GG|        vc22|   149|\n",
      "|     PR|        va11|    78|\n",
      "|     SV|        va21|  1863|\n",
      "|     MT|        vc23|  8877|\n",
      "|     PF|        vc23|  1557|\n",
      "|     GI|        vc23|  1357|\n",
      "|     UG|        vc22|    25|\n",
      "|     AE|        va11|     1|\n",
      "|     MY|        va11|   259|\n",
      "|     NO|        vc22| 13649|\n",
      "|     A1|        vc23|   831|\n",
      "|     SR|        vc22|   119|\n",
      "|     CO|        vc23|199939|\n",
      "+-------+------------+------+\n",
      "only showing top 20 rows\n",
      "\n"
     ]
    }
   ],
   "source": [
    "test_result['country_content_type_count'].show()"
   ]
  },
  {
   "cell_type": "code",
   "execution_count": 72,
   "metadata": {
    "ExecuteTime": {
     "end_time": "2019-12-09T03:53:04.404691Z",
     "start_time": "2019-12-09T03:52:45.687295Z"
    }
   },
   "outputs": [
    {
     "name": "stdout",
     "output_type": "stream",
     "text": [
      "+-------+------------+--------------------------+\n",
      "|country|content_type|count(DISTINCT pattern_id)|\n",
      "+-------+------------+--------------------------+\n",
      "|     WS|        vc23|                         1|\n",
      "|     LC|        va21|                         1|\n",
      "|     GU|        vc22|                         1|\n",
      "|     BM|        va21|                         1|\n",
      "|     VC|        vc22|                         1|\n",
      "|     BY|        vc23|                         1|\n",
      "|     CM|        vc22|                         1|\n",
      "|     PR|        va11|                         1|\n",
      "|     GG|        vc22|                         1|\n",
      "|     GI|        vc23|                         1|\n",
      "|     MT|        vc23|                         1|\n",
      "|     UG|        vc22|                         1|\n",
      "|     SV|        va21|                         1|\n",
      "|     AE|        va11|                         1|\n",
      "|     PF|        vc23|                         1|\n",
      "|     MY|        va11|                         1|\n",
      "|     SR|        vc22|                         1|\n",
      "|     NO|        vc22|                         1|\n",
      "|     A1|        vc23|                         1|\n",
      "|     MC|        vc22|                         1|\n",
      "+-------+------------+--------------------------+\n",
      "only showing top 20 rows\n",
      "\n"
     ]
    }
   ],
   "source": [
    "test_result['country_countent_type_pattern_number'].show()"
   ]
  },
  {
   "cell_type": "code",
   "execution_count": 73,
   "metadata": {
    "ExecuteTime": {
     "end_time": "2019-12-09T03:53:04.425282Z",
     "start_time": "2019-12-09T03:53:04.408863Z"
    }
   },
   "outputs": [
    {
     "name": "stdout",
     "output_type": "stream",
     "text": [
      "+-------+--------+\n",
      "|summary|  is_nht|\n",
      "+-------+--------+\n",
      "|  count|76525463|\n",
      "|   mean|     0.0|\n",
      "| stddev|     0.0|\n",
      "|    min|       0|\n",
      "|    max|       0|\n",
      "+-------+--------+\n",
      "\n"
     ]
    }
   ],
   "source": [
    "test_result['is_nht_detail'].show()"
   ]
  },
  {
   "cell_type": "code",
   "execution_count": 82,
   "metadata": {
    "ExecuteTime": {
     "end_time": "2019-12-09T04:05:34.810061Z",
     "start_time": "2019-12-09T04:05:34.792675Z"
    }
   },
   "outputs": [
    {
     "name": "stdout",
     "output_type": "stream",
     "text": [
      "+-------+---------------------+\n",
      "|summary|video_id             |\n",
      "+-------+---------------------+\n",
      "|count  |76525463             |\n",
      "|mean   |2.819288293854335E14 |\n",
      "|stddev |5.3246452407323689E18|\n",
      "|min    |-9223371982240939063 |\n",
      "|max    |9223371908799850607  |\n",
      "+-------+---------------------+\n",
      "\n"
     ]
    }
   ],
   "source": [
    "test_result['video_id_detail'].show(10, False)"
   ]
  },
  {
   "cell_type": "code",
   "execution_count": 75,
   "metadata": {
    "ExecuteTime": {
     "end_time": "2019-12-09T04:02:29.049381Z",
     "start_time": "2019-12-09T04:02:29.015545Z"
    }
   },
   "outputs": [
    {
     "name": "stdout",
     "output_type": "stream",
     "text": [
      "+-------+--------+\n",
      "|summary|     boc|\n",
      "+-------+--------+\n",
      "|  count|76525463|\n",
      "|   mean|     0.0|\n",
      "| stddev|     0.0|\n",
      "|    min|       0|\n",
      "|    max|       0|\n",
      "+-------+--------+\n",
      "\n"
     ]
    }
   ],
   "source": [
    "test_result['birth_of_cookie_detail'].show()"
   ]
  },
  {
   "cell_type": "code",
   "execution_count": 76,
   "metadata": {
    "ExecuteTime": {
     "end_time": "2019-12-09T04:03:14.305494Z",
     "start_time": "2019-12-09T04:03:14.265098Z"
    }
   },
   "outputs": [
    {
     "name": "stdout",
     "output_type": "stream",
     "text": [
      "+-------+---------------+---------------+---------------+\n",
      "|summary|source_title_no|source_owner_no|source_genre_no|\n",
      "+-------+---------------+---------------+---------------+\n",
      "|  count|       76525463|       76525463|       76525463|\n",
      "|   mean|            0.0|            0.0|            0.0|\n",
      "| stddev|            0.0|            0.0|            0.0|\n",
      "|    min|              0|              0|              0|\n",
      "|    max|              0|              0|              0|\n",
      "+-------+---------------+---------------+---------------+\n",
      "\n"
     ]
    }
   ],
   "source": [
    "test_result['source_detail'].show()"
   ]
  },
  {
   "cell_type": "code",
   "execution_count": 81,
   "metadata": {
    "ExecuteTime": {
     "end_time": "2019-12-09T04:05:19.378043Z",
     "start_time": "2019-12-09T04:05:19.359700Z"
    }
   },
   "outputs": [
    {
     "name": "stdout",
     "output_type": "stream",
     "text": [
      "+-------+----------------------------------------+\n",
      "|summary|ns_ak_d_vce                             |\n",
      "+-------+----------------------------------------+\n",
      "|count  |76525463                                |\n",
      "|mean   |null                                    |\n",
      "|stddev |null                                    |\n",
      "|min    |000006f8a725066651b14dd6b0bda8df2b0784e4|\n",
      "|max    |null                                    |\n",
      "+-------+----------------------------------------+\n",
      "\n"
     ]
    }
   ],
   "source": [
    "test_result['nsak_detail'].show(10,False)"
   ]
  },
  {
   "cell_type": "code",
   "execution_count": 89,
   "metadata": {
    "ExecuteTime": {
     "end_time": "2019-12-16T20:57:14.960316Z",
     "start_time": "2019-12-16T20:57:12.207888Z"
    }
   },
   "outputs": [
    {
     "name": "stdout",
     "output_type": "stream",
     "text": [
      "+---+----+--------------------+---+---------+--------+---+--------------+----------+---------+----+----+----+----+----+----+----+\n",
      "|_c0| _c1|                 _c2|_c3|      _c4|     _c5|_c6|           _c7|       _c8|      _c9|_c10|_c11|_c12|_c13|_c14|_c15|_c16|\n",
      "+---+----+--------------------+---+---------+--------+---+--------------+----------+---------+----+----+----+----+----+----+----+\n",
      "| 23|7271|$$cR6002238i66hhm...|  0|-26208573|70026707|  0|    46.18.62.2|1142692273|628265663| 0.0|   1|   0|  -1|  -1|  DE| 1.0|\n",
      "| 23|7271|$$cR6002238i66hhm...|  0|-25980830|70026707|  0|    46.18.62.2|1142692273|628265670| 0.0|   1|   0|  -1|  -1|  DE| 1.0|\n",
      "| 23|7271|$0H77m0k0D1n47hh5...|  0|-26208573|70134072|  0|93.218.169.170| 567235568|628282622| 0.0|   1|   0|  -1|  -1|  DE| 1.0|\n",
      "| 23|7271|$14s8802226185hhB...|  0|-25980830|70117889|  0| 62.251.54.105|3032286467|628273594| 0.0|   1|   0|  -1|  -1|  NL| 1.0|\n",
      "| 23|7271|$14s8802226185hhB...|  0|-25980830|70117889|  0| 62.251.54.105|3032286467|628291373| 0.0|   1|   0|  -1|  -1|  NL| 1.0|\n",
      "+---+----+--------------------+---+---------+--------+---+--------------+----------+---------+----+----+----+----+----+----+----+\n",
      "only showing top 5 rows\n",
      "\n"
     ]
    }
   ],
   "source": [
    "newColumns = [\n",
    "    'c1', 'playlist_id', 'clip_number', 'content_identifier', 'uid',\n",
    "    'pattern_id (dictionary not applied)', 'time_id', 'osid', 'iab',\n",
    "    'ip_address', 'ss2k_first', 'url', 'duration', 'ns_ak_d_vce', 'uid_hash',\n",
    "    'raw_duration', 'c2', 'country', 'is_nht', 'waterfall'\n",
    "]\n",
    "\n",
    "twitch_test_beacon_session = spark.read.format(\"csv\").option(\n",
    "    \"delimiter\", \"\\t\"\n",
    ").option(\"inferSchema\", \"true\").option(\"header\", \"false\").load(\n",
    "    \"/mapr/ia1.comscore.com/data/partitions/part_00000/beacon/monthly/239m/beacon_session/7271/c1=23/sorted_beacon_session_00000-10000\"\n",
    ")\n",
    "\n",
    "twitch_test_beacon_session.show(5)"
   ]
  },
  {
   "cell_type": "code",
   "execution_count": null,
   "metadata": {},
   "outputs": [],
   "source": [
    "twitch_test_beacon_session = spark.read.format(\"csv\").option(\n",
    "    \"delimiter\", \"\\t\"\n",
    ").option(\"inferSchema\", \"true\").option(\"header\", \"false\").load(\n",
    "    \"/mapr/ia1.comscore.com/data/partitions/part_00000/beacon/monthly/239m/beacon_session/7271/c1=23/sorted_beacon_session_00000-10000\"\n",
    ")\n",
    "\n",
    "# Assign Column Hearders\n",
    "oldColumns = twitch_test_beacon_session.schema.names\n",
    "\n",
    "newColumns = [\n",
    "    'c1', 'playlist_id', 'clip_number', 'content_identifier', 'uid',\n",
    "    'pattern_id (dictionary not applied)', 'time_id', 'osid', 'iab',\n",
    "    'ip_address', 'ss2k_first', 'url', 'duration', 'ns_ak_d_vce', 'uid_hash',\n",
    "    'raw_duration', 'c2', 'country', 'is_nht', 'waterfall'\n",
    "]\n",
    "\n",
    "twitch_test_beacon_session = reduce(\n",
    "    lambda twitch_test_beacon_session, idx: twitch_test_beacon_session.\n",
    "    withColumnRenamed(oldColumns[idx], newColumns[idx]),\n",
    "    range(len(oldColumns)), twitch_test_beacon_session)\n",
    "twitch_test_beacon_session.printSchema()"
   ]
  }
 ],
 "metadata": {
  "kernelspec": {
   "display_name": "Python 2",
   "language": "python",
   "name": "python2"
  },
  "language_info": {
   "codemirror_mode": {
    "name": "ipython",
    "version": 2
   },
   "file_extension": ".py",
   "mimetype": "text/x-python",
   "name": "python",
   "nbconvert_exporter": "python",
   "pygments_lexer": "ipython2",
   "version": "2.7.16"
  }
 },
 "nbformat": 4,
 "nbformat_minor": 2
}
