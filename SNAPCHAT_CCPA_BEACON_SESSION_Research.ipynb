{
 "cells": [
  {
   "cell_type": "code",
   "execution_count": 1,
   "metadata": {
    "ExecuteTime": {
     "end_time": "2020-02-03T16:30:48.033215Z",
     "start_time": "2020-02-03T16:30:12.813774Z"
    }
   },
   "outputs": [],
   "source": [
    "import findspark\n",
    "findspark.init()\n",
    "from pyspark.sql.functions import col\n",
    "from pyspark.sql import functions as F\n",
    "import pandas as pd\n",
    "import pyspark\n",
    "from pyspark.sql import SparkSession\n",
    "\n",
    "from functools import reduce\n",
    "\n",
    "spark = (\n",
    "    SparkSession.builder.appName('yxing_qa_test').master('yarn-client').config(\n",
    "        'spark.executor.memory', '28g').config('spark.cores.max', '10').config(\n",
    "            'spark.driver.memory',\n",
    "            '10g').config('spark.shuffle.consolidateFiles').config(\n",
    "                'spark.executor.instances',\n",
    "                '20').config('spark.yarn.queue',\n",
    "                             'root.digital.heavy').getOrCreate())\n",
    "sc = spark.sparkContext"
   ]
  },
  {
   "cell_type": "code",
   "execution_count": 2,
   "metadata": {
    "ExecuteTime": {
     "end_time": "2020-02-03T16:30:52.709737Z",
     "start_time": "2020-02-03T16:30:52.701713Z"
    }
   },
   "outputs": [],
   "source": [
    "month_id = '239'\n",
    "test_bs_path = \"/mapr/ia1.comscore.com/data/partitions/*/beacon/monthly/\" + month_id + \\\n",
    "\"m/tag_5952_snap_testing/beacon_session/*/c1=19\"\n",
    "prod_bs_path = \"/mapr/ia1.comscore.com/data/partitions/*/beacon/monthly/\" + month_id + \\\n",
    "\"m/beacon_session/*/c1=19/beacon_session-00000-10000\"\n",
    "\n",
    "test_schema = [\n",
    "    'date', 'app_version', 'country', 'device_model', 'hashed_idfa', 'os_type',\n",
    "    'os_version', 'publisher_id', 'total_snap_view', 'edition_view_count',\n",
    "    'total_time_viewed', 'snap_created_id'\n",
    "]\n",
    "\n",
    "prod_schema = [\n",
    "    'c1', 'c2', 'uid', 'pattern_id', 'time_id', 'hits', 'start_ss2k',\n",
    "    'duration', 'session_id', 'ip', 'os', 'bt', 'dist_ss2k', 'pages', 'iab',\n",
    "    'akamai_id', 'ua_hash', 'ns'\n",
    "]"
   ]
  },
  {
   "cell_type": "code",
   "execution_count": 3,
   "metadata": {
    "ExecuteTime": {
     "end_time": "2020-02-03T23:04:32.654756Z",
     "start_time": "2020-02-03T16:30:57.953472Z"
    }
   },
   "outputs": [],
   "source": [
    "test_bs = spark.read.format('csv').option(\"delimiter\", '\\t').option(\"inferSchema\", \"true\").load(test_bs_path).toDF(*prod_schema)"
   ]
  },
  {
   "cell_type": "code",
   "execution_count": null,
   "metadata": {
    "ExecuteTime": {
     "end_time": "2020-02-03T16:29:48.551781Z",
     "start_time": "2020-02-03T15:59:15.891Z"
    }
   },
   "outputs": [],
   "source": [
    "prod_bs = spark.read.format('csv').option(\"delimiter\", '\\t').option(\"inferSchema\", \"true\").load(prod_bs_path).toDF(*prod_schema)"
   ]
  },
  {
   "cell_type": "code",
   "execution_count": 4,
   "metadata": {
    "ExecuteTime": {
     "end_time": "2020-02-04T00:42:17.019907Z",
     "start_time": "2020-02-03T23:50:26.523633Z"
    }
   },
   "outputs": [
    {
     "data": {
      "text/plain": [
       "58106806506"
      ]
     },
     "execution_count": 4,
     "metadata": {},
     "output_type": "execute_result"
    }
   ],
   "source": [
    "test_bs.count()"
   ]
  },
  {
   "cell_type": "code",
   "execution_count": null,
   "metadata": {
    "ExecuteTime": {
     "end_time": "2020-02-03T16:29:48.554307Z",
     "start_time": "2020-02-03T15:59:17.597Z"
    }
   },
   "outputs": [],
   "source": [
    "prod_bs.count()"
   ]
  },
  {
   "cell_type": "code",
   "execution_count": 17,
   "metadata": {
    "ExecuteTime": {
     "end_time": "2020-01-23T21:58:29.946996Z",
     "start_time": "2020-01-23T21:58:29.861914Z"
    }
   },
   "outputs": [],
   "source": [
    "test_prod = test_bs.join(prod_bs, prod_schema, how = 'inner')"
   ]
  },
  {
   "cell_type": "code",
   "execution_count": 18,
   "metadata": {
    "ExecuteTime": {
     "end_time": "2020-01-23T21:59:06.431489Z",
     "start_time": "2020-01-23T21:58:41.934926Z"
    }
   },
   "outputs": [
    {
     "data": {
      "text/plain": [
       "5716431"
      ]
     },
     "execution_count": 18,
     "metadata": {},
     "output_type": "execute_result"
    }
   ],
   "source": [
    "test_prod.count()"
   ]
  },
  {
   "cell_type": "code",
   "execution_count": 6,
   "metadata": {
    "ExecuteTime": {
     "end_time": "2020-01-29T15:32:16.879656Z",
     "start_time": "2020-01-29T15:32:16.584855Z"
    }
   },
   "outputs": [],
   "source": [
    "prod_tmp = prod_bs.select(*(col(x).alias('prod_' + x) for x in prod_bs.columns))\n",
    "test_tmp = test_bs.select(*(col(x).alias('test_' + x) for x in test_bs.columns))\n",
    "\n",
    "cond = [prod_tmp['prod_' + x] == test_tmp['test_' + x] for x in prod_bs.columns]\n",
    "\n",
    "compare = prod_tmp.join(test_tmp, cond, how='full')\n",
    "\n",
    "test_only = compare.where(\n",
    "    reduce(lambda x, y: x & y, (col(x).isNull() for x in prod_tmp.columns)))\n",
    "prod_only = compare.where(\n",
    "    reduce(lambda x, y: x & y, (col(x).isNull() for x in test_tmp.columns)))"
   ]
  },
  {
   "cell_type": "code",
   "execution_count": 7,
   "metadata": {
    "ExecuteTime": {
     "end_time": "2020-01-29T15:33:44.283311Z",
     "start_time": "2020-01-29T15:32:17.762921Z"
    }
   },
   "outputs": [
    {
     "data": {
      "text/plain": [
       "731995"
      ]
     },
     "execution_count": 7,
     "metadata": {},
     "output_type": "execute_result"
    }
   ],
   "source": [
    "prod_only.count()"
   ]
  },
  {
   "cell_type": "code",
   "execution_count": 21,
   "metadata": {
    "ExecuteTime": {
     "end_time": "2020-01-23T22:06:39.571275Z",
     "start_time": "2020-01-23T22:06:21.357144Z"
    }
   },
   "outputs": [
    {
     "name": "stdout",
     "output_type": "stream",
     "text": [
      "+-------+-------+--------------------+---------------+------------+---------+---------------+-------------+---------------+--------------+--------+-------+--------------+----------+--------+--------------+--------------------+--------------------+-------+-------+--------+---------------+------------+---------+---------------+-------------+---------------+-------+-------+-------+--------------+----------+--------+--------------+------------+-------+\n",
      "|prod_c1|prod_c2|            prod_uid|prod_pattern_id|prod_time_id|prod_hits|prod_start_ss2k|prod_duration|prod_session_id|       prod_ip| prod_os|prod_bt|prod_dist_ss2k|prod_pages|prod_iab|prod_akamai_id|        prod_ua_hash|             prod_ns|test_c1|test_c2|test_uid|test_pattern_id|test_time_id|test_hits|test_start_ss2k|test_duration|test_session_id|test_ip|test_os|test_bt|test_dist_ss2k|test_pages|test_iab|test_akamai_id|test_ua_hash|test_ns|\n",
      "+-------+-------+--------------------+---------------+------------+---------+---------------+-------------+---------------+--------------+--------+-------+--------------+----------+--------+--------------+--------------------+--------------------+-------+-------+--------+---------------+------------+---------+---------------+-------------+---------------+-------+-------+-------+--------------+----------+--------+--------------+------------+-------+\n",
      "|     19|1000004|AvS9kioODVxRew5sc...|       17681803|        7242|        1|      625715913|            0|              0| 172.73.73.218|70045154|      0|             0|         1|       0|    1663582929|329e7ff770fd61fbc...|ns_ap_dbt=0&c4=CN...|   null|   null|    null|           null|        null|     null|           null|         null|           null|   null|   null|   null|          null|      null|    null|          null|        null|   null|\n",
      "|     19|1000004|DmyGSgBv3QRM6FA2D...|       17681803|        7241|        4|      625679338|         1564|              0| 182.59.168.82|70129555|      0|             0|         4|       0|    1277527708|709d0461e807cf399...|ns_ap_dbt=0&c4=CN...|   null|   null|    null|           null|        null|     null|           null|         null|           null|   null|   null|   null|          null|      null|    null|          null|        null|   null|\n",
      "|     19|1000004|HKPzuSuAqXbaQId_4...|       17681803|        7243|        1|      625825573|            0|              0|  77.222.24.65|70100279|      0|             0|         1|       0|    2458685357|4c72a1d9cf00844bf...|ns_ap_dbt=0&c4=CN...|   null|   null|    null|           null|        null|     null|           null|         null|           null|   null|   null|   null|          null|      null|    null|          null|        null|   null|\n",
      "|     19|1000004|df3qormJyd$Te4OW2...|       17681803|        7241|        1|      625671195|            0|              0|174.194.15.121|70079970|      0|             0|         1|       0|     743713418|4c72a1d9cf00844bf...|ns_ap_dbt=0&c4=CN...|   null|   null|    null|           null|        null|     null|           null|         null|           null|   null|   null|   null|          null|      null|    null|          null|        null|   null|\n",
      "|     19|1000004|o2lx6aHWbw0vHoZMg...|       17681803|        7241|        1|      625662639|            0|              0|  115.164.41.1|70117890|      0|             0|         1|       0|     406223951|ff998bcf788f85f5b...|ns_ap_dbt=0&c4=CN...|   null|   null|    null|           null|        null|     null|           null|         null|           null|   null|   null|   null|          null|      null|    null|          null|        null|   null|\n",
      "|     19|1000009|3KgTIux2nzuDoqAcM...|       16683207|        7242|        4|      625756698|           12|              0| 107.77.216.26|70109090|      0|             0|         2|       0|    3349949261|02e0822a9af54ff74...|ns_ap_dbt=0&c4=Ao...|   null|   null|    null|           null|        null|     null|           null|         null|           null|   null|   null|   null|          null|      null|    null|          null|        null|   null|\n",
      "|     19|1000009|8sMXYJWFJlVlbYa0G...|       16683207|        7242|        1|      625759930|            0|              0| 79.227.161.42|70071406|      0|             0|         1|       0|    3424469958|2b842f11132346e5d...|ns_ap_dbt=0&c4=Ao...|   null|   null|    null|           null|        null|     null|           null|         null|           null|   null|   null|   null|          null|      null|    null|          null|        null|   null|\n",
      "|     19|1000009|HKptN6PhVTHE9j2U9...|       16683207|        7243|        2|      625850531|          669|              0|107.77.207.129|70042852|      0|             0|         2|       0|    3243092267|ef115a8a92ec675fd...|ns_ap_dbt=0&c4=Ao...|   null|   null|    null|           null|        null|     null|           null|         null|           null|   null|   null|   null|          null|      null|    null|          null|        null|   null|\n",
      "|     19|1000009|IDulUg7_P0GwFCfEc...|       16683207|        7241|        1|      625629701|            0|              0|   173.73.9.90|70075788|      0|             0|         1|       0|    3121496389|8c526acd805316899...|ns_ap_dbt=0&c4=Ao...|   null|   null|    null|           null|        null|     null|           null|         null|           null|   null|   null|   null|          null|      null|    null|          null|        null|   null|\n",
      "|     19|1000009|ITwLBRlS70RRrFd6I...|       16683207|        7242|        1|      625764759|            0|              0| 130.45.35.129|70133898|      0|             0|         1|       0|     561595071|02e0822a9af54ff74...|ns_ap_dbt=0&c4=Ao...|   null|   null|    null|           null|        null|     null|           null|         null|           null|   null|   null|   null|          null|      null|    null|          null|        null|   null|\n",
      "|     19|1000009|LDmGgnNhPEB2_OCAr...|       16683207|        7242|        1|      625750268|            0|              0|108.17.112.218|70124847|      0|             0|         1|       0|    3687632279|4996bf4c6dc0953a2...|ns_ap_dbt=0&c4=Ao...|   null|   null|    null|           null|        null|     null|           null|         null|           null|   null|   null|   null|          null|      null|    null|          null|        null|   null|\n",
      "|     19|1000009|MqUsSQKuXG5E$GJuZ...|       16683207|        7242|        1|      625769209|            0|              0|  69.171.205.1|70133261|      0|             0|         1|       0|     307954097|02e0822a9af54ff74...|ns_ap_dbt=0&c4=Ao...|   null|   null|    null|           null|        null|     null|           null|         null|           null|   null|   null|   null|          null|      null|    null|          null|        null|   null|\n",
      "|     19|1000009|NTdyd5jEozY0H0P9q...|       16683207|        7242|        1|      625766357|            0|              0|  90.91.121.34|70062233|      0|             0|         1|       0|    3919534124|6f002a661436a29d6...|ns_ap_dbt=0&c4=Ao...|   null|   null|    null|           null|        null|     null|           null|         null|           null|   null|   null|   null|          null|      null|    null|          null|        null|   null|\n",
      "|     19|1000009|RZS069HEmxmdSdTi0...|       16683207|        7243|        2|      625856012|            7|              0|174.201.11.193|70096835|      0|             0|         2|       0|    3817935942|02e0822a9af54ff74...|ns_ap_dbt=0&c4=Ao...|   null|   null|    null|           null|        null|     null|           null|         null|           null|   null|   null|   null|          null|      null|    null|          null|        null|   null|\n",
      "|     19|1000009|VQNwO6YiAQMGKFyVC...|       13458216|        7243|        1|      625796053|            0|              0| 107.207.190.0|70027265|      0|             0|         1|       0|    2444981084|fe867a9459de2fdb5...|ns_ap_dbt=0&c4=Hu...|   null|   null|    null|           null|        null|     null|           null|         null|           null|   null|   null|   null|          null|      null|    null|          null|        null|   null|\n",
      "|     19|1000009|XbkBQnRYMr2E2h2fz...|       16683207|        7244|        5|      625945663|         1454|              0|    99.33.67.0|70133261|      0|             0|         4|       0|    3273815223|085d874f4a4ef7d1a...|ns_ap_dbt=0&c4=Ao...|   null|   null|    null|           null|        null|     null|           null|         null|           null|   null|   null|   null|          null|      null|    null|          null|        null|   null|\n",
      "|     19|1000009|aFFLKqeiL_nJxWi$H...|       16683207|        7242|        5|      625711668|         1200|              0|174.204.11.177|70100281|      0|             0|         5|       0|    1320998252|4996bf4c6dc0953a2...|ns_ap_dbt=0&c4=Ao...|   null|   null|    null|           null|        null|     null|           null|         null|           null|   null|   null|   null|          null|      null|    null|          null|        null|   null|\n",
      "|     19|1000009|iexqto1_AYVJM3rLD...|       16683207|        7244|        3|      625947025|          929|              0| 107.77.203.82|70096082|      0|             0|         3|       0|    4006318574|a150292b51e939dc5...|ns_ap_dbt=0&c4=Ao...|   null|   null|    null|           null|        null|     null|           null|         null|           null|   null|   null|   null|          null|      null|    null|          null|        null|   null|\n",
      "|     19|1000009|mB6svpyHQMnxO$Juz...|       16683207|        7241|        2|      625659036|            3|              0| 73.253.102.66|70133898|      0|             0|         1|       0|    3238284722|7becaca65ac0f0eae...|ns_ap_dbt=0&c4=Ao...|   null|   null|    null|           null|        null|     null|           null|         null|           null|   null|   null|   null|          null|      null|    null|          null|        null|   null|\n",
      "|     19|1000009|nTiMlU$Qf$PraLbF6...|       13458216|        7241|        1|      625674072|            0|              0|72.180.107.121|70100279|      0|             0|         1|       0|    2208878936|29fb231afde8750f8...|ns_ap_dbt=0&c4=Hu...|   null|   null|    null|           null|        null|     null|           null|         null|           null|   null|   null|   null|          null|      null|    null|          null|        null|   null|\n",
      "+-------+-------+--------------------+---------------+------------+---------+---------------+-------------+---------------+--------------+--------+-------+--------------+----------+--------+--------------+--------------------+--------------------+-------+-------+--------+---------------+------------+---------+---------------+-------------+---------------+-------+-------+-------+--------------+----------+--------+--------------+------------+-------+\n",
      "only showing top 20 rows\n",
      "\n"
     ]
    }
   ],
   "source": [
    "prod_only.show()"
   ]
  },
  {
   "cell_type": "code",
   "execution_count": 22,
   "metadata": {
    "ExecuteTime": {
     "end_time": "2020-01-23T22:07:55.104460Z",
     "start_time": "2020-01-23T22:07:32.513455Z"
    }
   },
   "outputs": [
    {
     "data": {
      "text/plain": [
       "95379"
      ]
     },
     "execution_count": 22,
     "metadata": {},
     "output_type": "execute_result"
    }
   ],
   "source": [
    "test_only.count()"
   ]
  },
  {
   "cell_type": "code",
   "execution_count": 25,
   "metadata": {
    "ExecuteTime": {
     "end_time": "2020-01-24T16:23:48.421954Z",
     "start_time": "2020-01-24T16:23:48.403491Z"
    }
   },
   "outputs": [],
   "source": [
    "prod_only_uid = prod_only.select('prod_uid').distinct()\n",
    "test_prod_uid = test_prod.select('uid').distinct()"
   ]
  },
  {
   "cell_type": "code",
   "execution_count": 29,
   "metadata": {
    "ExecuteTime": {
     "end_time": "2020-01-24T16:33:56.641217Z",
     "start_time": "2020-01-24T16:32:29.692731Z"
    }
   },
   "outputs": [
    {
     "data": {
      "text/plain": [
       "64093"
      ]
     },
     "execution_count": 29,
     "metadata": {},
     "output_type": "execute_result"
    }
   ],
   "source": [
    "prod_only_uid.join(test_prod_uid,\n",
    "                   prod_only_uid.prod_uid == test_prod_uid.uid,\n",
    "                   how='inner').count()"
   ]
  },
  {
   "cell_type": "code",
   "execution_count": 30,
   "metadata": {
    "ExecuteTime": {
     "end_time": "2020-01-24T16:40:09.618204Z",
     "start_time": "2020-01-24T16:38:57.871275Z"
    }
   },
   "outputs": [
    {
     "data": {
      "text/plain": [
       "260308"
      ]
     },
     "execution_count": 30,
     "metadata": {},
     "output_type": "execute_result"
    }
   ],
   "source": [
    "prod_only_uid.count()"
   ]
  },
  {
   "cell_type": "code",
   "execution_count": 31,
   "metadata": {
    "ExecuteTime": {
     "end_time": "2020-01-24T16:41:30.368916Z",
     "start_time": "2020-01-24T16:40:09.622110Z"
    }
   },
   "outputs": [
    {
     "data": {
      "text/plain": [
       "1629223"
      ]
     },
     "execution_count": 31,
     "metadata": {},
     "output_type": "execute_result"
    }
   ],
   "source": [
    "test_prod_uid.count()"
   ]
  },
  {
   "cell_type": "code",
   "execution_count": 8,
   "metadata": {
    "ExecuteTime": {
     "end_time": "2020-01-29T15:43:19.888948Z",
     "start_time": "2020-01-29T15:39:42.374986Z"
    }
   },
   "outputs": [],
   "source": [
    "snap_path = '/mapr/ia1.comscore.com/test_data/census/tag_5920/testing/reformatted/snapchat/*'\n",
    "snap_schema = ['date', 'app_version', 'country', 'device_model', 'hashed_idfa', 'os_type', 'os_version', 'publisher_id', \n",
    "               'total_snap_view', 'edition_view_count', 'total_time_viewed', 'snap_created_id']\n",
    "snap = spark.read.format('csv').option(\"delimiter\", '\\t').option(\"inferSchema\", \"true\").load(snap_path).toDF(*snap_schema)"
   ]
  },
  {
   "cell_type": "code",
   "execution_count": 81,
   "metadata": {
    "ExecuteTime": {
     "end_time": "2020-01-27T21:09:02.234632Z",
     "start_time": "2020-01-27T21:04:39.525441Z"
    }
   },
   "outputs": [
    {
     "name": "stdout",
     "output_type": "stream",
     "text": [
      "+-----------------------+-----------+-------+------------+----------------------------------------------------------------+-------+----------+----------------+---------------+------------------+-----------------+---------------+\n",
      "|date                   |app_version|country|device_model|hashed_idfa                                                     |os_type|os_version|publisher_id    |total_snap_view|edition_view_count|total_time_viewed|snap_created_id|\n",
      "+-----------------------+-----------+-------+------------+----------------------------------------------------------------+-------+----------+----------------+---------------+------------------+-----------------+---------------+\n",
      "|2019-11-30 00:00:00 UTC|10.67.0.0  |US     |LM-X220     |2f76c7ba8016d26de9d7320859e7ed457df1dbeabf0ed8d91713ea816ad9ad92|Android|9         |5340479800213504|49             |3                 |390              |1              |\n",
      "|2019-11-30 00:00:00 UTC|10.70.0.0  |US     |SM-A102U    |d303287a3d65effe81a2ee1d2683275485826e7fa9a09fed80678cd4ba721835|Android|9         |5722721933590528|103            |3                 |1513.7           |1              |\n",
      "|2019-11-30 00:00:00 UTC|10.70.5.0  |US     |LM-Q720     |ac8eccf0d8a06e95f831b79936c2c8b9a4b282bb3208c868c971847b7488fb3f|Android|9         |5722721933590528|62             |1                 |175.6            |1              |\n",
      "|2019-11-30 00:00:00 UTC|10.71.0.0  |US     |SM-G930T    |e451ba1457fce501cccefad7e86adad90e03e458ce080c0ba1b7bd3cc1f17d4a|Android|8.0.0     |5722721933590528|82             |1                 |1046.8           |1              |\n",
      "|2019-11-30 00:00:00 UTC|10.70.5.0  |US     |BND-L34     |6ebba44ac4967a7874313f37d605a8695bc9c773d77ea2f3f022e6447a6a41bd|Android|8.0.0     |6330947167059968|44             |4                 |1195.8           |1              |\n",
      "|2019-11-30 00:00:00 UTC|10.71.1.0  |US     |LG-M430     |eb4595acb02ee1b3f3e3113c40f1ea607a2bdf513a431a7ed3a5c244ece491ac|Android|7.0       |5134826088431616|104            |2                 |378.5            |1              |\n",
      "|2019-11-30 00:00:00 UTC|10.70.5.0  |US     |5059Z       |7eb58191c6d5dad606099157fd00a53c466a3b458e35f0563b6d9dd67e0383b1|Android|8.1.0     |5134959131754496|42             |1                 |81.2             |1              |\n",
      "|2019-11-30 00:00:00 UTC|10.70.5.0  |US     |SM-G930T    |03c4ed4cbf72863327f1323d29868b27cc5a2389377bec878fd18c350e9520c5|Android|8.0.0     |5722721933590528|45             |1                 |280.1            |1              |\n",
      "|2019-11-30 00:00:00 UTC|10.71.0.63 |US     |iPhone7,1   |1a965355e64971b06d62f5ffd07bfa28a6b28cb543fa56cf5bd91c0b0a10e7a0|iOS    |12.4.3    |5722721933590528|66             |7                 |1339.2           |1              |\n",
      "|2019-11-30 00:00:00 UTC|10.71.1.0  |US     |SM-J737P    |5cf3cc284ccc345095018513d91c2c9c8256b2d2b2fa1eb19b005321acb29206|Android|9         |5340479800213504|41             |1                 |148.7            |1              |\n",
      "|2019-11-30 00:00:00 UTC|10.70.5.0  |US     |SM-J727V    |ae49deacfa264ea160fb4fcbf6497cbc9273ee9bd12ca3b0b6e6b1694333655b|Android|7.0       |5134826088431616|64             |1                 |126.3            |1              |\n",
      "|2019-11-30 00:00:00 UTC|10.70.5.0  |US     |LG-H872     |8393f69718f1fd2b36728a64f038b0c7819367dffe410c67878606f1f42eefc2|Android|8.0.0     |5151554686681104|39             |1                 |254.3            |1              |\n",
      "|2019-11-30 00:00:00 UTC|10.70.5.0  |US     |moto z3     |fc50933a6636b3efc105395e4931486a49f08a914d6db8a41c94dfdc4e1e0c8d|Android|9         |5722721933590528|94             |3                 |651              |1              |\n",
      "|2019-11-30 00:00:00 UTC|10.70.5.0  |US     |XT1650      |2d0a8c450e234108ad5b1f7beafd1be576a092194930f651ed1fcbeaeb5319da|Android|8.0.0     |5180066019147776|49             |1                 |135              |1              |\n",
      "|2019-11-30 00:00:00 UTC|10.67.0.0  |US     |LM-Q710(FGN)|6a39980941a826ff1086f140d459fe444376db652610daee3ba729f7ee1f15ac|Android|8.1.0     |5722721933590528|83             |1                 |955.2            |1              |\n",
      "|2019-11-30 00:00:00 UTC|10.71.0.63 |US     |iPhone6,1   |a2ffda2c028ee0d425030c175d4b402c9a25069c5a4a5d35822d89e23d9c13f0|iOS    |11.4.1    |5134826088431616|588            |3                 |2059.3           |1              |\n",
      "|2019-11-30 00:00:00 UTC|10.70.5.0  |US     |SM-J327P    |7a6a16098970a0218a50526e39ecfc9f2ef5113ecdf782d9733d93b36d952632|Android|6.0.1     |5195107028172800|39             |2                 |387.7            |1              |\n",
      "|2019-11-30 00:00:00 UTC|10.71.1.0  |US     |LGMP450     |bd7610f1db76cdc8b81f8f0436a2ad1a8c5d7ec065355da4b5cd765c888207f1|Android|7.0       |5722721933590528|43             |1                 |206.6            |1              |\n",
      "|2019-11-30 00:00:00 UTC|10.70.0.0  |US     |SM-J737A    |fe08820e707090a98ffa8a261f2d9023e9a684a256ea1babdcbff445824e2d58|Android|9         |5722721933590528|80             |1                 |500.9            |1              |\n",
      "|2019-11-30 00:00:00 UTC|10.66.5.0  |US     |SM-A102U    |a7c0f424af47503cf342a50c8f6202b625f104d1f78c2fe74b2074fb8f7cf3cb|Android|9         |5722721933590528|55             |4                 |936.2            |1              |\n",
      "+-----------------------+-----------+-------+------------+----------------------------------------------------------------+-------+----------+----------------+---------------+------------------+-----------------+---------------+\n",
      "only showing top 20 rows\n",
      "\n"
     ]
    }
   ],
   "source": [
    "snap.filter('snap_created_id==1').filter(\"date=='2019-11-30 00:00:00 UTC'\").show(20, False)"
   ]
  },
  {
   "cell_type": "code",
   "execution_count": 82,
   "metadata": {
    "ExecuteTime": {
     "end_time": "2020-01-27T21:27:32.139039Z",
     "start_time": "2020-01-27T21:21:34.746509Z"
    }
   },
   "outputs": [
    {
     "name": "stdout",
     "output_type": "stream",
     "text": [
      "+-----------------------+-----------+-------+---------------+----------------------------------------------------------------+-------+----------+----------------+---------------+------------------+-----------------+---------------+\n",
      "|date                   |app_version|country|device_model   |hashed_idfa                                                     |os_type|os_version|publisher_id    |total_snap_view|edition_view_count|total_time_viewed|snap_created_id|\n",
      "+-----------------------+-----------+-------+---------------+----------------------------------------------------------------+-------+----------+----------------+---------------+------------------+-----------------+---------------+\n",
      "|2019-11-30 00:00:00 UTC|10.69.0.0  |US     |SM-J727T       |56BA92B6A50FDDEB029EEE7149CB8140391B670BD1E6F963464EB6C824952A9D|Android|8.1.0     |5134826088431616|580            |1                 |1798.8           |0              |\n",
      "|2019-11-30 00:00:00 UTC|10.61.0.0  |US     |LM-X210CM      |2F725E7C81CDB3116EAEDCBA0615272BD0C9D7D88349C6586DE790CB63A90A5A|Android|8.1.0     |5195107028172800|51             |1                 |397.6            |0              |\n",
      "|2019-11-30 00:00:00 UTC|10.70.5.0  |US     |SM-G935P       |C67A0FC158B4146290492808C4B80503C188966D8EF2D9C6ABA8A7A3826D4EB4|Android|8.0.0     |5722721933590528|151            |2                 |2325.4           |0              |\n",
      "|2019-11-30 00:00:00 UTC|10.71.1.0  |US     |SM-N950U1      |0F4A1CBEF263BEE46EEFCFED697688A510DBB1ECC9C7512F91CA316C19415251|Android|7.1.1     |5722721933590528|77             |3                 |862.7            |0              |\n",
      "|2019-11-30 00:00:00 UTC|10.66.5.0  |US     |SM-N900T       |51FD75AFC3F7DF25A380BD982A8655701CCD25EDFD19CD06814A7DF7BDAA06F9|Android|5.0       |5722721933590528|75             |1                 |732.8            |0              |\n",
      "|2019-11-30 00:00:00 UTC|10.70.5.0  |US     |Moto E (4)     |37D49FFBCF023DFD87723667810EF931ED8BBBD303FD9762BA701B13ED196893|Android|7.1.1     |5731018766024704|42             |2                 |233.4            |0              |\n",
      "|2019-11-30 00:00:00 UTC|10.70.5.0  |US     |LM-X220PM      |3EB773524E592FC963F91BEEC520FBD142225DD6842A85A2782DFC0856127211|Android|8.1.0     |5134826088431616|140            |3                 |247.7            |0              |\n",
      "|2019-11-30 00:00:00 UTC|10.70.5.0  |US     |SM-J337P       |D01725EB28A8683B534DFC2111EFF6BA53A2A5D4376ADA0A1CC1B0830DEBC180|Android|9         |5731018766024704|42             |1                 |168.5            |0              |\n",
      "|2019-11-30 00:00:00 UTC|10.70.5.0  |US     |moto g(7) power|BA3E028CFC7594D225B3B141CE55E5FBEB4F15A097547E7FF70C4904C252C105|Android|9         |5731018766024704|40             |7                 |184.3            |0              |\n",
      "|2019-11-30 00:00:00 UTC|10.59.0.0  |US     |LML713DL       |96C23CCC562D3DDCD869D2EECE423C8D63EA79017C5A674ABAF7083A1BDE2FBC|Android|8.1.0     |5722721933590528|54             |4                 |438.3            |0              |\n",
      "|2019-11-30 00:00:00 UTC|10.70.5.0  |US     |SM-G935T       |B9DE3BD636BE123FFDD3BF6F76A7A7D1FACFE16CAE2A984061C57C5E6325BA9D|Android|8.0.0     |5180066019147776|48             |1                 |126.1            |0              |\n",
      "|2019-11-30 00:00:00 UTC|10.70.5.0  |US     |H1711          |87E4420254E3509AEBE93EE98BF677714ED6BC7F2B525BE95217DCE03BBD939B|Android|7.0       |4856081001480208|40             |1                 |257.7            |0              |\n",
      "|2019-11-30 00:00:00 UTC|10.71.1.0  |US     |LM-Q720        |2B9CC42A2AD475FB93373C617D8C21A122B53DE1EB42591BFE8D6338B0DF5AEF|Android|9         |5731018766024704|41             |2                 |349.6            |0              |\n",
      "|2019-11-30 00:00:00 UTC|10.70.5.0  |US     |SM-N975U       |F11D9E46E96E3E4D4C941DC64B796CABC140D50EDF76BBD4A8E2677382CE6463|Android|9         |5722721933590528|51             |7                 |787.5            |0              |\n",
      "|2019-11-30 00:00:00 UTC|10.71.1.0  |US     |LM-Q710.FG     |82EEDBF9D09D181D9C7249FF56AEFEF77CF68DBEA20A68349F1FA5D26CBCD2F7|Android|8.1.0     |5722721933590528|42             |5                 |565.7            |0              |\n",
      "|2019-11-30 00:00:00 UTC|10.71.0.63 |US     |iPad6,8        |D8DFE6016D5D5EA633CF55A7358477FB92B0200329FD49D6A3118972E4AB4BF1|iOS    |13.2.3    |6366729623568400|45             |1                 |435.2            |0              |\n",
      "|2019-11-30 00:00:00 UTC|10.71.1.0  |US     |SM-J320V       |842A92911998B9C7FE6266EB07DB1279DAD707D732270964A039AB92DC7828B8|Android|7.1.1     |6060180257374224|50             |3                 |334.6            |0              |\n",
      "|2019-11-30 00:00:00 UTC|10.70.5.0  |US     |VS501          |20216D44D5BF84281CE4CBB3FD67070272103197DA40934D8E0589AA263ABBCC|Android|7.0       |5134826088431616|585            |2                 |746.6            |0              |\n",
      "|2019-11-30 00:00:00 UTC|10.71.1.0  |US     |SM-G970U       |543033976AB88E34DEABD51C4DDA8A422FC1AF3AB6BF97C50EA19128EE128B9E|Android|9         |5731018766024704|39             |3                 |615.7            |0              |\n",
      "|2019-11-30 00:00:00 UTC|10.70.5.0  |US     |LML212VL       |E4102C7CE900142CC46172C9BEBDFB864DB7FAEC9FB11FB42D8E6C2D800FEA8F|Android|8.1.0     |5722721933590528|76             |2                 |998.9            |0              |\n",
      "+-----------------------+-----------+-------+---------------+----------------------------------------------------------------+-------+----------+----------------+---------------+------------------+-----------------+---------------+\n",
      "only showing top 20 rows\n",
      "\n"
     ]
    }
   ],
   "source": [
    "snap.filter('snap_created_id==0').filter(\"date=='2019-11-30 00:00:00 UTC'\").show(20, False)"
   ]
  },
  {
   "cell_type": "code",
   "execution_count": 53,
   "metadata": {
    "ExecuteTime": {
     "end_time": "2020-01-27T16:42:11.680287Z",
     "start_time": "2020-01-27T16:40:16.528236Z"
    }
   },
   "outputs": [
    {
     "data": {
      "text/plain": [
       "179393151"
      ]
     },
     "execution_count": 53,
     "metadata": {},
     "output_type": "execute_result"
    }
   ],
   "source": [
    "snap.filter('snap_created_id==1').count()"
   ]
  },
  {
   "cell_type": "code",
   "execution_count": 54,
   "metadata": {
    "ExecuteTime": {
     "end_time": "2020-01-27T16:44:08.096916Z",
     "start_time": "2020-01-27T16:42:11.683340Z"
    }
   },
   "outputs": [
    {
     "data": {
      "text/plain": [
       "1248158651"
      ]
     },
     "execution_count": 54,
     "metadata": {},
     "output_type": "execute_result"
    }
   ],
   "source": [
    "snap.count()"
   ]
  },
  {
   "cell_type": "code",
   "execution_count": 56,
   "metadata": {
    "ExecuteTime": {
     "end_time": "2020-01-27T16:44:36.774767Z",
     "start_time": "2020-01-27T16:44:36.767980Z"
    }
   },
   "outputs": [
    {
     "data": {
      "text/plain": [
       "0.14372624093601705"
      ]
     },
     "execution_count": 56,
     "metadata": {},
     "output_type": "execute_result"
    }
   ],
   "source": [
    "179393151./1248158651."
   ]
  },
  {
   "cell_type": "code",
   "execution_count": 64,
   "metadata": {
    "ExecuteTime": {
     "end_time": "2020-01-27T17:08:11.422632Z",
     "start_time": "2020-01-27T17:04:30.144301Z"
    }
   },
   "outputs": [
    {
     "data": {
      "text/plain": [
       "10380812"
      ]
     },
     "execution_count": 64,
     "metadata": {},
     "output_type": "execute_result"
    }
   ],
   "source": [
    "snap.filter('snap_created_id==1').select('hashed_idfa').distinct().count()"
   ]
  },
  {
   "cell_type": "code",
   "execution_count": 65,
   "metadata": {
    "ExecuteTime": {
     "end_time": "2020-01-27T17:10:40.439078Z",
     "start_time": "2020-01-27T17:08:11.428154Z"
    }
   },
   "outputs": [
    {
     "data": {
      "text/plain": [
       "54221838"
      ]
     },
     "execution_count": 65,
     "metadata": {},
     "output_type": "execute_result"
    }
   ],
   "source": [
    "snap.select('hashed_idfa').distinct().count()"
   ]
  },
  {
   "cell_type": "code",
   "execution_count": 66,
   "metadata": {
    "ExecuteTime": {
     "end_time": "2020-01-27T17:12:11.276427Z",
     "start_time": "2020-01-27T17:12:11.270026Z"
    }
   },
   "outputs": [
    {
     "data": {
      "text/plain": [
       "0.19145075827197153"
      ]
     },
     "execution_count": 66,
     "metadata": {},
     "output_type": "execute_result"
    }
   ],
   "source": [
    "10380812./54221838."
   ]
  },
  {
   "cell_type": "code",
   "execution_count": null,
   "metadata": {},
   "outputs": [],
   "source": []
  },
  {
   "cell_type": "code",
   "execution_count": 162,
   "metadata": {
    "ExecuteTime": {
     "end_time": "2020-01-28T17:24:52.486517Z",
     "start_time": "2020-01-28T17:24:50.943028Z"
    }
   },
   "outputs": [],
   "source": [
    "snap_c = snap.filter('snap_created_id==1').select('hashed_idfa')\n",
    "prod_bs_t = prod_bs.withColumn('uid_t', F.lower(col('uid')))\n",
    "prod_snap_c = prod_bs_t.alias('a').join(snap_c, snap_c.hashed_idfa == prod_bs_t.uid_t, 'inner').select('a.*')"
   ]
  },
  {
   "cell_type": "code",
   "execution_count": null,
   "metadata": {},
   "outputs": [],
   "source": []
  },
  {
   "cell_type": "code",
   "execution_count": 163,
   "metadata": {
    "ExecuteTime": {
     "end_time": "2020-01-28T17:27:16.114153Z",
     "start_time": "2020-01-28T17:24:57.145225Z"
    }
   },
   "outputs": [
    {
     "data": {
      "text/plain": [
       "0"
      ]
     },
     "execution_count": 163,
     "metadata": {},
     "output_type": "execute_result"
    }
   ],
   "source": [
    "prod_snap_c.count()"
   ]
  },
  {
   "cell_type": "code",
   "execution_count": 71,
   "metadata": {
    "ExecuteTime": {
     "end_time": "2020-01-27T20:13:19.450032Z",
     "start_time": "2020-01-27T20:13:19.390361Z"
    }
   },
   "outputs": [],
   "source": [
    "snap_nc = snap.filter('snap_created_id==0').select('hashed_idfa')\n",
    "prod_snap_nc = prod_bs.alias('a').join(snap_nc, snap_nc.hashed_idfa == prod_bs.ua_hash, 'inner').select('a.*')"
   ]
  },
  {
   "cell_type": "code",
   "execution_count": 72,
   "metadata": {
    "ExecuteTime": {
     "end_time": "2020-01-27T20:15:57.469830Z",
     "start_time": "2020-01-27T20:13:20.450500Z"
    }
   },
   "outputs": [
    {
     "data": {
      "text/plain": [
       "0"
      ]
     },
     "execution_count": 72,
     "metadata": {},
     "output_type": "execute_result"
    }
   ],
   "source": [
    "prod_snap_nc.count()"
   ]
  },
  {
   "cell_type": "code",
   "execution_count": 34,
   "metadata": {
    "ExecuteTime": {
     "end_time": "2020-01-27T15:53:49.726067Z",
     "start_time": "2020-01-27T15:53:49.709356Z"
    }
   },
   "outputs": [
    {
     "name": "stdout",
     "output_type": "stream",
     "text": [
      "root\n",
      " |-- c1: integer (nullable = true)\n",
      " |-- c2: integer (nullable = true)\n",
      " |-- uid: string (nullable = true)\n",
      " |-- pattern_id: integer (nullable = true)\n",
      " |-- time_id: integer (nullable = true)\n",
      " |-- hits: integer (nullable = true)\n",
      " |-- start_ss2k: integer (nullable = true)\n",
      " |-- duration: integer (nullable = true)\n",
      " |-- session_id: integer (nullable = true)\n",
      " |-- ip: string (nullable = true)\n",
      " |-- os: integer (nullable = true)\n",
      " |-- bt: integer (nullable = true)\n",
      " |-- dist_ss2k: integer (nullable = true)\n",
      " |-- pages: integer (nullable = true)\n",
      " |-- iab: integer (nullable = true)\n",
      " |-- akamai_id: long (nullable = true)\n",
      " |-- ua_hash: string (nullable = true)\n",
      " |-- ns: string (nullable = true)\n",
      "\n"
     ]
    }
   ],
   "source": [
    "prod_bs.printSchema()"
   ]
  },
  {
   "cell_type": "code",
   "execution_count": 230,
   "metadata": {
    "ExecuteTime": {
     "end_time": "2020-01-28T23:56:03.985225Z",
     "start_time": "2020-01-28T23:54:05.590538Z"
    }
   },
   "outputs": [],
   "source": [
    "test_only.coalesce(1).write.format(\"csv\").options(delimiter=',').save('snap_ccpa/')"
   ]
  },
  {
   "cell_type": "code",
   "execution_count": 235,
   "metadata": {
    "ExecuteTime": {
     "end_time": "2020-01-29T00:10:36.754297Z",
     "start_time": "2020-01-29T00:10:36.616955Z"
    }
   },
   "outputs": [
    {
     "ename": "AnalysisException",
     "evalue": "u'path maprfs:/user/yxing/test_ccpa already exists.;'",
     "output_type": "error",
     "traceback": [
      "\u001b[0;31m\u001b[0m",
      "\u001b[0;31mAnalysisException\u001b[0mTraceback (most recent call last)",
      "\u001b[0;32m<ipython-input-235-307876275258>\u001b[0m in \u001b[0;36m<module>\u001b[0;34m()\u001b[0m\n\u001b[0;32m----> 1\u001b[0;31m \u001b[0mtest_only\u001b[0m\u001b[0;34m.\u001b[0m\u001b[0mcoalesce\u001b[0m\u001b[0;34m(\u001b[0m\u001b[0;36m2\u001b[0m\u001b[0;34m)\u001b[0m\u001b[0;34m.\u001b[0m\u001b[0mwrite\u001b[0m\u001b[0;34m.\u001b[0m\u001b[0mformat\u001b[0m\u001b[0;34m(\u001b[0m\u001b[0;34m\"csv\"\u001b[0m\u001b[0;34m)\u001b[0m\u001b[0;34m.\u001b[0m\u001b[0moptions\u001b[0m\u001b[0;34m(\u001b[0m\u001b[0mdelimiter\u001b[0m\u001b[0;34m=\u001b[0m\u001b[0;34m','\u001b[0m\u001b[0;34m)\u001b[0m\u001b[0;34m.\u001b[0m\u001b[0msave\u001b[0m\u001b[0;34m(\u001b[0m\u001b[0;34m'test_ccpa/'\u001b[0m\u001b[0;34m)\u001b[0m\u001b[0;34m\u001b[0m\u001b[0m\n\u001b[0m",
      "\u001b[0;32m/opt/mapr/spark/spark-2.3.1/python/pyspark/sql/readwriter.py\u001b[0m in \u001b[0;36msave\u001b[0;34m(self, path, format, mode, partitionBy, **options)\u001b[0m\n\u001b[1;32m    703\u001b[0m             \u001b[0mself\u001b[0m\u001b[0;34m.\u001b[0m\u001b[0m_jwrite\u001b[0m\u001b[0;34m.\u001b[0m\u001b[0msave\u001b[0m\u001b[0;34m(\u001b[0m\u001b[0;34m)\u001b[0m\u001b[0;34m\u001b[0m\u001b[0m\n\u001b[1;32m    704\u001b[0m         \u001b[0;32melse\u001b[0m\u001b[0;34m:\u001b[0m\u001b[0;34m\u001b[0m\u001b[0m\n\u001b[0;32m--> 705\u001b[0;31m             \u001b[0mself\u001b[0m\u001b[0;34m.\u001b[0m\u001b[0m_jwrite\u001b[0m\u001b[0;34m.\u001b[0m\u001b[0msave\u001b[0m\u001b[0;34m(\u001b[0m\u001b[0mpath\u001b[0m\u001b[0;34m)\u001b[0m\u001b[0;34m\u001b[0m\u001b[0m\n\u001b[0m\u001b[1;32m    706\u001b[0m \u001b[0;34m\u001b[0m\u001b[0m\n\u001b[1;32m    707\u001b[0m     \u001b[0;34m@\u001b[0m\u001b[0msince\u001b[0m\u001b[0;34m(\u001b[0m\u001b[0;36m1.4\u001b[0m\u001b[0;34m)\u001b[0m\u001b[0;34m\u001b[0m\u001b[0m\n",
      "\u001b[0;32m/opt/mapr/spark/spark-2.3.1/python/lib/py4j-0.10.7-src.zip/py4j/java_gateway.py\u001b[0m in \u001b[0;36m__call__\u001b[0;34m(self, *args)\u001b[0m\n\u001b[1;32m   1255\u001b[0m         \u001b[0manswer\u001b[0m \u001b[0;34m=\u001b[0m \u001b[0mself\u001b[0m\u001b[0;34m.\u001b[0m\u001b[0mgateway_client\u001b[0m\u001b[0;34m.\u001b[0m\u001b[0msend_command\u001b[0m\u001b[0;34m(\u001b[0m\u001b[0mcommand\u001b[0m\u001b[0;34m)\u001b[0m\u001b[0;34m\u001b[0m\u001b[0m\n\u001b[1;32m   1256\u001b[0m         return_value = get_return_value(\n\u001b[0;32m-> 1257\u001b[0;31m             answer, self.gateway_client, self.target_id, self.name)\n\u001b[0m\u001b[1;32m   1258\u001b[0m \u001b[0;34m\u001b[0m\u001b[0m\n\u001b[1;32m   1259\u001b[0m         \u001b[0;32mfor\u001b[0m \u001b[0mtemp_arg\u001b[0m \u001b[0;32min\u001b[0m \u001b[0mtemp_args\u001b[0m\u001b[0;34m:\u001b[0m\u001b[0;34m\u001b[0m\u001b[0m\n",
      "\u001b[0;32m/opt/mapr/spark/spark-2.3.1/python/pyspark/sql/utils.py\u001b[0m in \u001b[0;36mdeco\u001b[0;34m(*a, **kw)\u001b[0m\n\u001b[1;32m     67\u001b[0m                                              e.java_exception.getStackTrace()))\n\u001b[1;32m     68\u001b[0m             \u001b[0;32mif\u001b[0m \u001b[0ms\u001b[0m\u001b[0;34m.\u001b[0m\u001b[0mstartswith\u001b[0m\u001b[0;34m(\u001b[0m\u001b[0;34m'org.apache.spark.sql.AnalysisException: '\u001b[0m\u001b[0;34m)\u001b[0m\u001b[0;34m:\u001b[0m\u001b[0;34m\u001b[0m\u001b[0m\n\u001b[0;32m---> 69\u001b[0;31m                 \u001b[0;32mraise\u001b[0m \u001b[0mAnalysisException\u001b[0m\u001b[0;34m(\u001b[0m\u001b[0ms\u001b[0m\u001b[0;34m.\u001b[0m\u001b[0msplit\u001b[0m\u001b[0;34m(\u001b[0m\u001b[0;34m': '\u001b[0m\u001b[0;34m,\u001b[0m \u001b[0;36m1\u001b[0m\u001b[0;34m)\u001b[0m\u001b[0;34m[\u001b[0m\u001b[0;36m1\u001b[0m\u001b[0;34m]\u001b[0m\u001b[0;34m,\u001b[0m \u001b[0mstackTrace\u001b[0m\u001b[0;34m)\u001b[0m\u001b[0;34m\u001b[0m\u001b[0m\n\u001b[0m\u001b[1;32m     70\u001b[0m             \u001b[0;32mif\u001b[0m \u001b[0ms\u001b[0m\u001b[0;34m.\u001b[0m\u001b[0mstartswith\u001b[0m\u001b[0;34m(\u001b[0m\u001b[0;34m'org.apache.spark.sql.catalyst.analysis'\u001b[0m\u001b[0;34m)\u001b[0m\u001b[0;34m:\u001b[0m\u001b[0;34m\u001b[0m\u001b[0m\n\u001b[1;32m     71\u001b[0m                 \u001b[0;32mraise\u001b[0m \u001b[0mAnalysisException\u001b[0m\u001b[0;34m(\u001b[0m\u001b[0ms\u001b[0m\u001b[0;34m.\u001b[0m\u001b[0msplit\u001b[0m\u001b[0;34m(\u001b[0m\u001b[0;34m': '\u001b[0m\u001b[0;34m,\u001b[0m \u001b[0;36m1\u001b[0m\u001b[0;34m)\u001b[0m\u001b[0;34m[\u001b[0m\u001b[0;36m1\u001b[0m\u001b[0;34m]\u001b[0m\u001b[0;34m,\u001b[0m \u001b[0mstackTrace\u001b[0m\u001b[0;34m)\u001b[0m\u001b[0;34m\u001b[0m\u001b[0m\n",
      "\u001b[0;31mAnalysisException\u001b[0m: u'path maprfs:/user/yxing/test_ccpa already exists.;'"
     ]
    }
   ],
   "source": [
    "test_only.coalesce(2).write.format(\"csv\").options(delimiter=',').save('test_ccpa/')"
   ]
  },
  {
   "cell_type": "code",
   "execution_count": 36,
   "metadata": {
    "ExecuteTime": {
     "end_time": "2020-01-27T16:06:45.953939Z",
     "start_time": "2020-01-27T16:06:18.530632Z"
    }
   },
   "outputs": [
    {
     "name": "stdout",
     "output_type": "stream",
     "text": [
      "+-------+-------+--------------------+---------------+------------+---------+---------------+-------------+---------------+--------------+--------+-------+--------------+----------+--------+--------------+--------------------+--------------------+-------+-------+--------+---------------+------------+---------+---------------+-------------+---------------+-------+-------+-------+--------------+----------+--------+--------------+------------+-------+\n",
      "|prod_c1|prod_c2|            prod_uid|prod_pattern_id|prod_time_id|prod_hits|prod_start_ss2k|prod_duration|prod_session_id|       prod_ip| prod_os|prod_bt|prod_dist_ss2k|prod_pages|prod_iab|prod_akamai_id|        prod_ua_hash|             prod_ns|test_c1|test_c2|test_uid|test_pattern_id|test_time_id|test_hits|test_start_ss2k|test_duration|test_session_id|test_ip|test_os|test_bt|test_dist_ss2k|test_pages|test_iab|test_akamai_id|test_ua_hash|test_ns|\n",
      "+-------+-------+--------------------+---------------+------------+---------+---------------+-------------+---------------+--------------+--------+-------+--------------+----------+--------+--------------+--------------------+--------------------+-------+-------+--------+---------------+------------+---------+---------------+-------------+---------------+-------+-------+-------+--------------+----------+--------+--------------+------------+-------+\n",
      "|     19|1000004|AvS9kioODVxRew5sc...|       17681803|        7242|        1|      625715913|            0|              0| 172.73.73.218|70045154|      0|             0|         1|       0|    1663582929|329e7ff770fd61fbc...|ns_ap_dbt=0&c4=CN...|   null|   null|    null|           null|        null|     null|           null|         null|           null|   null|   null|   null|          null|      null|    null|          null|        null|   null|\n",
      "|     19|1000004|DmyGSgBv3QRM6FA2D...|       17681803|        7241|        4|      625679338|         1564|              0| 182.59.168.82|70129555|      0|             0|         4|       0|    1277527708|709d0461e807cf399...|ns_ap_dbt=0&c4=CN...|   null|   null|    null|           null|        null|     null|           null|         null|           null|   null|   null|   null|          null|      null|    null|          null|        null|   null|\n",
      "|     19|1000004|HKPzuSuAqXbaQId_4...|       17681803|        7243|        1|      625825573|            0|              0|  77.222.24.65|70100279|      0|             0|         1|       0|    2458685357|4c72a1d9cf00844bf...|ns_ap_dbt=0&c4=CN...|   null|   null|    null|           null|        null|     null|           null|         null|           null|   null|   null|   null|          null|      null|    null|          null|        null|   null|\n",
      "|     19|1000004|df3qormJyd$Te4OW2...|       17681803|        7241|        1|      625671195|            0|              0|174.194.15.121|70079970|      0|             0|         1|       0|     743713418|4c72a1d9cf00844bf...|ns_ap_dbt=0&c4=CN...|   null|   null|    null|           null|        null|     null|           null|         null|           null|   null|   null|   null|          null|      null|    null|          null|        null|   null|\n",
      "|     19|1000004|o2lx6aHWbw0vHoZMg...|       17681803|        7241|        1|      625662639|            0|              0|  115.164.41.1|70117890|      0|             0|         1|       0|     406223951|ff998bcf788f85f5b...|ns_ap_dbt=0&c4=CN...|   null|   null|    null|           null|        null|     null|           null|         null|           null|   null|   null|   null|          null|      null|    null|          null|        null|   null|\n",
      "|     19|1000009|3KgTIux2nzuDoqAcM...|       16683207|        7242|        4|      625756698|           12|              0| 107.77.216.26|70109090|      0|             0|         2|       0|    3349949261|02e0822a9af54ff74...|ns_ap_dbt=0&c4=Ao...|   null|   null|    null|           null|        null|     null|           null|         null|           null|   null|   null|   null|          null|      null|    null|          null|        null|   null|\n",
      "|     19|1000009|8sMXYJWFJlVlbYa0G...|       16683207|        7242|        1|      625759930|            0|              0| 79.227.161.42|70071406|      0|             0|         1|       0|    3424469958|2b842f11132346e5d...|ns_ap_dbt=0&c4=Ao...|   null|   null|    null|           null|        null|     null|           null|         null|           null|   null|   null|   null|          null|      null|    null|          null|        null|   null|\n",
      "|     19|1000009|HKptN6PhVTHE9j2U9...|       16683207|        7243|        2|      625850531|          669|              0|107.77.207.129|70042852|      0|             0|         2|       0|    3243092267|ef115a8a92ec675fd...|ns_ap_dbt=0&c4=Ao...|   null|   null|    null|           null|        null|     null|           null|         null|           null|   null|   null|   null|          null|      null|    null|          null|        null|   null|\n",
      "|     19|1000009|IDulUg7_P0GwFCfEc...|       16683207|        7241|        1|      625629701|            0|              0|   173.73.9.90|70075788|      0|             0|         1|       0|    3121496389|8c526acd805316899...|ns_ap_dbt=0&c4=Ao...|   null|   null|    null|           null|        null|     null|           null|         null|           null|   null|   null|   null|          null|      null|    null|          null|        null|   null|\n",
      "|     19|1000009|ITwLBRlS70RRrFd6I...|       16683207|        7242|        1|      625764759|            0|              0| 130.45.35.129|70133898|      0|             0|         1|       0|     561595071|02e0822a9af54ff74...|ns_ap_dbt=0&c4=Ao...|   null|   null|    null|           null|        null|     null|           null|         null|           null|   null|   null|   null|          null|      null|    null|          null|        null|   null|\n",
      "|     19|1000009|LDmGgnNhPEB2_OCAr...|       16683207|        7242|        1|      625750268|            0|              0|108.17.112.218|70124847|      0|             0|         1|       0|    3687632279|4996bf4c6dc0953a2...|ns_ap_dbt=0&c4=Ao...|   null|   null|    null|           null|        null|     null|           null|         null|           null|   null|   null|   null|          null|      null|    null|          null|        null|   null|\n",
      "|     19|1000009|MqUsSQKuXG5E$GJuZ...|       16683207|        7242|        1|      625769209|            0|              0|  69.171.205.1|70133261|      0|             0|         1|       0|     307954097|02e0822a9af54ff74...|ns_ap_dbt=0&c4=Ao...|   null|   null|    null|           null|        null|     null|           null|         null|           null|   null|   null|   null|          null|      null|    null|          null|        null|   null|\n",
      "|     19|1000009|NTdyd5jEozY0H0P9q...|       16683207|        7242|        1|      625766357|            0|              0|  90.91.121.34|70062233|      0|             0|         1|       0|    3919534124|6f002a661436a29d6...|ns_ap_dbt=0&c4=Ao...|   null|   null|    null|           null|        null|     null|           null|         null|           null|   null|   null|   null|          null|      null|    null|          null|        null|   null|\n",
      "|     19|1000009|RZS069HEmxmdSdTi0...|       16683207|        7243|        2|      625856012|            7|              0|174.201.11.193|70096835|      0|             0|         2|       0|    3817935942|02e0822a9af54ff74...|ns_ap_dbt=0&c4=Ao...|   null|   null|    null|           null|        null|     null|           null|         null|           null|   null|   null|   null|          null|      null|    null|          null|        null|   null|\n",
      "|     19|1000009|VQNwO6YiAQMGKFyVC...|       13458216|        7243|        1|      625796053|            0|              0| 107.207.190.0|70027265|      0|             0|         1|       0|    2444981084|fe867a9459de2fdb5...|ns_ap_dbt=0&c4=Hu...|   null|   null|    null|           null|        null|     null|           null|         null|           null|   null|   null|   null|          null|      null|    null|          null|        null|   null|\n",
      "|     19|1000009|XbkBQnRYMr2E2h2fz...|       16683207|        7244|        5|      625945663|         1454|              0|    99.33.67.0|70133261|      0|             0|         4|       0|    3273815223|085d874f4a4ef7d1a...|ns_ap_dbt=0&c4=Ao...|   null|   null|    null|           null|        null|     null|           null|         null|           null|   null|   null|   null|          null|      null|    null|          null|        null|   null|\n",
      "|     19|1000009|aFFLKqeiL_nJxWi$H...|       16683207|        7242|        5|      625711668|         1200|              0|174.204.11.177|70100281|      0|             0|         5|       0|    1320998252|4996bf4c6dc0953a2...|ns_ap_dbt=0&c4=Ao...|   null|   null|    null|           null|        null|     null|           null|         null|           null|   null|   null|   null|          null|      null|    null|          null|        null|   null|\n",
      "|     19|1000009|iexqto1_AYVJM3rLD...|       16683207|        7244|        3|      625947025|          929|              0| 107.77.203.82|70096082|      0|             0|         3|       0|    4006318574|a150292b51e939dc5...|ns_ap_dbt=0&c4=Ao...|   null|   null|    null|           null|        null|     null|           null|         null|           null|   null|   null|   null|          null|      null|    null|          null|        null|   null|\n",
      "|     19|1000009|mB6svpyHQMnxO$Juz...|       16683207|        7241|        2|      625659036|            3|              0| 73.253.102.66|70133898|      0|             0|         1|       0|    3238284722|7becaca65ac0f0eae...|ns_ap_dbt=0&c4=Ao...|   null|   null|    null|           null|        null|     null|           null|         null|           null|   null|   null|   null|          null|      null|    null|          null|        null|   null|\n",
      "|     19|1000009|nTiMlU$Qf$PraLbF6...|       13458216|        7241|        1|      625674072|            0|              0|72.180.107.121|70100279|      0|             0|         1|       0|    2208878936|29fb231afde8750f8...|ns_ap_dbt=0&c4=Hu...|   null|   null|    null|           null|        null|     null|           null|         null|           null|   null|   null|   null|          null|      null|    null|          null|        null|   null|\n",
      "+-------+-------+--------------------+---------------+------------+---------+---------------+-------------+---------------+--------------+--------+-------+--------------+----------+--------+--------------+--------------------+--------------------+-------+-------+--------+---------------+------------+---------+---------------+-------------+---------------+-------+-------+-------+--------------+----------+--------+--------------+------------+-------+\n",
      "only showing top 20 rows\n",
      "\n"
     ]
    }
   ],
   "source": [
    "prod_only.show()"
   ]
  },
  {
   "cell_type": "code",
   "execution_count": 38,
   "metadata": {
    "ExecuteTime": {
     "end_time": "2020-01-27T16:13:01.332162Z",
     "start_time": "2020-01-27T16:13:01.327024Z"
    }
   },
   "outputs": [
    {
     "name": "stdout",
     "output_type": "stream",
     "text": [
      "root\n",
      " |-- prod_c1: integer (nullable = true)\n",
      " |-- prod_c2: integer (nullable = true)\n",
      " |-- prod_uid: string (nullable = true)\n",
      " |-- prod_pattern_id: integer (nullable = true)\n",
      " |-- prod_time_id: integer (nullable = true)\n",
      " |-- prod_hits: integer (nullable = true)\n",
      " |-- prod_start_ss2k: integer (nullable = true)\n",
      " |-- prod_duration: integer (nullable = true)\n",
      " |-- prod_session_id: integer (nullable = true)\n",
      " |-- prod_ip: string (nullable = true)\n",
      " |-- prod_os: integer (nullable = true)\n",
      " |-- prod_bt: integer (nullable = true)\n",
      " |-- prod_dist_ss2k: integer (nullable = true)\n",
      " |-- prod_pages: integer (nullable = true)\n",
      " |-- prod_iab: integer (nullable = true)\n",
      " |-- prod_akamai_id: long (nullable = true)\n",
      " |-- prod_ua_hash: string (nullable = true)\n",
      " |-- prod_ns: string (nullable = true)\n",
      " |-- test_c1: integer (nullable = true)\n",
      " |-- test_c2: long (nullable = true)\n",
      " |-- test_uid: string (nullable = true)\n",
      " |-- test_pattern_id: integer (nullable = true)\n",
      " |-- test_time_id: integer (nullable = true)\n",
      " |-- test_hits: integer (nullable = true)\n",
      " |-- test_start_ss2k: integer (nullable = true)\n",
      " |-- test_duration: integer (nullable = true)\n",
      " |-- test_session_id: integer (nullable = true)\n",
      " |-- test_ip: string (nullable = true)\n",
      " |-- test_os: integer (nullable = true)\n",
      " |-- test_bt: integer (nullable = true)\n",
      " |-- test_dist_ss2k: integer (nullable = true)\n",
      " |-- test_pages: integer (nullable = true)\n",
      " |-- test_iab: integer (nullable = true)\n",
      " |-- test_akamai_id: long (nullable = true)\n",
      " |-- test_ua_hash: string (nullable = true)\n",
      " |-- test_ns: string (nullable = true)\n",
      "\n"
     ]
    }
   ],
   "source": [
    "prod_only.printSchema()"
   ]
  },
  {
   "cell_type": "code",
   "execution_count": 69,
   "metadata": {
    "ExecuteTime": {
     "end_time": "2020-01-27T17:28:06.862600Z",
     "start_time": "2020-01-27T17:27:38.009078Z"
    }
   },
   "outputs": [
    {
     "data": {
      "text/plain": [
       "1825437"
      ]
     },
     "execution_count": 69,
     "metadata": {},
     "output_type": "execute_result"
    }
   ],
   "source": [
    "prod_bs.select('uid').distinct().count()"
   ]
  },
  {
   "cell_type": "code",
   "execution_count": 70,
   "metadata": {
    "ExecuteTime": {
     "end_time": "2020-01-27T17:32:43.700257Z",
     "start_time": "2020-01-27T17:32:34.664231Z"
    }
   },
   "outputs": [
    {
     "data": {
      "text/plain": [
       "1663391"
      ]
     },
     "execution_count": 70,
     "metadata": {},
     "output_type": "execute_result"
    }
   ],
   "source": [
    "test_bs.select('uid').distinct().count()"
   ]
  },
  {
   "cell_type": "code",
   "execution_count": 94,
   "metadata": {
    "ExecuteTime": {
     "end_time": "2020-01-28T15:02:57.584584Z",
     "start_time": "2020-01-28T15:02:55.278772Z"
    }
   },
   "outputs": [
    {
     "name": "stdout",
     "output_type": "stream",
     "text": [
      "+-------------------------------------------------------------------------------------------------------------------------------------------------------------------------------------------------------+\n",
      "|ns                                                                                                                                                                                                     |\n",
      "+-------------------------------------------------------------------------------------------------------------------------------------------------------------------------------------------------------+\n",
      "|ns_ap_dbt=0&c4=&ns_ak=&ns_ak_d_sha2=790B262859865ED6DF1CD96396652A37920FE9F957C7BC20CD0151FE0E2B1BAF&ns_ap_fg=0&ns_ap_dft=1000&ns_ap_pfm=ANDROID&ns_ap_sv=5.3.4.170714&ns_ap_as=1&ns_ak_d_vce=&SNAP=   |\n",
      "|ns_ap_dbt=0&c4=&ns_ak=&ns_ak_d_sha2=04505D0FE454CD73C7B903DC836744AF460B21730C0B7A7F57316113D4984052&ns_ap_fg=0&ns_ap_dft=102300&ns_ap_pfm=IOS&ns_ap_sv=5.3.4.170714&ns_ap_as=1&ns_ak_d_vce=&SNAP=     |\n",
      "|ns_ap_dbt=0&c4=&ns_ak=&ns_ak_d_sha2=&ns_ap_fg=0&ns_ap_dft=208000&ns_ap_pfm=IOS&ns_ap_sv=5.3.4.170714&ns_ap_as=1&ns_ak_d_vce=&SNAP=                                                                     |\n",
      "|ns_ap_dbt=0&c4=&ns_ak=&ns_ak_d_sha2=08076AB551A87E68362D2D3433B5CC72C96A7109EF41940614C38ACEB9401096&ns_ap_fg=0&ns_ap_dft=139000&ns_ap_pfm=IOS&ns_ap_sv=5.3.4.170714&ns_ap_as=1&ns_ak_d_vce=&SNAP=     |\n",
      "|ns_ap_dbt=0&c4=&ns_ak=&ns_ak_d_sha2=ABA5B88FAE1BF19E83F26F4B53351B41E3B44D760CE2EF26E5184B0739373E96&ns_ap_fg=0&ns_ap_dft=600&ns_ap_pfm=ANDROID&ns_ap_sv=5.3.4.170714&ns_ap_as=1&ns_ak_d_vce=&SNAP=    |\n",
      "|ns_ap_dbt=0&c4=&ns_ak=&ns_ak_d_sha2=&ns_ap_fg=0&ns_ap_dft=1000&ns_ap_pfm=ANDROID&ns_ap_sv=5.3.4.170714&ns_ap_as=1&ns_ak_d_vce=&SNAP=                                                                   |\n",
      "|ns_ap_dbt=0&c4=&ns_ak=&ns_ak_d_sha2=5A91426136B94D2F26DE47445B8E16F8B8F33B8B1801526FBBF78144D1066EFB&ns_ap_fg=0&ns_ap_dft=60500&ns_ap_pfm=IOS&ns_ap_sv=5.3.4.170714&ns_ap_as=1&ns_ak_d_vce=&SNAP=      |\n",
      "|ns_ap_dbt=0&c4=&ns_ak=&ns_ak_d_sha2=A40A557185268F87C671AEE8E5FE05366D93DB0C3DF65548B3B55E9B317B5390&ns_ap_fg=0&ns_ap_dft=416700&ns_ap_pfm=ANDROID&ns_ap_sv=5.3.4.170714&ns_ap_as=1&ns_ak_d_vce=&SNAP= |\n",
      "|ns_ap_dbt=0&c4=&ns_ak=&ns_ak_d_sha2=&ns_ap_fg=0&ns_ap_dft=2100&ns_ap_pfm=IOS&ns_ap_sv=5.3.4.170714&ns_ap_as=1&ns_ak_d_vce=&SNAP=                                                                       |\n",
      "|ns_ap_dbt=0&c4=&ns_ak=&ns_ak_d_sha2=832EACA5E0B45986428316BBF5EA20F9CDA8BFF5A6782BF74C4F079F784A3BD1&ns_ap_fg=0&ns_ap_dft=427100&ns_ap_pfm=IOS&ns_ap_sv=5.3.4.170714&ns_ap_as=1&ns_ak_d_vce=&SNAP=     |\n",
      "|ns_ap_dbt=0&c4=&ns_ak=&ns_ak_d_sha2=5E674E76046699DC1415DE8736A2AC0AFF2A6E967EB6921EED424E4D5A064EF1&ns_ap_fg=0&ns_ap_dft=83100&ns_ap_pfm=IOS&ns_ap_sv=5.3.4.170714&ns_ap_as=1&ns_ak_d_vce=&SNAP=      |\n",
      "|ns_ap_dbt=0&c4=&ns_ak=&ns_ak_d_sha2=E0B9ECCC7084CC799869927E26EF9D2A70E3119CA722D9954589F33CB55F05D5&ns_ap_fg=0&ns_ap_dft=78000&ns_ap_pfm=IOS&ns_ap_sv=5.3.4.170714&ns_ap_as=1&ns_ak_d_vce=&SNAP=      |\n",
      "|ns_ap_dbt=0&c4=&ns_ak=&ns_ak_d_sha2=38BA1FC77D25A4086328398A92680D6D413A9AB8463915D3B23972C4D9A65238&ns_ap_fg=0&ns_ap_dft=1132700&ns_ap_pfm=ANDROID&ns_ap_sv=5.3.4.170714&ns_ap_as=1&ns_ak_d_vce=&SNAP=|\n",
      "|ns_ap_dbt=0&c4=&ns_ak=&ns_ak_d_sha2=73C9C0C0F75D60B1911C91A149641C316E78D1EA6BABF6B6042268FCEF8CE42B&ns_ap_fg=0&ns_ap_dft=74600&ns_ap_pfm=IOS&ns_ap_sv=5.3.4.170714&ns_ap_as=1&ns_ak_d_vce=&SNAP=      |\n",
      "|ns_ap_dbt=0&c4=&ns_ak=&ns_ak_d_sha2=15F8FC9CCF846F427FBFD3F09BC9D9A547832F49BAF7B6AD6DA98A590318B21C&ns_ap_fg=0&ns_ap_dft=1900&ns_ap_pfm=IOS&ns_ap_sv=5.3.4.170714&ns_ap_as=1&ns_ak_d_vce=&SNAP=       |\n",
      "|ns_ap_dbt=0&c4=&ns_ak=&ns_ak_d_sha2=D53790EA890104248D7BE8EC42592D8C52202912242E24FDCBB202CEB4067DD6&ns_ap_fg=0&ns_ap_dft=10800&ns_ap_pfm=IOS&ns_ap_sv=5.3.4.170714&ns_ap_as=1&ns_ak_d_vce=&SNAP=      |\n",
      "|ns_ap_dbt=0&c4=&ns_ak=&ns_ak_d_sha2=FE45E3349B0F016C2E73CD84B3CEA54C15C33DEBCE3A0966A554E8BCBDC60679&ns_ap_fg=0&ns_ap_dft=600&ns_ap_pfm=ANDROID&ns_ap_sv=5.3.4.170714&ns_ap_as=1&ns_ak_d_vce=&SNAP=    |\n",
      "|ns_ap_dbt=0&c4=&ns_ak=&ns_ak_d_sha2=B388947B2087393733C5CF48BB85701F748DB261C5E1EC56D343C4D709220A27&ns_ap_fg=0&ns_ap_dft=34400&ns_ap_pfm=IOS&ns_ap_sv=5.3.4.170714&ns_ap_as=1&ns_ak_d_vce=&SNAP=      |\n",
      "|ns_ap_dbt=0&c4=&ns_ak=&ns_ak_d_sha2=9A9E06A72437392ADF961F87244A13F3D78A15B2B15804C8A1A1195C2FB1B20D&ns_ap_fg=0&ns_ap_dft=205400&ns_ap_pfm=ANDROID&ns_ap_sv=5.3.4.170714&ns_ap_as=1&ns_ak_d_vce=&SNAP= |\n",
      "|ns_ap_dbt=0&c4=&ns_ak=&ns_ak_d_sha2=BE38FB2E41FAF40B83D109D23B69E39F07687AC6355C152A81DAE08980D2E321&ns_ap_fg=0&ns_ap_dft=61600&ns_ap_pfm=IOS&ns_ap_sv=5.3.4.170714&ns_ap_as=1&ns_ak_d_vce=&SNAP=      |\n",
      "+-------------------------------------------------------------------------------------------------------------------------------------------------------------------------------------------------------+\n",
      "only showing top 20 rows\n",
      "\n"
     ]
    }
   ],
   "source": [
    "test_bs.select('ns').filter(test_bs.ns.contains('ns_ak_d_sha2')).show(20, False)"
   ]
  },
  {
   "cell_type": "code",
   "execution_count": 127,
   "metadata": {
    "ExecuteTime": {
     "end_time": "2020-01-28T15:55:03.277015Z",
     "start_time": "2020-01-28T15:54:18.838535Z"
    }
   },
   "outputs": [
    {
     "name": "stdout",
     "output_type": "stream",
     "text": [
      "+---+\n",
      "|ns |\n",
      "+---+\n",
      "+---+\n",
      "\n"
     ]
    }
   ],
   "source": [
    "prod_bs.select('ns').filter(prod_bs.ns.contains('ns_ak_d_sha2')).show(20, False)"
   ]
  },
  {
   "cell_type": "code",
   "execution_count": 99,
   "metadata": {
    "ExecuteTime": {
     "end_time": "2020-01-28T15:11:21.552961Z",
     "start_time": "2020-01-28T15:11:07.135539Z"
    }
   },
   "outputs": [
    {
     "name": "stdout",
     "output_type": "stream",
     "text": [
      "+---+---+---+----------+-------+----+----------+--------+----------+---+---+---+---------+-----+---+---------+-------+---+\n",
      "| c1| c2|uid|pattern_id|time_id|hits|start_ss2k|duration|session_id| ip| os| bt|dist_ss2k|pages|iab|akamai_id|ua_hash| ns|\n",
      "+---+---+---+----------+-------+----+----------+--------+----------+---+---+---+---------+-----+---+---------+-------+---+\n",
      "+---+---+---+----------+-------+----+----------+--------+----------+---+---+---+---------+-----+---+---------+-------+---+\n",
      "\n"
     ]
    }
   ],
   "source": [
    "prod_bs.filter(prod_bs.ns.contains('D01725EB28A8683B534DFC2111EFF6BA53A2A5D4376ADA0A1CC1B0830DEBC180')).show()"
   ]
  },
  {
   "cell_type": "code",
   "execution_count": 101,
   "metadata": {
    "ExecuteTime": {
     "end_time": "2020-01-28T15:24:15.367943Z",
     "start_time": "2020-01-28T15:17:05.021898Z"
    }
   },
   "outputs": [
    {
     "name": "stdout",
     "output_type": "stream",
     "text": [
      "+--------------------+-----------+-------+------------+--------------------+-------+----------+----------------+---------------+------------------+-----------------+---------------+\n",
      "|                date|app_version|country|device_model|         hashed_idfa|os_type|os_version|    publisher_id|total_snap_view|edition_view_count|total_time_viewed|snap_created_id|\n",
      "+--------------------+-----------+-------+------------+--------------------+-------+----------+----------------+---------------+------------------+-----------------+---------------+\n",
      "|2019-11-12 00:00:...|  10.69.5.0|     US|   SM-G935R4|A40A557185268F87C...|Android|     8.0.0|5106373324963840|             19|                 1|               87|              0|\n",
      "|2019-11-16 00:00:...|  10.70.0.0|     US|   SM-G935R4|A40A557185268F87C...|Android|     8.0.0|5722721933590528|             88|                 2|            570.6|              0|\n",
      "|2019-11-14 00:00:...|  10.70.0.0|     US|   SM-G935R4|A40A557185268F87C...|Android|     8.0.0|5116679482507264|              1|                 1|              6.1|              0|\n",
      "|2019-11-08 00:00:...|  10.69.5.0|     US|   SM-G935R4|A40A557185268F87C...|Android|     8.0.0|4899274482253824|              7|                 1|              7.4|              0|\n",
      "|2019-11-08 00:00:...|  10.69.5.0|     US|   SM-G935R4|A40A557185268F87C...|Android|     8.0.0|5106373324963840|             17|                 1|               44|              0|\n",
      "|2019-11-08 00:00:...|  10.69.5.0|     US|   SM-G935R4|A40A557185268F87C...|Android|     8.0.0|5722721933590528|              0|                 1|                0|              0|\n",
      "|2019-11-06 00:00:...|  10.69.0.0|     US|   SM-G935R4|A40A557185268F87C...|Android|     8.0.0|5722721933590528|             59|                 2|            430.3|              0|\n",
      "|2019-11-24 00:00:...|  10.70.5.0|     US|   SM-G935R4|A40A557185268F87C...|Android|     8.0.0|5075903331434496|              5|                 1|             10.2|              0|\n",
      "|2019-11-24 00:00:...|  10.70.5.0|     US|   SM-G935R4|A40A557185268F87C...|Android|     8.0.0|5722721933590528|             97|                 2|            508.8|              0|\n",
      "|2019-11-24 00:00:...|  10.70.5.0|     US|   SM-G935R4|A40A557185268F87C...|Android|     8.0.0|5077120417792000|              1|                 3|              0.8|              0|\n",
      "|2019-11-24 00:00:...|  10.70.5.0|     US|   SM-G935R4|A40A557185268F87C...|Android|     8.0.0|5671274802053120|              3|                 1|              2.6|              0|\n",
      "|2019-11-24 00:00:...|  10.70.5.0|     US|   SM-G935R4|A40A557185268F87C...|Android|     8.0.0|5106373324963840|             14|                 1|             29.5|              0|\n",
      "|2019-11-05 00:00:...|  10.69.0.0|     US|   SM-G935R4|A40A557185268F87C...|Android|     8.0.0|5106373324963840|              2|                 1|              1.2|              0|\n",
      "|2019-11-15 00:00:...|  10.70.0.0|     US|   SM-G935R4|A40A557185268F87C...|Android|     8.0.0|5722721933590528|             48|                 1|            495.5|              0|\n",
      "|2019-11-15 00:00:...|  10.70.0.0|     US|   SM-G935R4|A40A557185268F87C...|Android|     8.0.0|5671274802053120|              1|                 1|              1.2|              0|\n",
      "|2019-11-15 00:00:...|  10.70.0.0|     US|   SM-G935R4|A40A557185268F87C...|Android|     8.0.0|4899274482253824|              2|                 1|              1.8|              0|\n",
      "|2019-11-15 00:00:...|  10.70.0.0|     US|   SM-G935R4|A40A557185268F87C...|Android|     8.0.0|5106373324963840|             15|                 1|             16.4|              0|\n",
      "|2019-11-10 00:00:...|  10.69.5.0|     US|   SM-G935R4|A40A557185268F87C...|Android|     8.0.0|5106373324963840|              2|                 1|              1.6|              0|\n",
      "|2019-11-10 00:00:...|  10.69.5.0|     US|   SM-G935R4|A40A557185268F87C...|Android|     8.0.0|5722721933590528|             55|                 1|            223.6|              0|\n",
      "|2019-11-10 00:00:...|  10.69.5.0|     US|   SM-G935R4|A40A557185268F87C...|Android|     8.0.0|5671274802053120|              1|                 1|              0.5|              0|\n",
      "+--------------------+-----------+-------+------------+--------------------+-------+----------+----------------+---------------+------------------+-----------------+---------------+\n",
      "only showing top 20 rows\n",
      "\n"
     ]
    }
   ],
   "source": [
    "snap.filter(snap.hashed_idfa.contains('A40A557185268F87C671AEE8E5FE05366D93DB0C3DF65548B3B55E9B317B5390')).show(20)"
   ]
  },
  {
   "cell_type": "code",
   "execution_count": 105,
   "metadata": {
    "ExecuteTime": {
     "end_time": "2020-01-28T15:27:11.287378Z",
     "start_time": "2020-01-28T15:26:51.732767Z"
    }
   },
   "outputs": [
    {
     "name": "stdout",
     "output_type": "stream",
     "text": [
      "+-------+\n",
      "|prod_ns|\n",
      "+-------+\n",
      "+-------+\n",
      "\n"
     ]
    }
   ],
   "source": [
    "prod_only.select('prod_ns').filter(prod_only.prod_ns.contains('ns_ak_d_sha2')).show(20, False)"
   ]
  },
  {
   "cell_type": "code",
   "execution_count": 138,
   "metadata": {
    "ExecuteTime": {
     "end_time": "2020-01-28T16:03:27.582059Z",
     "start_time": "2020-01-28T16:03:27.553336Z"
    }
   },
   "outputs": [],
   "source": [
    "from pyspark.sql.functions import regexp_extract, col\n",
    "t = test_bs.filter(test_bs.ns.contains('ns_ak_d_sha2')).select('ns').withColumn('nsaksha2', regexp_extract(col('ns'), '\\&ns_ak_d_sha2=(.*?)\\&', 0))"
   ]
  },
  {
   "cell_type": "code",
   "execution_count": 148,
   "metadata": {
    "ExecuteTime": {
     "end_time": "2020-01-28T16:09:02.270123Z",
     "start_time": "2020-01-28T16:09:02.260112Z"
    }
   },
   "outputs": [],
   "source": [
    "tt = t.withColumn('nask', t['nsaksha2'].substr(15,64))"
   ]
  },
  {
   "cell_type": "code",
   "execution_count": 156,
   "metadata": {
    "ExecuteTime": {
     "end_time": "2020-01-28T16:17:30.300807Z",
     "start_time": "2020-01-28T16:17:30.290460Z"
    }
   },
   "outputs": [],
   "source": [
    "from pyspark.sql.functions import upper\n",
    "snap_t = snap.withColumn('nsak', upper(snap.hashed_idfa))"
   ]
  },
  {
   "cell_type": "code",
   "execution_count": 157,
   "metadata": {
    "ExecuteTime": {
     "end_time": "2020-01-28T16:18:00.443477Z",
     "start_time": "2020-01-28T16:18:00.429784Z"
    }
   },
   "outputs": [],
   "source": [
    "ts = tt.join(snap_t, tt.nask == snap_t.nsak, how= 'left')"
   ]
  },
  {
   "cell_type": "code",
   "execution_count": 158,
   "metadata": {
    "ExecuteTime": {
     "end_time": "2020-01-28T16:22:26.426235Z",
     "start_time": "2020-01-28T16:18:15.825496Z"
    }
   },
   "outputs": [
    {
     "name": "stdout",
     "output_type": "stream",
     "text": [
      "+--------------------+--------------------+--------------------+--------------------+-----------+-------+------------+--------------------+-------+----------+----------------+---------------+------------------+-----------------+---------------+--------------------+\n",
      "|                  ns|            nsaksha2|                nask|                date|app_version|country|device_model|         hashed_idfa|os_type|os_version|    publisher_id|total_snap_view|edition_view_count|total_time_viewed|snap_created_id|                nsak|\n",
      "+--------------------+--------------------+--------------------+--------------------+-----------+-------+------------+--------------------+-------+----------+----------------+---------------+------------------+-----------------+---------------+--------------------+\n",
      "|ns_ap_dbt=0&c4=&n...|&ns_ak_d_sha2=DE7...|DE70A20F550AAA851...|2019-11-19 00:00:...|  10.63.1.1|     US|  iPhone11,2|DE70A20F550AAA851...|    iOS|    13.1.3|6328325341446144|              1|                 1|              0.3|              0|DE70A20F550AAA851...|\n",
      "|ns_ap_dbt=0&c4=&n...|&ns_ak_d_sha2=DE7...|DE70A20F550AAA851...|2019-11-02 00:00:...|  10.63.1.1|     US|  iPhone11,2|DE70A20F550AAA851...|    iOS|    13.1.3|6328325341446144|              1|                 1|              0.5|              0|DE70A20F550AAA851...|\n",
      "|ns_ap_dbt=0&c4=&n...|&ns_ak_d_sha2=DE7...|DE70A20F550AAA851...|2019-11-12 00:00:...|  10.63.1.1|     US|  iPhone11,2|DE70A20F550AAA851...|    iOS|    13.1.3|5722721933590528|             92|                 4|            669.3|              0|DE70A20F550AAA851...|\n",
      "|ns_ap_dbt=0&c4=&n...|&ns_ak_d_sha2=DE7...|DE70A20F550AAA851...|2019-11-14 00:00:...|  10.63.1.1|     US|  iPhone11,2|DE70A20F550AAA851...|    iOS|    13.1.3|5134826088431616|            175|                 2|            197.2|              0|DE70A20F550AAA851...|\n",
      "|ns_ap_dbt=0&c4=&n...|&ns_ak_d_sha2=DE7...|DE70A20F550AAA851...|2019-11-20 00:00:...|  10.63.1.1|     US|  iPhone11,2|DE70A20F550AAA851...|    iOS|    13.1.3|5104107375034368|             18|                 1|            127.5|              0|DE70A20F550AAA851...|\n",
      "|ns_ap_dbt=0&c4=&n...|&ns_ak_d_sha2=DE7...|DE70A20F550AAA851...|2019-11-05 00:00:...|  10.63.1.1|     US|  iPhone11,2|DE70A20F550AAA851...|    iOS|    13.1.3|5164833460191248|             33|                 1|            229.8|              0|DE70A20F550AAA851...|\n",
      "|ns_ap_dbt=0&c4=&n...|&ns_ak_d_sha2=DE7...|DE70A20F550AAA851...|2019-11-30 00:00:...|  10.63.1.1|     US|  iPhone11,2|DE70A20F550AAA851...|    iOS|    13.1.3|5722721933590528|             84|                 4|            575.1|              0|DE70A20F550AAA851...|\n",
      "|ns_ap_dbt=0&c4=&n...|&ns_ak_d_sha2=DE7...|DE70A20F550AAA851...|2019-11-10 00:00:...|  10.63.1.1|     US|  iPhone11,2|DE70A20F550AAA851...|    iOS|    13.1.3|5722721933590528|             69|                 2|            312.6|              0|DE70A20F550AAA851...|\n",
      "|ns_ap_dbt=0&c4=&n...|&ns_ak_d_sha2=DE7...|DE70A20F550AAA851...|2019-11-10 00:00:...|  10.63.1.1|     US|  iPhone11,2|DE70A20F550AAA851...|    iOS|    13.1.3|5134826088431616|            194|                 1|              236|              0|DE70A20F550AAA851...|\n",
      "|ns_ap_dbt=0&c4=&n...|&ns_ak_d_sha2=DE7...|DE70A20F550AAA851...|2019-11-06 00:00:...|  10.63.1.1|     US|  iPhone11,2|DE70A20F550AAA851...|    iOS|    13.1.3|5183127559077888|             11|                 1|             15.3|              0|DE70A20F550AAA851...|\n",
      "|ns_ap_dbt=0&c4=&n...|&ns_ak_d_sha2=DE7...|DE70A20F550AAA851...|2019-11-27 00:00:...|  10.63.1.1|     US|  iPhone11,2|DE70A20F550AAA851...|    iOS|    13.1.3|5722721933590528|             70|                 1|            304.8|              0|DE70A20F550AAA851...|\n",
      "|ns_ap_dbt=0&c4=&n...|&ns_ak_d_sha2=DE7...|DE70A20F550AAA851...|2019-11-05 00:00:...|  10.63.1.1|     US|  iPhone11,2|DE70A20F550AAA851...|    iOS|    13.1.3|5134826088431616|              7|                 1|             11.7|              0|DE70A20F550AAA851...|\n",
      "|ns_ap_dbt=0&c4=&n...|&ns_ak_d_sha2=DE7...|DE70A20F550AAA851...|2019-11-26 00:00:...|  10.63.1.1|     US|  iPhone11,2|DE70A20F550AAA851...|    iOS|    13.1.3|5134826088431616|            173|                 1|            159.9|              0|DE70A20F550AAA851...|\n",
      "|ns_ap_dbt=0&c4=&n...|&ns_ak_d_sha2=DE7...|DE70A20F550AAA851...|2019-11-09 00:00:...|  10.63.1.1|     US|  iPhone11,2|DE70A20F550AAA851...|    iOS|    13.1.3|5134826088431616|              1|                 1|              0.3|              0|DE70A20F550AAA851...|\n",
      "|ns_ap_dbt=0&c4=&n...|&ns_ak_d_sha2=DE7...|DE70A20F550AAA851...|2019-11-05 00:00:...|  10.63.1.1|     US|  iPhone11,2|DE70A20F550AAA851...|    iOS|    13.1.3|5722721933590528|             77|                 2|            488.4|              0|DE70A20F550AAA851...|\n",
      "|ns_ap_dbt=0&c4=&n...|&ns_ak_d_sha2=DE7...|DE70A20F550AAA851...|2019-11-01 00:00:...|  10.63.1.1|     US|  iPhone11,2|DE70A20F550AAA851...|    iOS|    13.1.3|5722721933590528|             71|                 1|            403.5|              0|DE70A20F550AAA851...|\n",
      "|ns_ap_dbt=0&c4=&n...|&ns_ak_d_sha2=DE7...|DE70A20F550AAA851...|2019-11-02 00:00:...|  10.63.1.1|     US|  iPhone11,2|DE70A20F550AAA851...|    iOS|    13.1.3|5164833460191248|             40|                 1|            271.5|              0|DE70A20F550AAA851...|\n",
      "|ns_ap_dbt=0&c4=&n...|&ns_ak_d_sha2=DE7...|DE70A20F550AAA851...|2019-11-03 00:00:...|  10.63.1.1|     US|  iPhone11,2|DE70A20F550AAA851...|    iOS|    13.1.3|5075903331434496|             10|                 1|             84.7|              0|DE70A20F550AAA851...|\n",
      "|ns_ap_dbt=0&c4=&n...|&ns_ak_d_sha2=DE7...|DE70A20F550AAA851...|2019-11-08 00:00:...|  10.63.1.1|     US|  iPhone11,2|DE70A20F550AAA851...|    iOS|    13.1.3|5722721933590528|             73|                 5|            440.7|              0|DE70A20F550AAA851...|\n",
      "|ns_ap_dbt=0&c4=&n...|&ns_ak_d_sha2=DE7...|DE70A20F550AAA851...|2019-11-16 00:00:...|  10.63.1.1|     US|  iPhone11,2|DE70A20F550AAA851...|    iOS|    13.1.3|5134826088431616|            226|                 1|            246.8|              0|DE70A20F550AAA851...|\n",
      "+--------------------+--------------------+--------------------+--------------------+-----------+-------+------------+--------------------+-------+----------+----------------+---------------+------------------+-----------------+---------------+--------------------+\n",
      "only showing top 20 rows\n",
      "\n"
     ]
    }
   ],
   "source": [
    "ts.show()"
   ]
  },
  {
   "cell_type": "code",
   "execution_count": 159,
   "metadata": {
    "ExecuteTime": {
     "end_time": "2020-01-28T16:31:15.533295Z",
     "start_time": "2020-01-28T16:24:09.932085Z"
    }
   },
   "outputs": [
    {
     "name": "stdout",
     "output_type": "stream",
     "text": [
      "+---------------+-------+\n",
      "|snap_created_id|  count|\n",
      "+---------------+-------+\n",
      "|              0|5827839|\n",
      "|           null|  13816|\n",
      "+---------------+-------+\n",
      "\n"
     ]
    }
   ],
   "source": [
    "ts.groupBy('snap_created_id').count().show()"
   ]
  },
  {
   "cell_type": "code",
   "execution_count": 165,
   "metadata": {
    "ExecuteTime": {
     "end_time": "2020-01-28T19:54:13.131892Z",
     "start_time": "2020-01-28T19:54:09.857960Z"
    }
   },
   "outputs": [
    {
     "name": "stdout",
     "output_type": "stream",
     "text": [
      "+---+----------------+----------------------+----------+-------+----+----------+--------+----------+---------------+--------+---+---------+-----+---+----------+--------------------------------+----------------------------------------------------------------------------------------------------------------------------------------------------------------------------------------------------------------------------------------------------------------------------------------------------------------------------+\n",
      "|c1 |c2              |uid                   |pattern_id|time_id|hits|start_ss2k|duration|session_id|ip             |os      |bt |dist_ss2k|pages|iab|akamai_id |ua_hash                         |ns                                                                                                                                                                                                                                                                                                                          |\n",
      "+---+----------------+----------------------+----------+-------+----+----------+--------+----------+---------------+--------+---+---------+-----+---+----------+--------------------------------+----------------------------------------------------------------------------------------------------------------------------------------------------------------------------------------------------------------------------------------------------------------------------------------------------------------------------+\n",
      "|19 |6035227         |$$2aBJjEMdZZxI0rcK2r83|19922807  |7245   |1   |625976045 |0       |0         |191.219.32.250 |70005788|0  |0        |1    |0  |601475783 |9684ad6de542f5944b750d9b804e6cfd|ns_ap_dbt=0&c4=cartola fc&ns_ak=pP/SLVDnDSv0pu1fQs1Cm6H8F9LxpopC/wf6IPcZa7Af6epMiBHvoHq/19CYp/hclRZQI3CSBhcXIBiHxkg9rERw3j89PqyLnx2nXgWVvOD5Og7Bmrr/jiFGfbTj0pyp1G5LKhyAwU6cYVtra+uCpeZ2EbGeiB/3SjKUkq4+uKg=&ns_ap_fg=0&ns_ap_dft=0&ns_ap_pfm=android&ns_ap_sv=5.7.3.190611&ns_ap_as=0&ns_ak_d_vce=                         |\n",
      "|19 |15654041        |$$57hylso6RD7KjdjsoD6f|19204331  |7245   |1   |626005481 |0       |0         |213.55.225.10  |70109090|0  |0        |1    |0  |3005572751|a37332183d576592d0cd4abc80e2eac4|ns_ap_dbt=8229689&c4=Spotify&ns_ak=Och%2BUSXriNHw3Rh2CSVW7Emk6eB%2BBvYS5INwdQQY63nj5IP5wujyyTDd97RY5Z%2F%2BEsFYn0iFd8lB%2Bu71CUK4l%2BAgeVR1NAQqK6ibb6EQgZWG%2FHtgOkug83%2BBKBf%2BBUN9lxGF51PsirvZvzyvtpP59tNKb%2FANdGnfbvUOTVYQBkM%3D&ns_ap_fg=4&ns_ap_dft=25047&ns_ap_pfm=ios&ns_ap_sv=5.6.1.170922&ns_ap_as=1&ns_ak_d_vce=|\n",
      "|19 |6035227         |$$64OyB0hIjqsao1nkC964|19922807  |7245   |1   |626051636 |0       |0         |177.25.206.250 |70128218|0  |0        |1    |0  |4134248908|cff4b0f7e9b3d08e796c91d7e470fa2a|ns_ap_dbt=0&c4=cartola fc&ns_ak=E%2F0cPL9zOdxmhQeJEQ9eBSDwdKSVuZITqqRWWpq3eKpSVT7Ld%2BzmwVKcSxXprYGj8ptAUHsuO6EG9RDsjK4pEolq0Db4QOd7jNSgK9EbI1lvCGTDDrjZdXKfNzU6PxuMhdLCPhMY6sJ60%2FinljAx8ZwIxXXmA%2FZUmbcK%2FApoJjA%3D&ns_ap_fg=0&ns_ap_dft=0&ns_ap_pfm=android&ns_ap_sv=5.7.3.190611&ns_ap_as=0&ns_ak_d_vce=             |\n",
      "|19 |17304450        |$$99UkKbT$5KJzpLNbY2cf|20021763  |7245   |5   |625975683 |3542    |0         |42.110.225.210 |70005788|0  |0        |5    |0  |2412725415|0eecb579e07e3187868790513ee24f82|ns_ap_dbt=0&c4=ABP LIVE News&ns_ak=ZoF%2FAABkEyUwKRz9BlGQw%2BMYdbYCaNvkQHmlNVXv2zNgmdFbF7%2BXYPhs4hgdTz48KtKhIfmmo7zX9UuLs4jAOq0y709Si5kRFtGhPkxv4D5tP7TXos%2FmWSI0YHIVQlNgJVMGPl4zRNAtVwexg2QP2QAQdpcSa4gAzT850jLfb4E%3D&ns_ap_fg=0&ns_ap_dft=0&ns_ap_pfm=android&ns_ap_sv=5.2.0.170406&ns_ap_as=0&ns_ak_d_vce=            |\n",
      "|19 |17304450        |$$99UkKbT$5KJzpLNbY2cf|20021763  |7245   |3   |625982554 |2119    |0         |42.110.221.18  |70005788|0  |0        |3    |0  |3135438089|0eecb579e07e3187868790513ee24f82|ns_ap_dbt=0&c4=ABP LIVE News&ns_ak=ZoF%2FAABkEyUwKRz9BlGQw%2BMYdbYCaNvkQHmlNVXv2zNgmdFbF7%2BXYPhs4hgdTz48KtKhIfmmo7zX9UuLs4jAOq0y709Si5kRFtGhPkxv4D5tP7TXos%2FmWSI0YHIVQlNgJVMGPl4zRNAtVwexg2QP2QAQdpcSa4gAzT850jLfb4E%3D&ns_ap_fg=0&ns_ap_dft=0&ns_ap_pfm=android&ns_ap_sv=5.2.0.170406&ns_ap_as=0&ns_ak_d_vce=            |\n",
      "|19 |17304450        |$$99UkKbT$5KJzpLNbY2cf|20021763  |7245   |3   |625995925 |1558    |0         |42.110.201.146 |70005788|0  |0        |3    |0  |1332837389|0eecb579e07e3187868790513ee24f82|ns_ap_dbt=0&c4=ABP LIVE News&ns_ak=ZoF%2FAABkEyUwKRz9BlGQw%2BMYdbYCaNvkQHmlNVXv2zNgmdFbF7%2BXYPhs4hgdTz48KtKhIfmmo7zX9UuLs4jAOq0y709Si5kRFtGhPkxv4D5tP7TXos%2FmWSI0YHIVQlNgJVMGPl4zRNAtVwexg2QP2QAQdpcSa4gAzT850jLfb4E%3D&ns_ap_fg=0&ns_ap_dft=125036&ns_ap_pfm=android&ns_ap_sv=5.2.0.170406&ns_ap_as=0&ns_ak_d_vce=       |\n",
      "|19 |17304450        |$$99UkKbT$5KJzpLNbY2cf|20021763  |7245   |4   |626011067 |3508    |0         |42.110.214.162 |70005788|0  |0        |4    |0  |2041081257|0eecb579e07e3187868790513ee24f82|ns_ap_dbt=0&c4=ABP LIVE News&ns_ak=ZoF%2FAABkEyUwKRz9BlGQw%2BMYdbYCaNvkQHmlNVXv2zNgmdFbF7%2BXYPhs4hgdTz48KtKhIfmmo7zX9UuLs4jAOq0y709Si5kRFtGhPkxv4D5tP7TXos%2FmWSI0YHIVQlNgJVMGPl4zRNAtVwexg2QP2QAQdpcSa4gAzT850jLfb4E%3D&ns_ap_fg=0&ns_ap_dft=0&ns_ap_pfm=android&ns_ap_sv=5.2.0.170406&ns_ap_as=0&ns_ak_d_vce=            |\n",
      "|19 |17304450        |$$99UkKbT$5KJzpLNbY2cf|20021763  |7245   |1   |626017969 |0       |0         |42.110.214.162 |70005788|0  |0        |1    |0  |2041081257|0eecb579e07e3187868790513ee24f82|ns_ap_dbt=0&c4=ABP LIVE News&ns_ak=ZoF%2FAABkEyUwKRz9BlGQw%2BMYdbYCaNvkQHmlNVXv2zNgmdFbF7%2BXYPhs4hgdTz48KtKhIfmmo7zX9UuLs4jAOq0y709Si5kRFtGhPkxv4D5tP7TXos%2FmWSI0YHIVQlNgJVMGPl4zRNAtVwexg2QP2QAQdpcSa4gAzT850jLfb4E%3D&ns_ap_fg=0&ns_ap_dft=0&ns_ap_pfm=android&ns_ap_sv=5.2.0.170406&ns_ap_as=0&ns_ak_d_vce=            |\n",
      "|19 |17304450        |$$99UkKbT$5KJzpLNbY2cf|20021763  |7245   |1   |626022125 |0       |0         |42.110.214.162 |70005788|0  |0        |1    |0  |2041081257|0eecb579e07e3187868790513ee24f82|ns_ap_dbt=0&c4=ABP LIVE News&ns_ak=ZoF%2FAABkEyUwKRz9BlGQw%2BMYdbYCaNvkQHmlNVXv2zNgmdFbF7%2BXYPhs4hgdTz48KtKhIfmmo7zX9UuLs4jAOq0y709Si5kRFtGhPkxv4D5tP7TXos%2FmWSI0YHIVQlNgJVMGPl4zRNAtVwexg2QP2QAQdpcSa4gAzT850jLfb4E%3D&ns_ap_fg=0&ns_ap_dft=0&ns_ap_pfm=android&ns_ap_sv=5.2.0.170406&ns_ap_as=0&ns_ak_d_vce=            |\n",
      "|19 |17304450        |$$99UkKbT$5KJzpLNbY2cf|20021763  |7245   |1   |626024435 |0       |0         |42.110.214.162 |70005788|0  |0        |1    |0  |2041081257|0eecb579e07e3187868790513ee24f82|ns_ap_dbt=0&c4=ABP LIVE News&ns_ak=ZoF%2FAABkEyUwKRz9BlGQw%2BMYdbYCaNvkQHmlNVXv2zNgmdFbF7%2BXYPhs4hgdTz48KtKhIfmmo7zX9UuLs4jAOq0y709Si5kRFtGhPkxv4D5tP7TXos%2FmWSI0YHIVQlNgJVMGPl4zRNAtVwexg2QP2QAQdpcSa4gAzT850jLfb4E%3D&ns_ap_fg=0&ns_ap_dft=0&ns_ap_pfm=android&ns_ap_sv=5.2.0.170406&ns_ap_as=0&ns_ak_d_vce=            |\n",
      "|19 |17304450        |$$99UkKbT$5KJzpLNbY2cf|20021763  |7245   |1   |626026521 |0       |0         |42.110.214.25  |70005788|0  |0        |1    |0  |505635833 |0eecb579e07e3187868790513ee24f82|ns_ap_dbt=0&c4=ABP LIVE News&ns_ak=ZoF%2FAABkEyUwKRz9BlGQw%2BMYdbYCaNvkQHmlNVXv2zNgmdFbF7%2BXYPhs4hgdTz48KtKhIfmmo7zX9UuLs4jAOq0y709Si5kRFtGhPkxv4D5tP7TXos%2FmWSI0YHIVQlNgJVMGPl4zRNAtVwexg2QP2QAQdpcSa4gAzT850jLfb4E%3D&ns_ap_fg=0&ns_ap_dft=0&ns_ap_pfm=android&ns_ap_sv=5.2.0.170406&ns_ap_as=0&ns_ak_d_vce=            |\n",
      "|19 |17304450        |$$99UkKbT$5KJzpLNbY2cf|20021763  |7245   |4   |626028731 |2186    |0         |42.110.214.25  |70005788|0  |0        |3    |0  |505635833 |0eecb579e07e3187868790513ee24f82|ns_ap_dbt=0&c4=ABP LIVE News&ns_ak=ZoF%2FAABkEyUwKRz9BlGQw%2BMYdbYCaNvkQHmlNVXv2zNgmdFbF7%2BXYPhs4hgdTz48KtKhIfmmo7zX9UuLs4jAOq0y709Si5kRFtGhPkxv4D5tP7TXos%2FmWSI0YHIVQlNgJVMGPl4zRNAtVwexg2QP2QAQdpcSa4gAzT850jLfb4E%3D&ns_ap_fg=0&ns_ap_dft=0&ns_ap_pfm=android&ns_ap_sv=5.2.0.170406&ns_ap_as=1&ns_ak_d_vce=            |\n",
      "|19 |17304450        |$$99UkKbT$5KJzpLNbY2cf|20021763  |7245   |2   |626032884 |1731    |0         |42.110.214.25  |70005788|0  |0        |2    |0  |505635833 |0eecb579e07e3187868790513ee24f82|ns_ap_dbt=0&c4=ABP LIVE News&ns_ak=ZoF%2FAABkEyUwKRz9BlGQw%2BMYdbYCaNvkQHmlNVXv2zNgmdFbF7%2BXYPhs4hgdTz48KtKhIfmmo7zX9UuLs4jAOq0y709Si5kRFtGhPkxv4D5tP7TXos%2FmWSI0YHIVQlNgJVMGPl4zRNAtVwexg2QP2QAQdpcSa4gAzT850jLfb4E%3D&ns_ap_fg=0&ns_ap_dft=0&ns_ap_pfm=android&ns_ap_sv=5.2.0.170406&ns_ap_as=0&ns_ak_d_vce=            |\n",
      "|19 |13547039        |$$Aj_AgLROGMphoiGq4gc0|20097360  |7245   |1   |626044714 |0       |0         |174.228.13.138 |70024848|0  |0        |1    |0  |1515233811|d1ae6f5b77697a48e2d095bce711a269|ns_ap_dbt=0&c4=SoundHound&ns_ak=&ns_ap_fg=3&ns_ap_dft=58355&ns_ap_pfm=ios&ns_ap_sv=5.8.0.180306&ns_ap_as=1&ns_ak_d_vce=                                                                                                                                                                                                     |\n",
      "|19 |8549097         |$$CigM6jC85uxw89b3ZV9f|30143600  |7245   |7   |625984554 |1       |0         |117.237.232.194|70065316|0  |0        |1    |0  |2897414824|b9804e8191e264f15ed15205e4d9412a|ns_ap_dbt=0&c4=Aaj Tak&ns_ak=02h8tqv5%2FZsrEQj8VQKHRcrgm5nU7qIz08QiFSPPlqRwtIwXaokOc2aKUyhxY41N8J1g%2F53BqTeCbEdIuEIcFMm35AX%2BEx%2FmskQpppavj7pEIxsIjQJOwtwGLwv6qDN46CH%2BWdpFMSW%2BmZPYL8jL4q6hLFuNMdj7OqeAdaa5XH4%3D&ns_ap_fg=0&ns_ap_dft=0&ns_ap_pfm=android&ns_ap_sv=5.7.3.190611&ns_ap_as=1&ns_ak_d_vce=              |\n",
      "|19 |8549097         |$$CigM6jC85uxw89b3ZV9f|30143600  |7245   |1   |625988283 |0       |0         |117.237.220.178|70065316|0  |0        |1    |0  |4186579845|b9804e8191e264f15ed15205e4d9412a|ns_ap_dbt=0&c4=Aaj Tak&ns_ak=02h8tqv5%2FZsrEQj8VQKHRcrgm5nU7qIz08QiFSPPlqRwtIwXaokOc2aKUyhxY41N8J1g%2F53BqTeCbEdIuEIcFMm35AX%2BEx%2FmskQpppavj7pEIxsIjQJOwtwGLwv6qDN46CH%2BWdpFMSW%2BmZPYL8jL4q6hLFuNMdj7OqeAdaa5XH4%3D&ns_ap_fg=0&ns_ap_dft=0&ns_ap_pfm=android&ns_ap_sv=5.7.3.190611&ns_ap_as=1&ns_ak_d_vce=              |\n",
      "|19 |8549097         |$$CigM6jC85uxw89b3ZV9f|30143600  |7245   |9   |626016948 |25      |0         |117.237.238.209|70065316|0  |0        |2    |0  |4167835030|b9804e8191e264f15ed15205e4d9412a|ns_ap_dbt=0&c4=Aaj Tak&ns_ak=02h8tqv5%2FZsrEQj8VQKHRcrgm5nU7qIz08QiFSPPlqRwtIwXaokOc2aKUyhxY41N8J1g%2F53BqTeCbEdIuEIcFMm35AX%2BEx%2FmskQpppavj7pEIxsIjQJOwtwGLwv6qDN46CH%2BWdpFMSW%2BmZPYL8jL4q6hLFuNMdj7OqeAdaa5XH4%3D&ns_ap_fg=0&ns_ap_dft=0&ns_ap_pfm=android&ns_ap_sv=5.7.3.190611&ns_ap_as=1&ns_ak_d_vce=              |\n",
      "|19 |6005068         |$$D5RGKSQfPBqhxEyGag46|11224975  |7245   |3   |626033341 |2       |0         |190.99.113.249 |70152210|0  |0        |1    |0  |3337678903|bbb60fb92dd5bf03ddef39f0717d546d|ns_ap_dbt=0&c4=AccuWeather Android&ns_ak=XhLiQCZ8z1dnOvcYqNNhRoz6XZtcQP%2FC34ygVNsleaAhRAxT6vdHpC1%2BvjEP8gwwD%2F5SCpBD8zi3xMHOoVmj1Lk%2BcIiUxWpTLMjITPSD1wGaLfgVh7FyzdbwVOvgCf2lm67AodaNdH339DslHZV%2FnwUQbmGwYgn4VeDJo074YNk%3D&ns_ap_fg=0&ns_ap_dft=0&ns_ap_pfm=android&ns_ap_sv=5.6.0.171205&ns_ap_as=1&ns_ak_d_vce=    |\n",
      "|19 |6325890961375248|$$IxydXY38SpFy3FX9hF41|32829365  |7245   |0   |625968000 |1000    |0         |null           |70134109|0  |0        |1    |0  |null      |null                            |ns_ap_dbt=0&c4=&ns_ak=&ns_ak_d_sha2=790B262859865ED6DF1CD96396652A37920FE9F957C7BC20CD0151FE0E2B1BAF&ns_ap_fg=0&ns_ap_dft=1000&ns_ap_pfm=ANDROID&ns_ap_sv=5.3.4.170714&ns_ap_as=1&ns_ak_d_vce=&SNAP=                                                                                                                        |\n",
      "|19 |18767423        |$$NLXdB7ZazrNC$gb_bV19|21766459  |7245   |1   |626008683 |0       |0         |95.144.133.26  |70158611|0  |0        |1    |0  |3424582906|99bc633c6702f14754843bdee62a1e42|ns_ap_dbt=0&c4=Wattpad&ns_ak=eN44qhdE%2FcXE7L9ifwNZaLIcDZuPtEYzJ8%2Bw7sjo156m8gGt8CZMKXJ%2BMZ1MOh7PZo1kGzFzrfXLKPMfL08RCVxnZyojECLx3sCGqa5BRHgCCt%2FZ8GAdj1bpkqPew%2BFzfdSRiRovdaxIpUGV3sT7Uc3bbYAi2IFOcEH3g9sphkc%3D&ns_ap_fg=0&ns_ap_dft=0&ns_ap_pfm=android&ns_ap_sv=5.7.3.190611&ns_ap_as=1&ns_ak_d_vce=                |\n",
      "+---+----------------+----------------------+----------+-------+----+----------+--------+----------+---------------+--------+---+---------+-----+---+----------+--------------------------------+----------------------------------------------------------------------------------------------------------------------------------------------------------------------------------------------------------------------------------------------------------------------------------------------------------------------------+\n",
      "only showing top 20 rows\n",
      "\n"
     ]
    }
   ],
   "source": [
    "test_bs.select"
   ]
  },
  {
   "cell_type": "code",
   "execution_count": 167,
   "metadata": {
    "ExecuteTime": {
     "end_time": "2020-01-28T19:58:26.984908Z",
     "start_time": "2020-01-28T19:58:26.811156Z"
    }
   },
   "outputs": [],
   "source": [
    "# Join on no ns values\n",
    "prod_tmp_ns = prod_bs.select(*(col(x).alias('prod_' + x) for x in prod_bs.columns))\n",
    "test_tmp_ns = test_bs.select(*(col(x).alias('test_' + x) for x in test_bs.columns))\n",
    "\n",
    "cond_ns = [prod_tmp['prod_' + x] == test_tmp['test_' + x] for x in prod_bs.columns if x != 'ns']\n",
    "\n",
    "compare_ns = prod_tmp.join(test_tmp, cond_ns, how='full')"
   ]
  },
  {
   "cell_type": "code",
   "execution_count": 168,
   "metadata": {
    "ExecuteTime": {
     "end_time": "2020-01-28T19:59:46.032977Z",
     "start_time": "2020-01-28T19:59:45.933413Z"
    }
   },
   "outputs": [],
   "source": [
    "prod_only_ns = compare_ns.where(\n",
    "    reduce(lambda x, y: x | y, (col(x).isNull() for x in test_tmp_ns.columns if x != 'test_ns')))"
   ]
  },
  {
   "cell_type": "code",
   "execution_count": 175,
   "metadata": {
    "ExecuteTime": {
     "end_time": "2020-01-28T20:27:41.128037Z",
     "start_time": "2020-01-28T20:24:49.990561Z"
    }
   },
   "outputs": [
    {
     "name": "stdout",
     "output_type": "stream",
     "text": [
      "+-------+-------+--------+---------------+------------+---------+---------------+-------------+---------------+-------+-------+-------+--------------+----------+--------+--------------+------------+-------+-------+----------------+----------------------+---------------+------------+---------+---------------+-------------+---------------+-------+--------+-------+--------------+----------+--------+--------------+------------+------------------------------------------------------------------------------------------------------------------------------------------------------------------------------------------------------+\n",
      "|prod_c1|prod_c2|prod_uid|prod_pattern_id|prod_time_id|prod_hits|prod_start_ss2k|prod_duration|prod_session_id|prod_ip|prod_os|prod_bt|prod_dist_ss2k|prod_pages|prod_iab|prod_akamai_id|prod_ua_hash|prod_ns|test_c1|test_c2         |test_uid              |test_pattern_id|test_time_id|test_hits|test_start_ss2k|test_duration|test_session_id|test_ip|test_os |test_bt|test_dist_ss2k|test_pages|test_iab|test_akamai_id|test_ua_hash|test_ns                                                                                                                                                                                               |\n",
      "+-------+-------+--------+---------------+------------+---------+---------------+-------------+---------------+-------+-------+-------+--------------+----------+--------+--------------+------------+-------+-------+----------------+----------------------+---------------+------------+---------+---------------+-------------+---------------+-------+--------+-------+--------------+----------+--------+--------------+------------+------------------------------------------------------------------------------------------------------------------------------------------------------------------------------------------------------+\n",
      "|null   |null   |null    |null           |null        |null     |null           |null         |null           |null   |null   |null   |null          |null      |null    |null          |null        |null   |19     |4752043648745488|3Syla8x83Q8rWuyCwtCl98|32829359       |7245        |0        |625968000      |5400         |0              |null   |70075788|0      |0             |29        |0       |null          |null        |ns_ap_dbt=0&c4=&ns_ak=&ns_ak_d_sha2=&ns_ap_fg=0&ns_ap_dft=5400&ns_ap_pfm=ANDROID&ns_ap_sv=5.3.4.170714&ns_ap_as=1&ns_ak_d_vce=&SNAP=                                                                  |\n",
      "|null   |null   |null    |null           |null        |null     |null           |null         |null           |null   |null   |null   |null          |null      |null    |null          |null        |null   |19     |4752043648745488|QggkGW2Nz5BUhWK9Xq0423|32829359       |7270        |0        |628128000      |217900       |0              |null   |70134051|0      |0             |29        |0       |null          |null        |ns_ap_dbt=0&c4=&ns_ak=&ns_ak_d_sha2=&ns_ap_fg=0&ns_ap_dft=217900&ns_ap_pfm=IOS&ns_ap_sv=5.3.4.170714&ns_ap_as=1&ns_ak_d_vce=&SNAP=                                                                    |\n",
      "|null   |null   |null    |null           |null        |null     |null           |null         |null           |null   |null   |null   |null          |null      |null    |null          |null        |null   |19     |4856081001480208|Q$cpVy4vz5JUJZN$RiSM74|32829362       |7259        |0        |627177600      |2200         |0              |null   |70100274|0      |0             |2         |0       |null          |null        |ns_ap_dbt=0&c4=&ns_ak=&ns_ak_d_sha2=F4062C54902ED81A1000D1217AE99D897FAB410C269B71084949135B6AE2EC3B&ns_ap_fg=0&ns_ap_dft=2200&ns_ap_pfm=IOS&ns_ap_sv=5.3.4.170714&ns_ap_as=1&ns_ak_d_vce=&SNAP=      |\n",
      "|null   |null   |null    |null           |null        |null     |null           |null         |null           |null   |null   |null   |null          |null      |null    |null          |null        |null   |19     |4856081001480208|iQkDw2pMPEyanquq0v0Acf|32829362       |7258        |0        |627091200      |2100         |0              |null   |70062786|0      |0             |1         |0       |null          |null        |ns_ap_dbt=0&c4=&ns_ak=&ns_ak_d_sha2=4806856510DF0EF687EED707A0EE8D6175A22B707BB7E630354A2F0A736BE1EF&ns_ap_fg=0&ns_ap_dft=2100&ns_ap_pfm=IOS&ns_ap_sv=5.3.4.170714&ns_ap_as=1&ns_ak_d_vce=&SNAP=      |\n",
      "|null   |null   |null    |null           |null        |null     |null           |null         |null           |null   |null   |null   |null          |null      |null    |null          |null        |null   |19     |4899274482253824|DLPGpgkF334b6x1XjVvd96|28472026       |7257        |0        |627004800      |17100        |0              |null   |70100281|0      |0             |4         |0       |null          |null        |ns_ap_dbt=0&c4=&ns_ak=&ns_ak_d_sha2=8185FA46A9A1A4511EC990712C41207734F20FAC8DB6DE71B431DBFAC6F2576B&ns_ap_fg=0&ns_ap_dft=17100&ns_ap_pfm=IOS&ns_ap_sv=5.3.4.170714&ns_ap_as=1&ns_ak_d_vce=&SNAP=     |\n",
      "|null   |null   |null    |null           |null        |null     |null           |null         |null           |null   |null   |null   |null          |null      |null    |null          |null        |null   |19     |4899274482253824|ELIZoUJ7PHeWNOAFkOuD56|28472026       |7245        |0        |625968000      |400          |0              |null   |70062786|0      |0             |1         |0       |null          |null        |ns_ap_dbt=0&c4=&ns_ak=&ns_ak_d_sha2=6468C98224684BAAE2FB1A7DBBD83244E881F37FB426622638CCF5EE0F51E5F3&ns_ap_fg=0&ns_ap_dft=400&ns_ap_pfm=IOS&ns_ap_sv=5.3.4.170714&ns_ap_as=1&ns_ak_d_vce=&SNAP=       |\n",
      "|null   |null   |null    |null           |null        |null     |null           |null         |null           |null   |null   |null   |null          |null      |null    |null          |null        |null   |19     |4899274482253824|LSLG5tPVz0Dp5VD4U9_m0c|28472026       |7272        |0        |628300800      |7400         |0              |null   |70133898|0      |0             |3         |0       |null          |null        |ns_ap_dbt=0&c4=&ns_ak=&ns_ak_d_sha2=ABBFEE316045C77C84328A03B9B771171BBB88FDAE5ED961823530A46885A35D&ns_ap_fg=0&ns_ap_dft=7400&ns_ap_pfm=IOS&ns_ap_sv=5.3.4.170714&ns_ap_as=1&ns_ak_d_vce=&SNAP=      |\n",
      "|null   |null   |null    |null           |null        |null     |null           |null         |null           |null   |null   |null   |null          |null      |null    |null          |null        |null   |19     |4899274482253824|MRHID6qjzSvb5itpA5imbc|28472026       |7265        |0        |627696000      |2300         |0              |null   |70119284|0      |0             |2         |0       |null          |null        |ns_ap_dbt=0&c4=&ns_ak=&ns_ak_d_sha2=&ns_ap_fg=0&ns_ap_dft=2300&ns_ap_pfm=ANDROID&ns_ap_sv=5.3.4.170714&ns_ap_as=1&ns_ak_d_vce=&SNAP=                                                                  |\n",
      "|null   |null   |null    |null           |null        |null     |null           |null         |null           |null   |null   |null   |null          |null      |null    |null          |null        |null   |19     |4899274482253824|NTX94$r5zR7p$nSkJ4iTe2|28472026       |7252        |0        |626572800      |1200         |0              |null   |70134051|0      |0             |1         |0       |null          |null        |ns_ap_dbt=0&c4=&ns_ak=&ns_ak_d_sha2=52257CDD339FD798694C63B82F0B93E475AA672FB860C4580A190DA9F861EB99&ns_ap_fg=0&ns_ap_dft=1200&ns_ap_pfm=IOS&ns_ap_sv=5.3.4.170714&ns_ap_as=1&ns_ak_d_vce=&SNAP=      |\n",
      "|null   |null   |null    |null           |null        |null     |null           |null         |null           |null   |null   |null   |null          |null      |null    |null          |null        |null   |19     |4899274482253824|PQdoqF8l3Ikqly60vudl44|28472026       |7252        |0        |626572800      |36800        |0              |null   |70133261|0      |0             |8         |0       |null          |null        |ns_ap_dbt=0&c4=&ns_ak=&ns_ak_d_sha2=15EF1DC2B721A3E40F4C2691172782E98F3BBF8CB2D013ACD36B7A209E44C3C9&ns_ap_fg=0&ns_ap_dft=36800&ns_ap_pfm=IOS&ns_ap_sv=5.3.4.170714&ns_ap_as=1&ns_ak_d_vce=&SNAP=     |\n",
      "|null   |null   |null    |null           |null        |null     |null           |null         |null           |null   |null   |null   |null          |null      |null    |null          |null        |null   |19     |4899274482253824|RhYMPFb7Pl2XmtfxyJl516|28472026       |7263        |0        |627523200      |500          |0              |null   |70081979|0      |0             |1         |0       |null          |null        |ns_ap_dbt=0&c4=&ns_ak=&ns_ak_d_sha2=6FE106A84FEA7E0CF8B992DB4910CE948F20E858627DEBD32C0189E272DCA75A&ns_ap_fg=0&ns_ap_dft=500&ns_ap_pfm=ANDROID&ns_ap_sv=5.3.4.170714&ns_ap_as=1&ns_ak_d_vce=&SNAP=   |\n",
      "|null   |null   |null    |null           |null        |null     |null           |null         |null           |null   |null   |null   |null          |null      |null    |null          |null        |null   |19     |4899274482253824|XDbE76WaPgJrMFKCh3LWbc|28472026       |7253        |0        |626659200      |13900        |0              |null   |70053335|0      |0             |8         |0       |null          |null        |ns_ap_dbt=0&c4=&ns_ak=&ns_ak_d_sha2=4C2C7CEB49FBBB22813AE44DD7ECAFAC4149A88D8C511AA7140C7CCBFE637C65&ns_ap_fg=0&ns_ap_dft=13900&ns_ap_pfm=IOS&ns_ap_sv=5.3.4.170714&ns_ap_as=1&ns_ak_d_vce=&SNAP=     |\n",
      "|null   |null   |null    |null           |null        |null     |null           |null         |null           |null   |null   |null   |null          |null      |null    |null          |null        |null   |19     |4899274482253824|ZBdyRBIKjfy9oXbk9J95b7|28472026       |7263        |0        |627523200      |251200       |0              |null   |70062224|0      |0             |20        |0       |null          |null        |ns_ap_dbt=0&c4=&ns_ak=&ns_ak_d_sha2=49579587A554403BE5A3C64B1AE63944A5038D1AE458F33041CBBEAAF8DF772F&ns_ap_fg=0&ns_ap_dft=251200&ns_ap_pfm=IOS&ns_ap_sv=5.3.4.170714&ns_ap_as=1&ns_ak_d_vce=&SNAP=    |\n",
      "|null   |null   |null    |null           |null        |null     |null           |null         |null           |null   |null   |null   |null          |null      |null    |null          |null        |null   |19     |4899274482253824|Zmi4uNVB3eqHQd_DA9P6eb|28472026       |7255        |0        |626832000      |249200       |0              |null   |70062794|0      |0             |20        |0       |null          |null        |ns_ap_dbt=0&c4=&ns_ak=&ns_ak_d_sha2=DFDCB758AF783DC96BD0C7C120F64F3C29DAFA5B01D1C8D8F94D7843FC21FAEE&ns_ap_fg=0&ns_ap_dft=249200&ns_ap_pfm=IOS&ns_ap_sv=5.3.4.170714&ns_ap_as=1&ns_ak_d_vce=&SNAP=    |\n",
      "|null   |null   |null    |null           |null        |null     |null           |null         |null           |null   |null   |null   |null          |null      |null    |null          |null        |null   |19     |4899274482253824|fMDeqfEAz$aWhEcrpu0Cac|28472026       |7269        |0        |628041600      |700          |0              |null   |70100589|0      |0             |1         |0       |null          |null        |ns_ap_dbt=0&c4=&ns_ak=&ns_ak_d_sha2=7130F4BE2E695ED08700138A2E97C6073C9A773BBE5C335EEA8AD2DBD1DB101D&ns_ap_fg=0&ns_ap_dft=700&ns_ap_pfm=IOS&ns_ap_sv=5.3.4.170714&ns_ap_as=1&ns_ak_d_vce=&SNAP=       |\n",
      "|null   |null   |null    |null           |null        |null     |null           |null         |null           |null   |null   |null   |null          |null      |null    |null          |null        |null   |19     |4899274482253824|jVcwRDadzjuG6wFc4dzSef|28472026       |7273        |0        |628387200      |209000       |0              |null   |70119293|0      |0             |20        |0       |null          |null        |ns_ap_dbt=0&c4=&ns_ak=&ns_ak_d_sha2=6E29AA987EAD31A2050CDAED8F3DFD84F4B1ECEA05C95F5A90944BF4CF3982F8&ns_ap_fg=0&ns_ap_dft=209000&ns_ap_pfm=ANDROID&ns_ap_sv=5.3.4.170714&ns_ap_as=1&ns_ak_d_vce=&SNAP=|\n",
      "|null   |null   |null    |null           |null        |null     |null           |null         |null           |null   |null   |null   |null          |null      |null    |null          |null        |null   |19     |4899274482253824|leUF9VSSPh3a64YWIS7X72|28472026       |7262        |0        |627436800      |44500        |0              |null   |70109090|0      |0             |6         |0       |null          |null        |ns_ap_dbt=0&c4=&ns_ak=&ns_ak_d_sha2=9D96BB36D05701DA04994F44515DC3C309445F6ACAABDE52351E54B892B431A1&ns_ap_fg=0&ns_ap_dft=44500&ns_ap_pfm=IOS&ns_ap_sv=5.3.4.170714&ns_ap_as=1&ns_ak_d_vce=&SNAP=     |\n",
      "|null   |null   |null    |null           |null        |null     |null           |null         |null           |null   |null   |null   |null          |null      |null    |null          |null        |null   |19     |4899274482253824|n5y7HXFnPxrG5lx169P0e7|28472026       |7251        |0        |626486400      |197100       |0              |null   |70096835|0      |0             |17        |0       |null          |null        |ns_ap_dbt=0&c4=&ns_ak=&ns_ak_d_sha2=B5B71D98F5EADC35E75AC4B2E4EF4C3F1B7C4D75894858EFC0B1F2837249011E&ns_ap_fg=0&ns_ap_dft=197100&ns_ap_pfm=IOS&ns_ap_sv=5.3.4.170714&ns_ap_as=1&ns_ak_d_vce=&SNAP=    |\n",
      "|null   |null   |null    |null           |null        |null     |null           |null         |null           |null   |null   |null   |null          |null      |null    |null          |null        |null   |19     |5042965254242320|833KU7pyjDAFDgwBK$nSa7|32262730       |7271        |0        |628214400      |254500       |0              |null   |70133261|0      |0             |18        |0       |null          |null        |ns_ap_dbt=0&c4=&ns_ak=&ns_ak_d_sha2=87F221E786AF049BFB0ACDAA5DF5DF37D27BFCCEA8CB4FBEC7EEA42604BA2710&ns_ap_fg=0&ns_ap_dft=254500&ns_ap_pfm=IOS&ns_ap_sv=5.3.4.170714&ns_ap_as=1&ns_ak_d_vce=&SNAP=    |\n",
      "|null   |null   |null    |null           |null        |null     |null           |null         |null           |null   |null   |null   |null          |null      |null    |null          |null        |null   |19     |5068541958815744|3MDAOiqjPtWWriFlrdt76e|29011878       |7249        |0        |626313600      |57300        |0              |null   |70075785|0      |0             |8         |0       |null          |null        |ns_ap_dbt=0&c4=&ns_ak=&ns_ak_d_sha2=9483F37460508BDF757EA7B1AC7FF6C3DE9EBA26B90A12F1E839C67CCDED1095&ns_ap_fg=0&ns_ap_dft=57300&ns_ap_pfm=ANDROID&ns_ap_sv=5.3.4.170714&ns_ap_as=1&ns_ak_d_vce=&SNAP= |\n",
      "+-------+-------+--------+---------------+------------+---------+---------------+-------------+---------------+-------+-------+-------+--------------+----------+--------+--------------+------------+-------+-------+----------------+----------------------+---------------+------------+---------+---------------+-------------+---------------+-------+--------+-------+--------------+----------+--------+--------------+------------+------------------------------------------------------------------------------------------------------------------------------------------------------------------------------------------------------+\n",
      "only showing top 20 rows\n",
      "\n"
     ]
    }
   ],
   "source": [
    "prod_only_ns.filter(\"test_ns != 'null'\").show(20, False)"
   ]
  },
  {
   "cell_type": "code",
   "execution_count": 176,
   "metadata": {
    "ExecuteTime": {
     "end_time": "2020-01-28T20:30:03.797432Z",
     "start_time": "2020-01-28T20:30:03.688662Z"
    }
   },
   "outputs": [
    {
     "data": {
      "text/plain": [
       "[Column<(prod_c1 = test_c1)>,\n",
       " Column<(prod_c2 = test_c2)>,\n",
       " Column<(prod_uid = test_uid)>,\n",
       " Column<(prod_pattern_id = test_pattern_id)>,\n",
       " Column<(prod_time_id = test_time_id)>,\n",
       " Column<(prod_hits = test_hits)>,\n",
       " Column<(prod_start_ss2k = test_start_ss2k)>,\n",
       " Column<(prod_duration = test_duration)>,\n",
       " Column<(prod_session_id = test_session_id)>,\n",
       " Column<(prod_ip = test_ip)>,\n",
       " Column<(prod_os = test_os)>,\n",
       " Column<(prod_bt = test_bt)>,\n",
       " Column<(prod_dist_ss2k = test_dist_ss2k)>,\n",
       " Column<(prod_pages = test_pages)>,\n",
       " Column<(prod_iab = test_iab)>,\n",
       " Column<(prod_akamai_id = test_akamai_id)>,\n",
       " Column<(prod_ua_hash = test_ua_hash)>]"
      ]
     },
     "execution_count": 176,
     "metadata": {},
     "output_type": "execute_result"
    }
   ],
   "source": [
    "cond_ns"
   ]
  },
  {
   "cell_type": "code",
   "execution_count": 177,
   "metadata": {
    "ExecuteTime": {
     "end_time": "2020-01-28T20:31:08.931448Z",
     "start_time": "2020-01-28T20:30:41.258507Z"
    }
   },
   "outputs": [
    {
     "data": {
      "text/plain": [
       "6543805"
      ]
     },
     "execution_count": 177,
     "metadata": {},
     "output_type": "execute_result"
    }
   ],
   "source": [
    "compare_ns.count()"
   ]
  },
  {
   "cell_type": "code",
   "execution_count": 178,
   "metadata": {
    "ExecuteTime": {
     "end_time": "2020-01-28T20:32:50.670367Z",
     "start_time": "2020-01-28T20:32:17.414822Z"
    }
   },
   "outputs": [
    {
     "data": {
      "text/plain": [
       "6543805"
      ]
     },
     "execution_count": 178,
     "metadata": {},
     "output_type": "execute_result"
    }
   ],
   "source": [
    "compare.count()"
   ]
  },
  {
   "cell_type": "code",
   "execution_count": 179,
   "metadata": {
    "ExecuteTime": {
     "end_time": "2020-01-28T20:35:15.939926Z",
     "start_time": "2020-01-28T20:35:15.901708Z"
    }
   },
   "outputs": [],
   "source": [
    "prod_test = prod_tmp.join(test_tmp, cond_ns, how='inner')"
   ]
  },
  {
   "cell_type": "code",
   "execution_count": 185,
   "metadata": {
    "ExecuteTime": {
     "end_time": "2020-01-28T20:43:57.583992Z",
     "start_time": "2020-01-28T20:43:57.565777Z"
    }
   },
   "outputs": [],
   "source": [
    "compare_pt = compare.filter('prod_ns != test_ns')"
   ]
  },
  {
   "cell_type": "code",
   "execution_count": 190,
   "metadata": {
    "ExecuteTime": {
     "end_time": "2020-01-28T20:52:55.545928Z",
     "start_time": "2020-01-28T20:52:27.417785Z"
    }
   },
   "outputs": [
    {
     "name": "stdout",
     "output_type": "stream",
     "text": [
      "+--------------------------------------------------------------------------------------------------------------------------------------------------------------------------------------------------------------------------------------------------------------------------------------------------------------------------------+--------------------------------------------------------------------------------------------------------------------------------------------------------------------------------------------------------------------------------------------------------------------------------------------------------------------------------+\n",
      "|prod_ns                                                                                                                                                                                                                                                                                                                         |test_ns                                                                                                                                                                                                                                                                                                                         |\n",
      "+--------------------------------------------------------------------------------------------------------------------------------------------------------------------------------------------------------------------------------------------------------------------------------------------------------------------------------+--------------------------------------------------------------------------------------------------------------------------------------------------------------------------------------------------------------------------------------------------------------------------------------------------------------------------------+\n",
      "|ns_ap_dbt=0&c4=Raycom (iOS)&ns_ak=aWMcgXFoHk2fRbqPtg7XBfjNvf82qoBbWQkxq08SMCUPn6ih%2BSlbFqIaG%2FwmlC4HhsNi%2B00qwmlzEX1jFZmTJQ3mh3X8diI6j%2FrJgYPOMQC%2Byh9k%2F39R4w9bEOD5dqQRz%2B6j6zK%2ByZYec9xmznhNk7xF0yyjK5x9bXB3y8qeHWE%3D&ns_ap_fg=0&ns_ap_dft=0&ns_ap_pfm=ios&ns_ap_sv=5.8.0.180306&ns_ap_as=1&ns_ak_d_vce=             |ns_ap_dbt=0&c4=Raycom (iOS)&ns_ak=aWMcgXFoHk2fRbqPtg7XBfjNvf82qoBbWQkxq08SMCUPn6ih%2BSlbFqIaG%2FwmlC4HhsNi%2B00qwmlzEX1jFZmTJQ3mh3X8diI6j%2FrJgYPOMQC%2Byh9k%2F39R4w9bEOD5dqQRz%2B6j6zK%2ByZYec9xmznhNk7xF0yyjK5x9bXB3y8qeHWE%3D&ns_ap_fg=0&ns_ap_dft=0&ns_ap_pfm=ios&ns_ap_sv=5.8.0.180306&ns_ap_as=1&ns_ak_d_vce=             |\n",
      "|ns_ap_dbt=0&c4=Raycom (iOS)&ns_ak=&ns_ap_fg=0&ns_ap_dft=9757&ns_ap_pfm=ios&ns_ap_sv=5.8.0.180306&ns_ap_as=1&ns_ak_d_vce=                                                                                                                                                                                                        |ns_ap_dbt=0&c4=Raycom (iOS)&ns_ak=&ns_ap_fg=0&ns_ap_dft=9757&ns_ap_pfm=ios&ns_ap_sv=5.8.0.180306&ns_ap_as=1&ns_ak_d_vce=                                                                                                                                                                                                        |\n",
      "|ns_ap_dbt=0&c4=Raycom (iOS)&ns_ak=V4lU6uV2%2FsvELmB9oEW8QzWAo2mx4xougqL%2FVlW%2BZx7T2T27TPpMkQzECWzJnMOqUPxKT%2F9In7BJ0up7hE0mW4DEeE1GR0T0VnW7e0JGVQbw7kd3A3SBTTP5FCZshEE8%2FIl5ZpuZjYpgEutZiVF6WqFivsFHERL6%2BEBgAqy5jwg%3D&ns_ap_fg=0&ns_ap_dft=0&ns_ap_pfm=ios&ns_ap_sv=5.8.0.180306&ns_ap_as=1&ns_ak_d_vce=                 |ns_ap_dbt=0&c4=Raycom (iOS)&ns_ak=V4lU6uV2%2FsvELmB9oEW8QzWAo2mx4xougqL%2FVlW%2BZx7T2T27TPpMkQzECWzJnMOqUPxKT%2F9In7BJ0up7hE0mW4DEeE1GR0T0VnW7e0JGVQbw7kd3A3SBTTP5FCZshEE8%2FIl5ZpuZjYpgEutZiVF6WqFivsFHERL6%2BEBgAqy5jwg%3D&ns_ap_fg=0&ns_ap_dft=0&ns_ap_pfm=ios&ns_ap_sv=5.8.0.180306&ns_ap_as=1&ns_ak_d_vce=                 |\n",
      "|ns_ap_dbt=0&c4=Raycom (iOS)&ns_ak=z%2B1VDo%2FNElZ%2B8V5yxgHKfI1GgvctZQunU4iL0FIRWaHvWsFO8bf8WhDDNcx5XT%2BX%2BeFlmqFhx59nvVPRM2PaWK%2FLo6%2FAWRw0UHnTOMW2JQeuda2S8frA2yg4bmRiDewou3fTZ7vynlxzEdyTub1YkBplJWx9h2URCACF3yhagNg%3D&ns_ap_fg=0&ns_ap_dft=0&ns_ap_pfm=ios&ns_ap_sv=5.8.0.180306&ns_ap_as=1&ns_ak_d_vce=               |null                                                                                                                                                                                                                                                                                                                            |\n",
      "|ns_ap_dbt=0&c4=Raycom (iOS)&ns_ak=z%2B1VDo%2FNElZ%2B8V5yxgHKfI1GgvctZQunU4iL0FIRWaHvWsFO8bf8WhDDNcx5XT%2BX%2BeFlmqFhx59nvVPRM2PaWK%2FLo6%2FAWRw0UHnTOMW2JQeuda2S8frA2yg4bmRiDewou3fTZ7vynlxzEdyTub1YkBplJWx9h2URCACF3yhagNg%3D&ns_ap_fg=0&ns_ap_dft=0&ns_ap_pfm=ios&ns_ap_sv=5.8.0.180306&ns_ap_as=1&ns_ak_d_vce=               |null                                                                                                                                                                                                                                                                                                                            |\n",
      "|ns_ap_dbt=0&c4=Raycom (iOS)&ns_ak=73nCxSGXtpzw7U9PxV95J548lRbZvWYSqRnb19CFg77KclDl%2B7GDj%2FUVdd9E%2BoHVjKhvSXN%2FVz6J%2BgPeP0K0oQn62BN9Se2cfwMmdQM0KUMOkYRJoF6dKgowbfrVWzXLAgdHbOyNXw6R5yNZ4lH1rlDOHAIg0bv2U%2BLlkb6HtOE%3D&ns_ap_fg=2&ns_ap_dft=319819&ns_ap_pfm=ios&ns_ap_sv=5.8.0.180306&ns_ap_as=1&ns_ak_d_vce=            |ns_ap_dbt=0&c4=Raycom (iOS)&ns_ak=73nCxSGXtpzw7U9PxV95J548lRbZvWYSqRnb19CFg77KclDl%2B7GDj%2FUVdd9E%2BoHVjKhvSXN%2FVz6J%2BgPeP0K0oQn62BN9Se2cfwMmdQM0KUMOkYRJoF6dKgowbfrVWzXLAgdHbOyNXw6R5yNZ4lH1rlDOHAIg0bv2U%2BLlkb6HtOE%3D&ns_ap_fg=2&ns_ap_dft=319819&ns_ap_pfm=ios&ns_ap_sv=5.8.0.180306&ns_ap_as=1&ns_ak_d_vce=            |\n",
      "|ns_ap_dbt=0&c4=Raycom (iOS)&ns_ak=none&ns_ap_fg=2&ns_ap_dft=270948&ns_ap_pfm=ios&ns_ap_sv=5.8.0.180306&ns_ap_as=2&ns_ak_d_vce=                                                                                                                                                                                                  |ns_ap_dbt=0&c4=Raycom (iOS)&ns_ak=none&ns_ap_fg=2&ns_ap_dft=270948&ns_ap_pfm=ios&ns_ap_sv=5.8.0.180306&ns_ap_as=2&ns_ak_d_vce=                                                                                                                                                                                                  |\n",
      "|ns_ap_dbt=0&c4=&ns_ak=vNt%2Fx4mcq7ocoLCsAxrUHC%2Fy%2BXCGq0648EEu3HHpX%2B4vQCMrDdeIzCU%2FZ6UicY0%2FZmMivY21ROP%2B01iTX1ejdCrT99PwnFC4uKFb7Zkctn5VAgvuqOSK%2FWpJK5d1A%2FVPKTQdQWhT7iMr2vAS2q7vjzVb32BKV%2Bjw92XVGV%2BzGfw%3D&ns_ap_fg=1&ns_ap_dft=1172442&ns_ap_pfm=ios&ns_ap_sv=2.1409.23&ns_ap_as=2&ns_ak_d_vce=                |ns_ap_dbt=0&c4=&ns_ak=vNt%2Fx4mcq7ocoLCsAxrUHC%2Fy%2BXCGq0648EEu3HHpX%2B4vQCMrDdeIzCU%2FZ6UicY0%2FZmMivY21ROP%2B01iTX1ejdCrT99PwnFC4uKFb7Zkctn5VAgvuqOSK%2FWpJK5d1A%2FVPKTQdQWhT7iMr2vAS2q7vjzVb32BKV%2Bjw92XVGV%2BzGfw%3D&ns_ap_fg=1&ns_ap_dft=1172442&ns_ap_pfm=ios&ns_ap_sv=2.1409.23&ns_ap_as=2&ns_ak_d_vce=                |\n",
      "|ns_ap_dbt=0&c4=Raycom (iOS)&ns_ak=rHZ7Xt9SxCZhlGUSuIHbn4E5mF%2Fc9YSgUnPeuqoi%2BRMzkd9yJQLi%2BjuM%2FGjd3NxL3ctJ5C0rfZXl%2FekIu0b1UxCx%2FO8zDOuWkog%2FonPfNAmCue6GsRByz8%2B0ECl%2BaQZagJlO6C8AU%2BL%2BONpB3jP%2FHcW5DvwFbUUmLVsLIaJanO8%3D&ns_ap_fg=3&ns_ap_dft=163902&ns_ap_pfm=ios&ns_ap_sv=5.8.0.180306&ns_ap_as=1&ns_ak_d_vce=|ns_ap_dbt=0&c4=Raycom (iOS)&ns_ak=rHZ7Xt9SxCZhlGUSuIHbn4E5mF%2Fc9YSgUnPeuqoi%2BRMzkd9yJQLi%2BjuM%2FGjd3NxL3ctJ5C0rfZXl%2FekIu0b1UxCx%2FO8zDOuWkog%2FonPfNAmCue6GsRByz8%2B0ECl%2BaQZagJlO6C8AU%2BL%2BONpB3jP%2FHcW5DvwFbUUmLVsLIaJanO8%3D&ns_ap_fg=3&ns_ap_dft=163902&ns_ap_pfm=ios&ns_ap_sv=5.8.0.180306&ns_ap_as=1&ns_ak_d_vce=|\n",
      "|ns_ap_dbt=0&c4=Raycom (iOS)&ns_ak=8dgjYe62AhgyrzCWIHpuj8dVFgGTxbtPGxPfH8PdaMK6k0qOXmGjogqZ4%2FhJc%2BZtERcXhtGZKyisAIcxCkw4e7291QM08w1D18YsfFj7eEjaInro3TZFRGE6rvldLj%2FMLLZQBbntRmfa5GCV7ho6Fp8xmTOyfZCXMbPLVm%2FBEqA%3D&ns_ap_fg=1&ns_ap_dft=0&ns_ap_pfm=ios&ns_ap_sv=5.8.0.180306&ns_ap_as=1&ns_ak_d_vce=                     |ns_ap_dbt=0&c4=Raycom (iOS)&ns_ak=8dgjYe62AhgyrzCWIHpuj8dVFgGTxbtPGxPfH8PdaMK6k0qOXmGjogqZ4%2FhJc%2BZtERcXhtGZKyisAIcxCkw4e7291QM08w1D18YsfFj7eEjaInro3TZFRGE6rvldLj%2FMLLZQBbntRmfa5GCV7ho6Fp8xmTOyfZCXMbPLVm%2FBEqA%3D&ns_ap_fg=1&ns_ap_dft=0&ns_ap_pfm=ios&ns_ap_sv=5.8.0.180306&ns_ap_as=1&ns_ak_d_vce=                     |\n",
      "|ns_ap_dbt=0&c4=Raycom (iOS)&ns_ak=8dgjYe62AhgyrzCWIHpuj8dVFgGTxbtPGxPfH8PdaMK6k0qOXmGjogqZ4%2FhJc%2BZtERcXhtGZKyisAIcxCkw4e7291QM08w1D18YsfFj7eEjaInro3TZFRGE6rvldLj%2FMLLZQBbntRmfa5GCV7ho6Fp8xmTOyfZCXMbPLVm%2FBEqA%3D&ns_ap_fg=3&ns_ap_dft=209661&ns_ap_pfm=ios&ns_ap_sv=5.8.0.180306&ns_ap_as=3&ns_ak_d_vce=                |ns_ap_dbt=0&c4=Raycom (iOS)&ns_ak=8dgjYe62AhgyrzCWIHpuj8dVFgGTxbtPGxPfH8PdaMK6k0qOXmGjogqZ4%2FhJc%2BZtERcXhtGZKyisAIcxCkw4e7291QM08w1D18YsfFj7eEjaInro3TZFRGE6rvldLj%2FMLLZQBbntRmfa5GCV7ho6Fp8xmTOyfZCXMbPLVm%2FBEqA%3D&ns_ap_fg=3&ns_ap_dft=209661&ns_ap_pfm=ios&ns_ap_sv=5.8.0.180306&ns_ap_as=3&ns_ak_d_vce=                |\n",
      "|ns_ap_dbt=0&c4=Raycom (iOS)&ns_ak=JqzQ7VigydKaXkunFZsne1gXtr3cZ5SyGjcfP%2BIm2u1x5go4B9WIcBX%2FLjYNGcFq%2BBqh2F5xfC%2Bh9pCXOMc0dQ%2F7DHlsNvY9n3TsWGJXYoSPYHUpx45hAXHdFQ7c0yNrPH2g4dgI7SOuvDBlVoIdyaazac5IgKjVUuUBdsxV6P0%3D&ns_ap_fg=1&ns_ap_dft=140327&ns_ap_pfm=ios&ns_ap_sv=5.8.0.180306&ns_ap_as=1&ns_ak_d_vce=              |ns_ap_dbt=0&c4=Raycom (iOS)&ns_ak=JqzQ7VigydKaXkunFZsne1gXtr3cZ5SyGjcfP%2BIm2u1x5go4B9WIcBX%2FLjYNGcFq%2BBqh2F5xfC%2Bh9pCXOMc0dQ%2F7DHlsNvY9n3TsWGJXYoSPYHUpx45hAXHdFQ7c0yNrPH2g4dgI7SOuvDBlVoIdyaazac5IgKjVUuUBdsxV6P0%3D&ns_ap_fg=1&ns_ap_dft=140327&ns_ap_pfm=ios&ns_ap_sv=5.8.0.180306&ns_ap_as=1&ns_ak_d_vce=              |\n",
      "|ns_ap_dbt=0&c4=Raycom (iOS)&ns_ak=&ns_ap_fg=0&ns_ap_dft=0&ns_ap_pfm=ios&ns_ap_sv=5.8.0.180306&ns_ap_as=1&ns_ak_d_vce=                                                                                                                                                                                                           |null                                                                                                                                                                                                                                                                                                                            |\n",
      "|ns_ap_dbt=0&c4=Raycom (iOS)&ns_ak=T%2FKKxwkGgA8345SWxjySW0G8djZEyhK1a6qPMyLB%2FAJJIFKX53QJYHBogoF49weH1U%2BooRvXBl%2BiLBCJKgnyThOtokMeczwh35EPe5icMbsX6oW9rQxdBOUjXEWdcCt5EWHnuN%2BbscmnFnd57YSTemHFuruZotIMAIKdJFEdGNw%3D&ns_ap_fg=0&ns_ap_dft=9305&ns_ap_pfm=ios&ns_ap_sv=5.8.0.180306&ns_ap_as=1&ns_ak_d_vce=                |ns_ap_dbt=0&c4=Raycom (iOS)&ns_ak=T%2FKKxwkGgA8345SWxjySW0G8djZEyhK1a6qPMyLB%2FAJJIFKX53QJYHBogoF49weH1U%2BooRvXBl%2BiLBCJKgnyThOtokMeczwh35EPe5icMbsX6oW9rQxdBOUjXEWdcCt5EWHnuN%2BbscmnFnd57YSTemHFuruZotIMAIKdJFEdGNw%3D&ns_ap_fg=0&ns_ap_dft=9305&ns_ap_pfm=ios&ns_ap_sv=5.8.0.180306&ns_ap_as=1&ns_ak_d_vce=                |\n",
      "|ns_ap_dbt=0&c4=Raycom (iOS)&ns_ak=RYCh8MozjzELHC0iZZtOuQ%2Fk9mx3EqqQypxuD73Y3KgN3KqzW1UzH5Ybu7Pzft76pAxQjhmeXay%2BEq4dNMnXiAx615833zrrPa6Kmk%2FUNo0sJpqJ2lCneu0y3JqNZLRfIySdZvx2XLaM70Edz9%2FMvYR5lzc%2Fu%2FixGN6DcdX8PKM%3D&ns_ap_fg=1&ns_ap_dft=19284&ns_ap_pfm=ios&ns_ap_sv=5.8.0.180306&ns_ap_as=1&ns_ak_d_vce=             |ns_ap_dbt=0&c4=Raycom (iOS)&ns_ak=RYCh8MozjzELHC0iZZtOuQ%2Fk9mx3EqqQypxuD73Y3KgN3KqzW1UzH5Ybu7Pzft76pAxQjhmeXay%2BEq4dNMnXiAx615833zrrPa6Kmk%2FUNo0sJpqJ2lCneu0y3JqNZLRfIySdZvx2XLaM70Edz9%2FMvYR5lzc%2Fu%2FixGN6DcdX8PKM%3D&ns_ap_fg=1&ns_ap_dft=19284&ns_ap_pfm=ios&ns_ap_sv=5.8.0.180306&ns_ap_as=1&ns_ak_d_vce=             |\n",
      "|ns_ap_dbt=0&c4=The Times&ns_ak=hHHrQF9H%2FIjdvAWkgtvWjQi0BEdwOCMx1LHAzdxAfA5ouaoPENN6asCxT6XpOtpaNdEdN2ZIHjfkv3mQ5FdqKfVKafG%2FXb5VWzZaZpjGLoBul%2FKwo5s4sOdK1TF%2B58lYm3mCG%2BXB0l8IgbKWX8h4f7WbS9ReqiuruVxsN%2Fxoio8%3D&ns_ap_fg=0&ns_ap_dft=0&ns_ap_pfm=android&ns_ap_sv=5.7.2.190215&ns_ap_as=1&ns_ak_d_vce=                |ns_ap_dbt=0&c4=The Times&ns_ak=hHHrQF9H%2FIjdvAWkgtvWjQi0BEdwOCMx1LHAzdxAfA5ouaoPENN6asCxT6XpOtpaNdEdN2ZIHjfkv3mQ5FdqKfVKafG%2FXb5VWzZaZpjGLoBul%2FKwo5s4sOdK1TF%2B58lYm3mCG%2BXB0l8IgbKWX8h4f7WbS9ReqiuruVxsN%2Fxoio8%3D&ns_ap_fg=0&ns_ap_dft=0&ns_ap_pfm=android&ns_ap_sv=5.7.2.190215&ns_ap_as=1&ns_ak_d_vce=                |\n",
      "|ns_ap_dbt=0&c4=The Times&ns_ak=8C2PuJPHaSp5EomYjELX%2Fu93kwUgSPzaTI2uE7SNqjQvjf8oyWgIRWkxo9TU8V5RNKn%2F4GXftAvfCb3F3Sv3hoiUTpKWZi1F2EhF5dF3kuAy16O69J8fqSRuyLqIeEiE1IILnfRbB0p2wEA%2FjDT4JfbJ4zPx8K%2BN10TjEvU7pU8%3D&ns_ap_fg=3&ns_ap_dft=101375&ns_ap_pfm=android&ns_ap_sv=5.7.2.190215&ns_ap_as=1&ns_ak_d_vce=               |ns_ap_dbt=0&c4=The Times&ns_ak=8C2PuJPHaSp5EomYjELX%2Fu93kwUgSPzaTI2uE7SNqjQvjf8oyWgIRWkxo9TU8V5RNKn%2F4GXftAvfCb3F3Sv3hoiUTpKWZi1F2EhF5dF3kuAy16O69J8fqSRuyLqIeEiE1IILnfRbB0p2wEA%2FjDT4JfbJ4zPx8K%2BN10TjEvU7pU8%3D&ns_ap_fg=3&ns_ap_dft=101375&ns_ap_pfm=android&ns_ap_sv=5.7.2.190215&ns_ap_as=1&ns_ak_d_vce=               |\n",
      "|ns_ap_dbt=0&c4=The Times&ns_ak=N3BMAAaKNG2S3wKNsh4ryp39%2F%2Fzs551p1D8v8gYEfpj5h%2BC8w0L%2B5dpL8ulJRwk97qLEy2kpQF32Lt4kiYiroosIKH46gQxkBargNsIj4tbTpJC3ktiZDQYsDbzSzGyAQtDnAcGwlruKszYnfIqABvoPiLFYE8eMAhGaVw3PIo8%3D&ns_ap_fg=0&ns_ap_dft=0&ns_ap_pfm=android&ns_ap_sv=5.7.2.190215&ns_ap_as=0&ns_ak_d_vce=                    |null                                                                                                                                                                                                                                                                                                                            |\n",
      "|ns_ap_dbt=0&c4=atv&ns_ak=aqqWI%2F%2BNz%2F9pA7%2F4bFNYlMNzEXAez4qSxvea%2BiyIJaWFV4WCUVA5rmA5Elsdv9m9%0D%0AHbH6AxGOiF3NB9c2qp0fd2MgMXOq9e8O4gdJHXy1KfZOO5%2BEEzVAfPCa%2FlsHpEhI%0D%0A2yn3ZAmZY0jOrM1HmBbFe90AMG447lzmXLK2xzgUeFs%3D&ns_ap_fg=1&ns_ap_dft=242164&ns_ap_pfm=ios&ns_ap_sv=5.7.0.171210&ns_ap_as=1&ns_ak_d_vce=       |ns_ap_dbt=0&c4=atv&ns_ak=aqqWI%2F%2BNz%2F9pA7%2F4bFNYlMNzEXAez4qSxvea%2BiyIJaWFV4WCUVA5rmA5Elsdv9m9%0D%0AHbH6AxGOiF3NB9c2qp0fd2MgMXOq9e8O4gdJHXy1KfZOO5%2BEEzVAfPCa%2FlsHpEhI%0D%0A2yn3ZAmZY0jOrM1HmBbFe90AMG447lzmXLK2xzgUeFs%3D&ns_ap_fg=1&ns_ap_dft=242164&ns_ap_pfm=ios&ns_ap_sv=5.7.0.171210&ns_ap_as=1&ns_ak_d_vce=       |\n",
      "|ns_ap_dbt=0&c4=The Times&ns_ak=Pof3GwkDdpIogtmOlQg7BCUH%2FTqgfNr5T59zqs1jRabEXENpYC1DKGJ1j3kUyOle1sDOWJ3z3c6QrkQlZCXfz79YasNnTwlaoSzVIqJbUcx22wlIOxMq3YGjaXlFxQkwsSSA2cNvku%2FVF8pE79vWv9oRt5A3CtFX0K22uWq9zmU%3D&ns_ap_fg=0&ns_ap_dft=0&ns_ap_pfm=android&ns_ap_sv=5.7.2.190215&ns_ap_as=0&ns_ak_d_vce=                        |ns_ap_dbt=0&c4=The Times&ns_ak=Pof3GwkDdpIogtmOlQg7BCUH%2FTqgfNr5T59zqs1jRabEXENpYC1DKGJ1j3kUyOle1sDOWJ3z3c6QrkQlZCXfz79YasNnTwlaoSzVIqJbUcx22wlIOxMq3YGjaXlFxQkwsSSA2cNvku%2FVF8pE79vWv9oRt5A3CtFX0K22uWq9zmU%3D&ns_ap_fg=0&ns_ap_dft=0&ns_ap_pfm=android&ns_ap_sv=5.7.2.190215&ns_ap_as=0&ns_ak_d_vce=                        |\n",
      "+--------------------------------------------------------------------------------------------------------------------------------------------------------------------------------------------------------------------------------------------------------------------------------------------------------------------------------+--------------------------------------------------------------------------------------------------------------------------------------------------------------------------------------------------------------------------------------------------------------------------------------------------------------------------------+\n",
      "only showing top 20 rows\n",
      "\n"
     ]
    }
   ],
   "source": [
    "compare_ns.select(['prod_ns', 'test_ns']).show(20, False)"
   ]
  },
  {
   "cell_type": "code",
   "execution_count": 194,
   "metadata": {
    "ExecuteTime": {
     "end_time": "2020-01-28T20:58:51.021422Z",
     "start_time": "2020-01-28T20:58:24.550715Z"
    }
   },
   "outputs": [
    {
     "name": "stdout",
     "output_type": "stream",
     "text": [
      "+-------+-------+----------------------+---------------+------------+---------+---------------+-------------+---------------+---------------+--------+-------+--------------+----------+--------+--------------+--------------------------------+------------------------------------------------------------------------------------------------------------------------------------------------------------------------------------------------------------------------------------------------------------------------------------------------------------------------------------------+-------+-------+--------+---------------+------------+---------+---------------+-------------+---------------+-------+-------+-------+--------------+----------+--------+--------------+------------+-------+\n",
      "|prod_c1|prod_c2|prod_uid              |prod_pattern_id|prod_time_id|prod_hits|prod_start_ss2k|prod_duration|prod_session_id|prod_ip        |prod_os |prod_bt|prod_dist_ss2k|prod_pages|prod_iab|prod_akamai_id|prod_ua_hash                    |prod_ns                                                                                                                                                                                                                                                                                                                                   |test_c1|test_c2|test_uid|test_pattern_id|test_time_id|test_hits|test_start_ss2k|test_duration|test_session_id|test_ip|test_os|test_bt|test_dist_ss2k|test_pages|test_iab|test_akamai_id|test_ua_hash|test_ns|\n",
      "+-------+-------+----------------------+---------------+------------+---------+---------------+-------------+---------------+---------------+--------+-------+--------------+----------+--------+--------------+--------------------------------+------------------------------------------------------------------------------------------------------------------------------------------------------------------------------------------------------------------------------------------------------------------------------------------------------------------------------------------+-------+-------+--------+---------------+------------+---------+---------------+-------------+---------------+-------+-------+-------+--------------+----------+--------+--------------+------------+-------+\n",
      "|19     |0      |ELUzwTUmUz71i00aL6GCe6|1              |7243        |2        |625852908      |1295         |0              |107.77.193.226 |70133261|0      |0             |2         |0       |1654249836    |3ab2efb7e268601de323a2d14813782a|ns_ap_dbt=0&c4=Raycom (iOS)&ns_ak=z%2B1VDo%2FNElZ%2B8V5yxgHKfI1GgvctZQunU4iL0FIRWaHvWsFO8bf8WhDDNcx5XT%2BX%2BeFlmqFhx59nvVPRM2PaWK%2FLo6%2FAWRw0UHnTOMW2JQeuda2S8frA2yg4bmRiDewou3fTZ7vynlxzEdyTub1YkBplJWx9h2URCACF3yhagNg%3D&ns_ap_fg=0&ns_ap_dft=0&ns_ap_pfm=ios&ns_ap_sv=5.8.0.180306&ns_ap_as=1&ns_ak_d_vce=                         |null   |null   |null    |null           |null        |null     |null           |null         |null           |null   |null   |null   |null          |null      |null    |null          |null        |null   |\n",
      "|19     |0      |ELUzwTUmUz71i00aL6GCe6|1              |7244        |1        |625920121      |0            |0              |107.77.193.226 |70133261|0      |0             |1         |0       |1654249836    |3ab2efb7e268601de323a2d14813782a|ns_ap_dbt=0&c4=Raycom (iOS)&ns_ak=z%2B1VDo%2FNElZ%2B8V5yxgHKfI1GgvctZQunU4iL0FIRWaHvWsFO8bf8WhDDNcx5XT%2BX%2BeFlmqFhx59nvVPRM2PaWK%2FLo6%2FAWRw0UHnTOMW2JQeuda2S8frA2yg4bmRiDewou3fTZ7vynlxzEdyTub1YkBplJWx9h2URCACF3yhagNg%3D&ns_ap_fg=0&ns_ap_dft=0&ns_ap_pfm=ios&ns_ap_sv=5.8.0.180306&ns_ap_as=1&ns_ak_d_vce=                         |null   |null   |null    |null           |null        |null     |null           |null         |null           |null   |null   |null   |null          |null      |null    |null          |null        |null   |\n",
      "|19     |0      |_L8mbj4EDllow83WnW4lad|1              |7244        |1        |625891984      |0            |0              |162.224.108.0  |70024848|0      |0             |1         |0       |48123906      |226a1ad1ce3a88b8277771be931c4902|ns_ap_dbt=0&c4=Raycom (iOS)&ns_ak=&ns_ap_fg=0&ns_ap_dft=0&ns_ap_pfm=ios&ns_ap_sv=5.8.0.180306&ns_ap_as=1&ns_ak_d_vce=                                                                                                                                                                                                                     |null   |null   |null    |null           |null        |null     |null           |null         |null           |null   |null   |null   |null          |null      |null    |null          |null        |null   |\n",
      "|19     |1000001|3bnI11kWMhRdVWmwz8_B5e|1              |7243        |1        |625844769      |0            |0              |31.4.68.34     |70136982|0      |0             |1         |0       |1025710154    |216a0a17db930118dc746bbbb23babd1|ns_ap_dbt=0&c4=The Times&ns_ak=N3BMAAaKNG2S3wKNsh4ryp39%2F%2Fzs551p1D8v8gYEfpj5h%2BC8w0L%2B5dpL8ulJRwk97qLEy2kpQF32Lt4kiYiroosIKH46gQxkBargNsIj4tbTpJC3ktiZDQYsDbzSzGyAQtDnAcGwlruKszYnfIqABvoPiLFYE8eMAhGaVw3PIo8%3D&ns_ap_fg=0&ns_ap_dft=0&ns_ap_pfm=android&ns_ap_sv=5.7.2.190215&ns_ap_as=0&ns_ak_d_vce=                              |null   |null   |null    |null           |null        |null     |null           |null         |null           |null   |null   |null   |null          |null      |null    |null          |null        |null   |\n",
      "|19     |1000001|VRQf6pfiEb1uuNuNaN9gad|1              |7244        |1        |625914372      |0            |0              |188.28.6.58    |70136982|0      |0             |1         |0       |1285375143    |216a0a17db930118dc746bbbb23babd1|ns_ap_dbt=0&c4=The Times&ns_ak=g/j3HaInW1OnEvFmkEFXFnwYNGrvlD7RDVs+H50OLtSsL0fUZ3vZfqAJ3+KPYRQD/3ll3RTPmNRg7gL4nsSPenUVqea/izuepk4RJInelm5zuEIioVrzoq2G5f6Czfm/GT+qtbztE5NalOCVaeJMx53i/DXJr2KkCmio1ZtqNw4=&ns_ap_fg=0&ns_ap_dft=0&ns_ap_pfm=android&ns_ap_sv=5.7.2.190215&ns_ap_as=1&ns_ak_d_vce=                                        |null   |null   |null    |null           |null        |null     |null           |null         |null           |null   |null   |null   |null          |null      |null    |null          |null        |null   |\n",
      "|19     |1000004|SO2f1I9_bTttGQDKSNwJdd|17681803       |7244        |2        |625952890      |1776         |0              |172.58.238.226 |70080294|0      |0             |2         |0       |3503190709    |c2f9d0f1a5ed0fe8649ed09af4deddbe|ns_ap_dbt=0&c4=CNBC&ns_ak=RoeY3W%2FeDeiZ%2Fg5PbqcM9A73iQmT%2BleBfgeUGa2A4ZFh2N0AUslOYCtkH6BuwCSZjZuAM9lfw%2FIGmVzjWinoNbO%2B2eGmtqDozI0v1iC8jnk3a%2BD%2Fk15mEaiTEjnWW7IcABMS4sOIvgbkH%2Bq4mu972c1gHynb2lGR%2FwToCy2nMmE%3D&ns_ap_fg=2&ns_ap_dft=346051&ns_ap_pfm=android&ns_ap_sv=5.2.0.170406&ns_ap_as=0&ns_ak_d_vce=                    |null   |null   |null    |null           |null        |null     |null           |null         |null           |null   |null   |null   |null          |null      |null    |null          |null        |null   |\n",
      "|19     |1000004|TWj2TxV94WnYu78catJm51|17681803       |7243        |1        |625839992      |0            |0              |63.153.175.138 |70043588|0      |0             |1         |0       |3301157048    |17f160060c338549c0a4ef7079dd94db|ns_ap_dbt=0&c4=CNBC&ns_ak=C2vgrPXuii5%2FLJ4%2B7LOvPWt5cj0z4WqGGTE28iqeO2cH3vACaLoiS2JHslAeVb83zWgjmhcUXkUQ7TAv4ajTzRtEL1EwxbYOyXQu86QxfzkjZJYXvVQxFrjrd4lc94tk%2FJ03qJsRJtYk5NO%2F3CoNsLTKyKJCTGbBSGHs8oeW3oY%3D&ns_ap_fg=0&ns_ap_dft=0&ns_ap_pfm=android&ns_ap_sv=3.1508.28&ns_ap_as=1&ns_ak_d_vce=                                      |null   |null   |null    |null           |null        |null     |null           |null         |null           |null   |null   |null   |null          |null      |null    |null          |null        |null   |\n",
      "|19     |1000004|pyLTaon4kUfgxXjN8mA788|17681803       |7244        |1        |625944107      |0            |0              |107.77.216.226 |70100281|0      |0             |1         |0       |4201725558    |4c72a1d9cf00844bf8c55a64baeb4798|ns_ap_dbt=0&c4=CNBC&ns_ak=XE8yKaLpwiFxj32vXhtLEP9yx3q86fN2FGfJf2VP%2BXeDhQsiG3WDO8GAPbwoLzBJrsm%2FRYSqblaXcTMpRADKaPeB3QApI9UHke%2Ffh5WQh4O3muQaKVTt2yvPtas%2FSZwf7LJHCdUt%2BZ%2FNOZwz7paq7zl%2FqeNVMvMHGm4%2BfiCT%2FqE%3D&ns_ap_fg=6&ns_ap_dft=78487&ns_ap_pfm=ios&ns_ap_sv=5.8.2.180813&ns_ap_as=2&ns_ak_d_vce=                         |null   |null   |null    |null           |null        |null     |null           |null         |null           |null   |null   |null   |null          |null      |null    |null          |null        |null   |\n",
      "|19     |1000004|s4xgSElqOEABFhqL5jfV43|17681803       |7241        |1        |625667534      |0            |0              |103.10.226.177 |70096471|0      |0             |1         |0       |3956028689    |2f35c78ad3ac959eaff32ab56547e34c|ns_ap_dbt=0&c4=CNBC&ns_ak=8TdwBee0lYPBz5VE003CewXr29qolY5ag9ENgdIQF0LxAoj%2FUfc62VX82EPVhSm5Hz0kjfRQLxmHnEV0mh8xLQlSawrxBGjFw4Rsw05foHOjji81JoKjFZ0MtpK8zObQPS5%2FYNVq2mL90P%2BI2TXku0EYKEUBnJxPMC9%2Ftkt4ihc%3D&ns_ap_fg=0&ns_ap_dft=0&ns_ap_pfm=android&ns_ap_sv=5.2.0.170406&ns_ap_as=1&ns_ak_d_vce=                                   |null   |null   |null    |null           |null        |null     |null           |null         |null           |null   |null   |null   |null          |null      |null    |null          |null        |null   |\n",
      "|19     |1000004|sd6viQhpLfMJgcSthRNW29|17681803       |7242        |1        |625780480      |0            |0              |172.58.59.137  |70130813|0      |0             |1         |0       |3974860378    |ab3d55aae8e4e275586a3d4ba861d4c6|ns_ap_dbt=0&c4=CNBC&ns_ak=iGgnDOO8VztHiQc872CWAA%2FeoR9HBMs0lPhNVZdYMYcHUSoPxug4T2lgAIGr486KjmKAWzbXpBhbXFLy69frkB9P2HJ4%2BnwtQfuhQJXqHQ4F1XOhLijJKplEka%2BBYoE3hSLoEBYUG6zYtAhNePIFGTpGHAIRHeIraaevXzlhqAw%3D&ns_ap_fg=0&ns_ap_dft=17668&ns_ap_pfm=android&ns_ap_sv=5.2.0.170406&ns_ap_as=1&ns_ak_d_vce=                                 |null   |null   |null    |null           |null        |null     |null           |null         |null           |null   |null   |null   |null          |null      |null    |null          |null        |null   |\n",
      "|19     |1000004|tPE3UMrQcTVZ1UIvup1h17|17681803       |7241        |2        |625696381      |191          |0              |172.58.145.42  |70130859|0      |0             |2         |0       |3960518245    |3e80c6bfb865c526c49000db196240b1|ns_ap_dbt=0&c4=CNBC&ns_ak=none&ns_ap_fg=11&ns_ap_dft=654637&ns_ap_pfm=android&ns_ap_sv=5.2.0.170406&ns_ap_as=1&ns_ak_d_vce=                                                                                                                                                                                                               |null   |null   |null    |null           |null        |null     |null           |null         |null           |null   |null   |null   |null          |null      |null    |null          |null        |null   |\n",
      "|19     |1000004|utdCiQoh0D9anA54TFVH75|17681803       |7243        |3        |625839337      |1523         |0              |172.58.59.122  |70130854|0      |0             |3         |0       |451442545     |46983159af772a4afc9e8dc89a1b0095|ns_ap_dbt=0&c4=CNBC&ns_ak=Z9rRDlTkwajA%2FIk1oGiUXvgmly%2FCgaQ7wcww5x5sbgWnSbUWahm%2Bieq1v9MaP4CmTUtAO9xFIPgJ%2Fqxt49O6eD5KMOZUanJUm2%2BztKK1rtdaQ4gUbjCcG%2FNjw7rHrcoJ%2BpkMLIxmb4gHl6pgAiAkwxiU7tiU4Ep2itg9yWymbDo%3D&ns_ap_fg=0&ns_ap_dft=0&ns_ap_pfm=android&ns_ap_sv=5.2.0.170406&ns_ap_as=1&ns_ak_d_vce=                             |null   |null   |null    |null           |null        |null     |null           |null         |null           |null   |null   |null   |null          |null      |null    |null          |null        |null   |\n",
      "|19     |1000004|utdCiQoh0D9anA54TFVH75|17681803       |7244        |2        |625926661      |604          |0              |172.58.59.242  |70130854|0      |0             |2         |0       |4100711343    |46983159af772a4afc9e8dc89a1b0095|ns_ap_dbt=0&c4=CNBC&ns_ak=Z9rRDlTkwajA%2FIk1oGiUXvgmly%2FCgaQ7wcww5x5sbgWnSbUWahm%2Bieq1v9MaP4CmTUtAO9xFIPgJ%2Fqxt49O6eD5KMOZUanJUm2%2BztKK1rtdaQ4gUbjCcG%2FNjw7rHrcoJ%2BpkMLIxmb4gHl6pgAiAkwxiU7tiU4Ep2itg9yWymbDo%3D&ns_ap_fg=0&ns_ap_dft=0&ns_ap_pfm=android&ns_ap_sv=5.2.0.170406&ns_ap_as=1&ns_ak_d_vce=                             |null   |null   |null    |null           |null        |null     |null           |null         |null           |null   |null   |null   |null          |null      |null    |null          |null        |null   |\n",
      "|19     |1000004|vj8q8qA6tP24zC6b82pG5e|17681803       |7241        |1        |625668765      |0            |0              |172.58.139.194 |70062794|0      |0             |1         |0       |2304439404    |6a0093b9233a76b1c2dd7dba920885b8|ns_ap_dbt=0&c4=CNBC&ns_ak=wxRSI0EEXcJdB%2Bydo6%2FeDULLD3oftkNM4Mh97IvQ%2BB0YrNBX9rEGstaR0g%2BQrsB1RKPipGQrvlPinz7t69oLONXbfDuXSLKw3BAVu1s6axa4ORjgGDSyM9g1thLLBgCi%2BM3FY%2Fwu9HyVUrGTvDcnB3OrAQGWq20bEZfyt6EM%2F0s%3D&ns_ap_fg=1&ns_ap_dft=0&ns_ap_pfm=ios&ns_ap_sv=5.8.2.180813&ns_ap_as=1&ns_ak_d_vce=                                 |null   |null   |null    |null           |null        |null     |null           |null         |null           |null   |null   |null   |null          |null      |null    |null          |null        |null   |\n",
      "|19     |1000009|$sLClKwbz7_eejWerlOC72|16683207       |7243        |1        |625869421      |0            |0              |174.216.5.129  |70133898|0      |0             |1         |0       |2060833304    |02e0822a9af54ff74edbc8ea71c0f7f0|ns_ap_dbt=0&c4=Aol News, Video & Mail for iOS&ns_ak=a%2BET%2BSLrLsNgbIv%2F%2FdjgYWHZswr0pzVdAoanwrYq3qd7LPAGVpuBNQxwYq3U9U9jja%2BDCCESmDKz%2BM5K%2BaUfF1BGWm8Z927tbDdeK11qc%2BV9nuY%2FN8CusLNpW9YBDEQiua2EPVEPlfUjinaayMzevX%2BbIGfwPyerojPF2MJrOHA%3D&ns_ap_fg=0&ns_ap_dft=28595&ns_ap_pfm=ios&ns_ap_sv=2.1501.22&ns_ap_as=0&ns_ak_d_vce=|null   |null   |null    |null           |null        |null     |null           |null         |null           |null   |null   |null   |null          |null      |null    |null          |null        |null   |\n",
      "|19     |1000009|498$psd$3T57orHovw6K91|16683207       |7244        |4        |625927386      |2386         |0              |24.156.230.74  |70133898|0      |0             |3         |0       |3821770202    |02e0822a9af54ff74edbc8ea71c0f7f0|ns_ap_dbt=0&c4=Aol News, Video & Mail for iOS&ns_ak=oxZq40Nohk4onncfv497k3wAEFm0qO0OUGkzKtuuACdeCf7BzqpiNqf7QDRUQ9tETOO2yBTYYy7Fc8p1fHNC1FsKQm4IAxYng78h1MiT6qTxdqxES7Ps1v5GatKtwmNqSp4EV65I7JgEeVR0QCM%2BVIbWegYBeG4qBpOLmGUroI4%3D&ns_ap_fg=0&ns_ap_dft=224510&ns_ap_pfm=ios&ns_ap_sv=2.1501.22&ns_ap_as=0&ns_ak_d_vce=                 |null   |null   |null    |null           |null        |null     |null           |null         |null           |null   |null   |null   |null          |null      |null    |null          |null        |null   |\n",
      "|19     |1000009|7BGg_ST6jNDQu68_0i9Pb7|16683207       |7241        |4        |625668280      |371          |0              |172.58.110.145 |70007393|0      |0             |4         |0       |1969286102    |cea103b7af18306a8e824fa056302c49|ns_ap_dbt=0&c4=Aol News, Video & Mail for Android&ns_ak=1bdeqvu8ZdEqZLWvWvrWGdsp8IxpYM8Rydvs5RGnmhWmh%2BF75Bmo5JHNbAAdg8LakooOAYs1I6x0B47LxFQyrcSJGY0cm1mwNcswD1Z6Wf6Mxf%2FDKszsHcwhQiGFWN4bEWrOCh3999fAaPVApuaJFx4VTpV0alj2ITjoYZ0XS5U%3D&ns_ap_fg=0&ns_ap_dft=474548&ns_ap_pfm=android&ns_ap_sv=2.1501.22&ns_ap_as=0&ns_ak_d_vce=       |null   |null   |null    |null           |null        |null     |null           |null         |null           |null   |null   |null   |null          |null      |null    |null          |null        |null   |\n",
      "|19     |1000009|D4MHf7nUJTzQYrJDIKk793|13458216       |7241        |3        |625625720      |797          |0              |207.44.81.210  |70133261|0      |0             |3         |0       |3701531736    |29fb231afde8750f8358c895f87d9875|ns_ap_dbt=0&c4=Huffington Post iOS&ns_ak=tWMnxNrGVfqFcE3vg7ZFJxEMC5pNEKEPjFcfKyTY706%2Fx9w790W%2FoF7GSGDSbrqcj2ZusKXYStmnGpqC3G7p%2F3DIoAlj31w6fftKUjo6HpKDT2e3N9ENuO6IQ2UUxFgPBE4Ca0h9bYBbM28BrDWgiF8hp6U9KxsAnTEt5VvnqUY%3D&ns_ap_fg=0&ns_ap_dft=19244&ns_ap_pfm=ios&ns_ap_sv=2.1501.22&ns_ap_as=0&ns_ak_d_vce=                         |null   |null   |null    |null           |null        |null     |null           |null         |null           |null   |null   |null   |null          |null      |null    |null          |null        |null   |\n",
      "|19     |1000009|FuG4XAhn06bImZEAGaYCf0|16683207       |7242        |1        |625745376      |0            |0              |173.209.212.145|69568991|0      |0             |1         |0       |745131064     |73a3e44d1e501559ac7c4477cf0c82fa|ns_ap_dbt=0&c4=Aol News, Video & Mail for Android&ns_ak=none&ns_ap_fg=0&ns_ap_dft=25045&ns_ap_pfm=android&ns_ap_sv=2.1501.22&ns_ap_as=0&ns_ak_d_vce=                                                                                                                                                                                      |null   |null   |null    |null           |null        |null     |null           |null         |null           |null   |null   |null   |null          |null      |null    |null          |null        |null   |\n",
      "|19     |1000009|PYq3JxbAQoLpS5ONBYTb2a|16683207       |7241        |1        |625708783      |0            |0              |192.24.194.50  |70100274|0      |0             |1         |0       |364768902     |02e0822a9af54ff74edbc8ea71c0f7f0|ns_ap_dbt=0&c4=Aol News, Video & Mail for iOS&ns_ak=cV2%2FTisqC581u38C1GwST%2Bi9uTCsE2YoUnDCqNgyUieYfOslYvPkQnEEDCRXG648bE33jkA1jLefw7ryr94YD7j6SYQ2NBB6qvCrZk25wTb0WIjEKyvR5JUvDSrp3vJ3Fd1a4822Kjodg5OBPQQlszHyAZvczwbkZD1uS4nUhAg%3D&ns_ap_fg=0&ns_ap_dft=61338&ns_ap_pfm=ios&ns_ap_sv=2.1501.22&ns_ap_as=0&ns_ak_d_vce=                |null   |null   |null    |null           |null        |null     |null           |null         |null           |null   |null   |null   |null          |null      |null    |null          |null        |null   |\n",
      "+-------+-------+----------------------+---------------+------------+---------+---------------+-------------+---------------+---------------+--------+-------+--------------+----------+--------+--------------+--------------------------------+------------------------------------------------------------------------------------------------------------------------------------------------------------------------------------------------------------------------------------------------------------------------------------------------------------------------------------------+-------+-------+--------+---------------+------------+---------+---------------+-------------+---------------+-------+-------+-------+--------------+----------+--------+--------------+------------+-------+\n",
      "only showing top 20 rows\n",
      "\n"
     ]
    }
   ],
   "source": [
    "compare_ns.filter(compare_ns.test_ns.isNull()).show(20, False)"
   ]
  },
  {
   "cell_type": "code",
   "execution_count": 195,
   "metadata": {
    "ExecuteTime": {
     "end_time": "2020-01-28T21:00:29.563665Z",
     "start_time": "2020-01-28T20:59:55.055462Z"
    }
   },
   "outputs": [
    {
     "name": "stdout",
     "output_type": "stream",
     "text": [
      "+-------+-------+--------+---------------+------------+---------+---------------+-------------+---------------+-------+-------+-------+--------------+----------+--------+--------------+------------+-------+-------+-------+--------+---------------+------------+---------+---------------+-------------+---------------+-------+-------+-------+--------------+----------+--------+--------------+------------+-------+\n",
      "|prod_c1|prod_c2|prod_uid|prod_pattern_id|prod_time_id|prod_hits|prod_start_ss2k|prod_duration|prod_session_id|prod_ip|prod_os|prod_bt|prod_dist_ss2k|prod_pages|prod_iab|prod_akamai_id|prod_ua_hash|prod_ns|test_c1|test_c2|test_uid|test_pattern_id|test_time_id|test_hits|test_start_ss2k|test_duration|test_session_id|test_ip|test_os|test_bt|test_dist_ss2k|test_pages|test_iab|test_akamai_id|test_ua_hash|test_ns|\n",
      "+-------+-------+--------+---------------+------------+---------+---------------+-------------+---------------+-------+-------+-------+--------------+----------+--------+--------------+------------+-------+-------+-------+--------+---------------+------------+---------+---------------+-------------+---------------+-------+-------+-------+--------------+----------+--------+--------------+------------+-------+\n",
      "+-------+-------+--------+---------------+------------+---------+---------------+-------------+---------------+-------+-------+-------+--------------+----------+--------+--------------+------------+-------+-------+-------+--------+---------------+------------+---------+---------------+-------------+---------------+-------+-------+-------+--------------+----------+--------+--------------+------------+-------+\n",
      "\n"
     ]
    }
   ],
   "source": [
    "prod_test.filter(prod_test.test_ns.isNull()).show(20, False)"
   ]
  },
  {
   "cell_type": "code",
   "execution_count": 198,
   "metadata": {
    "ExecuteTime": {
     "end_time": "2020-01-28T21:15:21.541828Z",
     "start_time": "2020-01-28T21:15:00.305208Z"
    }
   },
   "outputs": [
    {
     "data": {
      "text/plain": [
       "95379"
      ]
     },
     "execution_count": 198,
     "metadata": {},
     "output_type": "execute_result"
    }
   ],
   "source": [
    "compare_ns.filter(compare_ns.test_ns.contains('ns_ak_d_sha2')).count()"
   ]
  },
  {
   "cell_type": "code",
   "execution_count": 221,
   "metadata": {
    "ExecuteTime": {
     "end_time": "2020-01-28T23:25:50.513029Z",
     "start_time": "2020-01-28T23:24:13.735656Z"
    }
   },
   "outputs": [],
   "source": [
    "test_only.coalesce(1).write.format(\"csv\").options(delimiter=',').mode(\"overwrite\") \\\n",
    "    .save(\"snapchat_ccpa_test\")"
   ]
  },
  {
   "cell_type": "code",
   "execution_count": 225,
   "metadata": {
    "ExecuteTime": {
     "end_time": "2020-01-28T23:33:37.539565Z",
     "start_time": "2020-01-28T23:32:54.936564Z"
    }
   },
   "outputs": [],
   "source": [
    "test_only.repartition(1).write.csv('snapchat_ccpa_test')"
   ]
  },
  {
   "cell_type": "code",
   "execution_count": 226,
   "metadata": {
    "ExecuteTime": {
     "end_time": "2020-01-28T23:43:13.649365Z",
     "start_time": "2020-01-28T23:42:05.379460Z"
    }
   },
   "outputs": [],
   "source": [
    "prod_only.repartition(1).write.csv('snapchat_ccpa_prod')"
   ]
  },
  {
   "cell_type": "code",
   "execution_count": 219,
   "metadata": {
    "ExecuteTime": {
     "end_time": "2020-01-28T23:20:31.250060Z",
     "start_time": "2020-01-28T23:18:30.300467Z"
    }
   },
   "outputs": [],
   "source": [
    "prod_only = compare.where(\n",
    "    reduce(lambda x, y: x & y, (col(x).isNull() for x in test_tmp.columns)))\n",
    "prod_only.coalesce(1).write.format(\"csv\").mode('overwrite').options(delimiter=',',header = 'true').save('snap_ccpa/prod_only')"
   ]
  },
  {
   "cell_type": "code",
   "execution_count": 211,
   "metadata": {
    "ExecuteTime": {
     "end_time": "2020-01-28T22:27:04.318229Z",
     "start_time": "2020-01-28T22:26:10.562124Z"
    }
   },
   "outputs": [
    {
     "name": "stdout",
     "output_type": "stream",
     "text": [
      "+-------+-------+--------+---------------+------------+---------+---------------+-------------+---------------+-------+-------+-------+--------------+----------+--------+--------------+------------+-------+-------+----------------+--------------------+---------------+------------+---------+---------------+-------------+---------------+-------+--------+-------+--------------+----------+--------+--------------+------------+--------------------+\n",
      "|prod_c1|prod_c2|prod_uid|prod_pattern_id|prod_time_id|prod_hits|prod_start_ss2k|prod_duration|prod_session_id|prod_ip|prod_os|prod_bt|prod_dist_ss2k|prod_pages|prod_iab|prod_akamai_id|prod_ua_hash|prod_ns|test_c1|         test_c2|            test_uid|test_pattern_id|test_time_id|test_hits|test_start_ss2k|test_duration|test_session_id|test_ip| test_os|test_bt|test_dist_ss2k|test_pages|test_iab|test_akamai_id|test_ua_hash|             test_ns|\n",
      "+-------+-------+--------+---------------+------------+---------+---------------+-------------+---------------+-------+-------+-------+--------------+----------+--------+--------------+------------+-------+-------+----------------+--------------------+---------------+------------+---------+---------------+-------------+---------------+-------+--------+-------+--------------+----------+--------+--------------+------------+--------------------+\n",
      "|   null|   null|    null|           null|        null|     null|           null|         null|           null|   null|   null|   null|          null|      null|    null|          null|        null|   null|     19|4782264900386816|sug3DCQ5zH9plpWZG...|       28105326|        7261|        0|      627350400|        30200|              0|   null|70096474|      0|             0|         7|       0|          null|        null|ns_ap_dbt=0&c4=&n...|\n",
      "|   null|   null|    null|           null|        null|     null|           null|         null|           null|   null|   null|   null|          null|      null|    null|          null|        null|   null|     19|4899274482253824|694jhHroziMqKuSpf...|       28472026|        7245|        0|      625968000|        27200|              0|   null|70100279|      0|             0|        17|       0|          null|        null|ns_ap_dbt=0&c4=&n...|\n",
      "|   null|   null|    null|           null|        null|     null|           null|         null|           null|   null|   null|   null|          null|      null|    null|          null|        null|   null|     19|4899274482253824|Hn68KFSCPuPEg5l1T...|       28472026|        7245|        0|      625968000|         1900|              0|   null|70042852|      0|             0|         3|       0|          null|        null|ns_ap_dbt=0&c4=&n...|\n",
      "|   null|   null|    null|           null|        null|     null|           null|         null|           null|   null|   null|   null|          null|      null|    null|          null|        null|   null|     19|4899274482253824|Iy3WHzrlzuBpt$Q3r...|       28472026|        7270|        0|      628128000|          400|              0|   null|70024848|      0|             0|         1|       0|          null|        null|ns_ap_dbt=0&c4=&n...|\n",
      "|   null|   null|    null|           null|        null|     null|           null|         null|           null|   null|   null|   null|          null|      null|    null|          null|        null|   null|     19|4899274482253824|RFuCW28GP5ZrlTDSK...|       28472026|        7261|        0|      627350400|         8800|              0|   null|70164503|      0|             0|         3|       0|          null|        null|ns_ap_dbt=0&c4=&n...|\n",
      "|   null|   null|    null|           null|        null|     null|           null|         null|           null|   null|   null|   null|          null|      null|    null|          null|        null|   null|     19|4899274482253824|ZBdyRBIKjfy9oXbk9...|       28472026|        7256|        0|      626918400|       260200|              0|   null|70062224|      0|             0|        20|       0|          null|        null|ns_ap_dbt=0&c4=&n...|\n",
      "|   null|   null|    null|           null|        null|     null|           null|         null|           null|   null|   null|   null|          null|      null|    null|          null|        null|   null|     19|4899274482253824|_q2jOqq0z0pXC89gi...|       28472026|        7253|        0|      626659200|        66200|              0|   null|70042858|      0|             0|         6|       0|          null|        null|ns_ap_dbt=0&c4=&n...|\n",
      "|   null|   null|    null|           null|        null|     null|           null|         null|           null|   null|   null|   null|          null|      null|    null|          null|        null|   null|     19|4899274482253824|bpddbL2rznXb5l_7A...|       28472026|        7249|        0|      626313600|         6400|              0|   null|70100281|      0|             0|         3|       0|          null|        null|ns_ap_dbt=0&c4=&n...|\n",
      "|   null|   null|    null|           null|        null|     null|           null|         null|           null|   null|   null|   null|          null|      null|    null|          null|        null|   null|     19|4899274482253824|cNtuNxXg3l4p2F_ja...|       28472026|        7274|        0|      628473600|         1900|              0|   null|70134051|      0|             0|         3|       0|          null|        null|ns_ap_dbt=0&c4=&n...|\n",
      "|   null|   null|    null|           null|        null|     null|           null|         null|           null|   null|   null|   null|          null|      null|    null|          null|        null|   null|     19|4899274482253824|u4HbXocOzbLaofp5v...|       28472026|        7272|        0|      628300800|        99800|              0|   null|70137225|      0|             0|        20|       0|          null|        null|ns_ap_dbt=0&c4=&n...|\n",
      "|   null|   null|    null|           null|        null|     null|           null|         null|           null|   null|   null|   null|          null|      null|    null|          null|        null|   null|     19|5042965254242320|avgIVJGPPBdaZaYaa...|       32262730|        7271|        0|      628214400|        97200|              0|   null|70024848|      0|             0|         9|       0|          null|        null|ns_ap_dbt=0&c4=&n...|\n",
      "|   null|   null|    null|           null|        null|     null|           null|         null|           null|   null|   null|   null|          null|      null|    null|          null|        null|   null|     19|5068541958815744|6YTYTJePj6m9KmENp...|       29011878|        7249|        0|      626313600|         1100|              0|   null|70063087|      0|             0|         1|       0|          null|        null|ns_ap_dbt=0&c4=&n...|\n",
      "|   null|   null|    null|           null|        null|     null|           null|         null|           null|   null|   null|   null|          null|      null|    null|          null|        null|   null|     19|5072962084143104|Br7o7VW$PWXrTszH5...|       30193517|        7262|        0|      627436800|         2400|              0|   null|70042852|      0|             0|         2|       0|          null|        null|ns_ap_dbt=0&c4=&n...|\n",
      "|   null|   null|    null|           null|        null|     null|           null|         null|           null|   null|   null|   null|          null|      null|    null|          null|        null|   null|     19|5072962084143104|xHoM1JyEjSDHp5NVZ...|       30193517|        7261|        0|      627350400|        17500|              0|   null|70062224|      0|             0|         4|       0|          null|        null|ns_ap_dbt=0&c4=&n...|\n",
      "|   null|   null|    null|           null|        null|     null|           null|         null|           null|   null|   null|   null|          null|      null|    null|          null|        null|   null|     19|5073409096286208|2hPts71wzGcocFiRV...|       30026177|        7269|        0|      628041600|         1900|              0|   null|70042164|      0|             0|         2|       0|          null|        null|ns_ap_dbt=0&c4=&n...|\n",
      "|   null|   null|    null|           null|        null|     null|           null|         null|           null|   null|   null|   null|          null|      null|    null|          null|        null|   null|     19|5073409096286208|Y8IUVJMOzoN9a8Bva...|       30026177|        7255|        0|      626832000|        33100|              0|   null|70100281|      0|             0|         6|       0|          null|        null|ns_ap_dbt=0&c4=&n...|\n",
      "|   null|   null|    null|           null|        null|     null|           null|         null|           null|   null|   null|   null|          null|      null|    null|          null|        null|   null|     19|5073409096286208|gKC2cEVSjCCGphJ8G...|       30026177|        7268|        0|      627955200|         1500|              0|   null|70100281|      0|             0|         1|       0|          null|        null|ns_ap_dbt=0&c4=&n...|\n",
      "|   null|   null|    null|           null|        null|     null|           null|         null|           null|   null|   null|   null|          null|      null|    null|          null|        null|   null|     19|5073409096286208|uSdfRET53AqGxF2I8...|       30026177|        7257|        0|      627004800|       132100|              0|   null|70152235|      0|             0|        37|       0|          null|        null|ns_ap_dbt=0&c4=&n...|\n",
      "|   null|   null|    null|           null|        null|     null|           null|         null|           null|   null|   null|   null|          null|      null|    null|          null|        null|   null|     19|5075335791771648|32qb7Z8rzk9qq1ctN...|       30026186|        7256|        0|      626918400|       434200|              0|   null|70133261|      0|             0|        75|       0|          null|        null|ns_ap_dbt=0&c4=&n...|\n",
      "|   null|   null|    null|           null|        null|     null|           null|         null|           null|   null|   null|   null|          null|      null|    null|          null|        null|   null|     19|5075335791771648|CejxhvqUjLCUzrS4a...|       30026186|        7255|        0|      626832000|         1300|              0|   null|70042858|      0|             0|         1|       0|          null|        null|ns_ap_dbt=0&c4=&n...|\n",
      "+-------+-------+--------+---------------+------------+---------+---------------+-------------+---------------+-------+-------+-------+--------------+----------+--------+--------------+------------+-------+-------+----------------+--------------------+---------------+------------+---------+---------------+-------------+---------------+-------+--------+-------+--------------+----------+--------+--------------+------------+--------------------+\n",
      "only showing top 20 rows\n",
      "\n"
     ]
    }
   ],
   "source": [
    "test_only.show(20)"
   ]
  },
  {
   "cell_type": "code",
   "execution_count": 5,
   "metadata": {
    "ExecuteTime": {
     "end_time": "2020-02-04T16:34:23.176666Z",
     "start_time": "2020-02-04T15:37:11.811330Z"
    }
   },
   "outputs": [
    {
     "data": {
      "text/plain": [
       "315856646"
      ]
     },
     "execution_count": 5,
     "metadata": {},
     "output_type": "execute_result"
    }
   ],
   "source": [
    "test_bs.filter(test_bs.ns.contains('&ns_ak_d_sha2=&')).count()"
   ]
  },
  {
   "cell_type": "code",
   "execution_count": 10,
   "metadata": {
    "ExecuteTime": {
     "end_time": "2020-01-29T15:48:40.809105Z",
     "start_time": "2020-01-29T15:48:40.786832Z"
    }
   },
   "outputs": [],
   "source": [
    "ca_traffic = test_bs.filter(test_bs.ns.contains('&ns_ak_d_sha2=&'))"
   ]
  },
  {
   "cell_type": "code",
   "execution_count": 11,
   "metadata": {
    "ExecuteTime": {
     "end_time": "2020-01-29T15:51:04.543788Z",
     "start_time": "2020-01-29T15:49:41.023150Z"
    }
   },
   "outputs": [],
   "source": [
    "ca_traffic.coalesce(1).write.format(\"csv\").options(delimiter=',', header='true').mode(\"overwrite\") \\\n",
    "    .save(\"snapchat_ccpa_ca_traffic\")"
   ]
  },
  {
   "cell_type": "code",
   "execution_count": 13,
   "metadata": {
    "ExecuteTime": {
     "end_time": "2020-01-29T16:59:43.402253Z",
     "start_time": "2020-01-29T16:43:17.851064Z"
    }
   },
   "outputs": [],
   "source": [
    "snap_ca = snap.filter('snap_created_id==1')\n",
    "snap_ca.repartition(1).write.format(\"csv\").options(delimiter=',', header='true').mode(\"overwrite\") \\\n",
    "    .save(\"snap_ca_traffic\")"
   ]
  },
  {
   "cell_type": "code",
   "execution_count": 7,
   "metadata": {
    "ExecuteTime": {
     "end_time": "2020-02-04T16:37:44.899437Z",
     "start_time": "2020-02-04T16:37:44.893195Z"
    }
   },
   "outputs": [
    {
     "data": {
      "text/plain": [
       "0.005435794272524428"
      ]
     },
     "execution_count": 7,
     "metadata": {},
     "output_type": "execute_result"
    }
   ],
   "source": [
    "315856646/58106806506."
   ]
  },
  {
   "cell_type": "code",
   "execution_count": 8,
   "metadata": {
    "ExecuteTime": {
     "end_time": "2020-02-04T17:37:49.594772Z",
     "start_time": "2020-02-04T16:38:41.216420Z"
    }
   },
   "outputs": [
    {
     "data": {
      "text/plain": [
       "1123638007"
      ]
     },
     "execution_count": 8,
     "metadata": {},
     "output_type": "execute_result"
    }
   ],
   "source": [
    "test_bs.filter(test_bs.ns.contains('ns_ak_d_sha2')).count()"
   ]
  },
  {
   "cell_type": "code",
   "execution_count": 10,
   "metadata": {
    "ExecuteTime": {
     "end_time": "2020-02-04T18:27:14.117727Z",
     "start_time": "2020-02-04T18:27:14.110215Z"
    }
   },
   "outputs": [
    {
     "data": {
      "text/plain": [
       "0.2811017819193437"
      ]
     },
     "execution_count": 10,
     "metadata": {},
     "output_type": "execute_result"
    }
   ],
   "source": [
    "315856646/1123638007."
   ]
  },
  {
   "cell_type": "code",
   "execution_count": null,
   "metadata": {},
   "outputs": [],
   "source": []
  }
 ],
 "metadata": {
  "kernelspec": {
   "display_name": "Python 2",
   "language": "python",
   "name": "python2"
  },
  "language_info": {
   "codemirror_mode": {
    "name": "ipython",
    "version": 2
   },
   "file_extension": ".py",
   "mimetype": "text/x-python",
   "name": "python",
   "nbconvert_exporter": "python",
   "pygments_lexer": "ipython2",
   "version": "2.7.16"
  }
 },
 "nbformat": 4,
 "nbformat_minor": 2
}
