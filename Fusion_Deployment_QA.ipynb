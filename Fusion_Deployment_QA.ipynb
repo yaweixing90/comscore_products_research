{
 "cells": [
  {
   "cell_type": "code",
   "execution_count": 1,
   "metadata": {
    "ExecuteTime": {
     "end_time": "2020-02-05T19:33:20.498654Z",
     "start_time": "2020-02-05T19:32:41.102274Z"
    }
   },
   "outputs": [],
   "source": [
    "import findspark\n",
    "findspark.init()\n",
    "from pyspark.sql.functions import col\n",
    "from pyspark.sql import functions as F\n",
    "import pandas as pd\n",
    "import pyspark\n",
    "from pyspark.sql import SparkSession\n",
    "\n",
    "from functools import reduce\n",
    "\n",
    "spark = (\n",
    "    SparkSession.builder.appName('yxing_qa_test').master('yarn-client').config(\n",
    "        'spark.executor.memory', '28g').config('spark.cores.max', '10').config(\n",
    "            'spark.driver.memory',\n",
    "            '10g').config('spark.shuffle.consolidateFiles').config(\n",
    "                'spark.executor.instances',\n",
    "                '20').config('spark.yarn.queue',\n",
    "                             'root.digital.heavy').getOrCreate())\n",
    "sc = spark.sparkContext"
   ]
  },
  {
   "cell_type": "code",
   "execution_count": 7,
   "metadata": {
    "ExecuteTime": {
     "end_time": "2020-02-05T19:58:44.485989Z",
     "start_time": "2020-02-05T19:58:44.476309Z"
    }
   },
   "outputs": [],
   "source": [
    "month_id = '240m'\n",
    "prod_num = '1_324410_BJB'\n",
    "test_num = '1_99992_BJB'\n",
    "\n",
    "android_test_path = \"/mapr/ri1.comscore.com/data/panel/momx/\" + month_id + \"/momx-fusion/22000/android/\" + test_num + \"_android_web_duration_bounding/final_close/output/part-*\"\n",
    "android_prod_path = \"/mapr/ia1.comscore.com/data/panel/momx/\" + month_id + \"/momx-fusion/22000/android/\" + prod_num + \"_android_web_duration_bounding/final_close/output/part-*\"\n",
    "\n",
    "# android_mercury_path = \"/mapr/ia1.comscore.com/data/panel/momx/7274d/momx-fusion/22000/android/1_0001_BJB_android_web_duration_bounding/final_close/output/mercury/part-*\"\n",
    "ios_test_path = \"/mapr/ri1.comscore.com/data/panel/momx/\" + month_id + \"/momx-fusion/22000/ios/1_9999_BJB/final_close/*d/*.txt\"\n",
    "ios_prod_path = \"/mapr/ia1.comscore.com//data/panel/momx/\" + month_id + \"/momx-fusion/22000/ios/1_324410_BJB/final_close/*d/*.txt\"\n",
    "# ios_mercury_path = \"/mapr/ia1.comscore.com/data/panel/momx/7274d/momx-fusion/22000/ios/1_0001_BJB/final_close/mercury/*d/*.txt\"\n",
    "ios_pb_test_path = \"/mapr/ri1.comscore.com/data/panel/momx/\" + month_id + \"/momx-fusion/22000/ios_pb/1_9999_BJB/final_close/*d/*\"\n",
    "ios_pb_path = \"/mapr/ia1.comscore.com/data/panel/momx/\" + month_id + \"/momx-fusion/22000/ios_pb/1_324410_BJB/final_close/*d/*\"\n",
    "android_embee_test_path = \"/mapr/ri1.comscore.com/data/panel/momx/239m/momx-fusion/22000/android_embee/1_9999_BJB/final_close/*d/*.txt\"\n",
    "android_embee_path = \"/mapr/ia1.comscore.com/data/panel/momx/239m/momx-fusion/22000/android_embee/1_318980_BJB/final_close/*d/*.txt\"\n",
    "# browser_info_path = '/mapr/ia1.comscore.com/output/browser_info/weekly/1039w/browser_info_v2_1039w.txt'"
   ]
  },
  {
   "cell_type": "code",
   "execution_count": 3,
   "metadata": {
    "ExecuteTime": {
     "end_time": "2020-02-05T19:33:20.547813Z",
     "start_time": "2020-02-05T19:33:20.522039Z"
    }
   },
   "outputs": [],
   "source": [
    "schema = [\n",
    "    \"session_id\", \"house_id\", \"machine_id\", \"person_id\", \"time_id\",\n",
    "    \"pattern_id\", \"pages\", \"dpages\", \"duration\", \"ssl_pages\", \"ssl_dpages\",\n",
    "    \"ssl_duration\", \"num_redirects\", \"num_hits\", \"data_source\", \"bt1_id\",\n",
    "    \"bt1_page_share\", \"bt1_dur_share\", \"bt2_id\", \"bt2_page_share\",\n",
    "    \"bt2_dur_share\", \"ods_id\", \"first_ss2k\", \"start_ref_pattern_id\"\n",
    "]\n",
    "\n",
    "browser_info_schema = [\n",
    "    \"house_id\", \"c_panelist_id\", \"machine_id\", \"c_machine_id\", \"aol_computer\",\n",
    "    \"primary_browser\", \"default_browser\", \"cproxy_build\",\n",
    "    \"cproxy_build_source\", \"os_major_version\", \"os_minor_version\",\n",
    "    \"os_domain_mode\", \"os_bits\", \"system_primary_language_code\", \"dateadded\",\n",
    "    \"dateremoved\", \"lastspeedread\", \"active_in_last_365_days\",\n",
    "    \"connection_speed\", \"numeric_time_zone\", \"time_zone_bias\",\n",
    "    \"inconsistent_vcountry_timezone\", \"computer_location\",\n",
    "    \"computer_location_source\", \"computer_type\", \"first_in_cms_sample\",\n",
    "    \"first_in_mmx_sample\", \"zip\", \"zip_source\", \"zip4\", \"zip5\", \"dma\",\n",
    "    \"dma_name\", \"census_region\", \"reportable_region_id\", \"region\",\n",
    "    \"region_source\", \"county_fips_code\", \"v_country\", \"iso_country_code\",\n",
    "    \"ip_country_code\", \"network_id\", \"campaign_id\", \"vfromwhere\", \"partner_id\",\n",
    "    \"i_site_id\", \"i_lang\", \"age_head\", \"age_head_source\", \"age_primary_user\",\n",
    "    \"age_primary_user_source\", \"hhsize\", \"hhsize_source\", \"hoh_marital_status\",\n",
    "    \"hoh_marital_status_source\", \"child_present\", \"child_present_source\",\n",
    "    \"child_13to17\", \"child_13to17_source\", \"gender_head\", \"gender_head_source\",\n",
    "    \"gender_primary_user\", \"gender_primary_user_source\", \"hhincome\",\n",
    "    \"hhincome_source\", \"hoh_most_education\", \"hoh_most_education_source\",\n",
    "    \"hoh_employment\", \"hoh_employment_source\", \"employees\", \"employees_source\",\n",
    "    \"ethnicity\", \"ethnicity_source\", \"race\", \"race_source\",\n",
    "    \"business_from_home\", \"hoh_social_class\", \"hoh_social_class_source\",\n",
    "    \"occupation\", \"occupation_source\", \"device_id\", \"carrier_id\",\n",
    "    \"lang_preference\", \"lang_preference_source\", \"city_name\",\n",
    "    \"city_name_source\", \"pb_collection\", \"date_secure_cert\",\n",
    "    \"date_sec_cert_req\", \"v_device_status\", \"v_advertising_id\"\n",
    "]"
   ]
  },
  {
   "cell_type": "code",
   "execution_count": 4,
   "metadata": {
    "ExecuteTime": {
     "end_time": "2020-02-05T19:33:20.557067Z",
     "start_time": "2020-02-05T19:33:20.551657Z"
    }
   },
   "outputs": [],
   "source": [
    "class Meta:\n",
    "    def __init__(self, data):\n",
    "        self.data_source = data.select('data_source').distinct()\n",
    "        self.time_period_length = data.select('time_id').distinct().count()\n",
    "        self.machine_id_count = data.select('machine_id').distinct().count()"
   ]
  },
  {
   "cell_type": "code",
   "execution_count": 5,
   "metadata": {
    "ExecuteTime": {
     "end_time": "2020-02-05T19:33:20.582980Z",
     "start_time": "2020-02-05T19:33:20.560826Z"
    }
   },
   "outputs": [],
   "source": [
    "agg_var = ['v_country', 'pattern_id', 'data_source']\n",
    "\n",
    "\n",
    "def read_file(path, schema):\n",
    "    return spark.read.format('csv').option(\"delimiter\", '\\t').option(\n",
    "        \"inferSchema\", \"true\").load(path).toDF(*schema)\n",
    "\n",
    "\n",
    "# def generate_rep(data, name):\n",
    "#     return data.groupBy(agg_var).agg(\n",
    "#         F.sum(\"duration\").alias(name + '_duration'),\n",
    "#         F.sum(\"pages\").alias(name + '_pages'),\n",
    "#         F.sum('num_hits').alias(name + '_hits'))\n",
    "\n",
    "\n",
    "def compared_df(test_path, prod_path, schema):\n",
    "    test = read_file(test_path, schema)\n",
    "    prod = read_file(prod_path, schema)\n",
    "\n",
    "    prod_meta = Meta(prod)\n",
    "    test_meta = Meta(test)\n",
    "\n",
    "    prod_tmp = prod.select(*(col(x).alias('prod_' + x) for x in prod.columns))\n",
    "    test_tmp = test.select(*(col(x).alias('test_' + x) for x in test.columns))\n",
    "\n",
    "    cond = [\n",
    "        prod_tmp['prod_' + x] == test_tmp['test_' + x] for x in prod.columns\n",
    "    ]\n",
    "\n",
    "    compare = prod_tmp.join(test_tmp, cond, how='full')\n",
    "    matched = prod.join(test, schema, how='inner')\n",
    "\n",
    "    test_only = compare.where(\n",
    "        reduce(lambda x, y: x & y,\n",
    "               (col(x).isNull() for x in prod_tmp.columns)))\n",
    "    prod_only = compare.where(\n",
    "        reduce(lambda x, y: x & y,\n",
    "               (col(x).isNull() for x in test_tmp.columns)))\n",
    "    return {\n",
    "        \"compare_df\": compare,\n",
    "        'prod_df': prod,\n",
    "        'test_df': test,\n",
    "        'prod_only': prod_only,\n",
    "        'test_only': test_only,\n",
    "        'matched': matched,\n",
    "        'meta': {\n",
    "            'prod': prod_meta,\n",
    "            'test': test_meta\n",
    "        }\n",
    "    }"
   ]
  },
  {
   "cell_type": "code",
   "execution_count": 6,
   "metadata": {
    "ExecuteTime": {
     "end_time": "2020-01-30T18:51:04.063293Z",
     "start_time": "2020-01-30T18:44:20.149641Z"
    }
   },
   "outputs": [
    {
     "name": "stdout",
     "output_type": "stream",
     "text": [
      "148186961\n",
      "40973964\n",
      "78289523\n",
      "110871402\n",
      "prod\n",
      "+-----------+\n",
      "|data_source|\n",
      "+-----------+\n",
      "|         20|\n",
      "|         21|\n",
      "|         60|\n",
      "+-----------+\n",
      "\n",
      "None\n",
      "31\n",
      "118302\n",
      "test\n",
      "+-----------+\n",
      "|data_source|\n",
      "+-----------+\n",
      "|         20|\n",
      "|         21|\n",
      "|         60|\n",
      "+-----------+\n",
      "\n",
      "None\n",
      "31\n",
      "120788\n"
     ]
    }
   ],
   "source": [
    "android_compare = compared_df(android_test_path, android_prod_path, schema)\n",
    "print android_compare['compare_df'].count()\n",
    "print android_compare['matched'].count()\n",
    "print android_compare['prod_df'].count()\n",
    "print android_compare['test_df'].count()\n",
    "\n",
    "for i in ['prod', 'test']:\n",
    "    print i\n",
    "    print android_compare['meta'][i].data_source.show()\n",
    "    print android_compare['meta'][i].time_period_length\n",
    "    print android_compare['meta'][i].machine_id_count\n"
   ]
  },
  {
   "cell_type": "code",
   "execution_count": 14,
   "metadata": {
    "ExecuteTime": {
     "end_time": "2020-02-06T16:04:08.040499Z",
     "start_time": "2020-02-06T15:58:43.481071Z"
    }
   },
   "outputs": [
    {
     "name": "stdout",
     "output_type": "stream",
     "text": [
      "38485720\n",
      "38485720\n",
      "38485720\n",
      "38485720\n",
      "prod\n",
      "+-----------+\n",
      "|data_source|\n",
      "+-----------+\n",
      "|         40|\n",
      "|         41|\n",
      "+-----------+\n",
      "\n",
      "None\n",
      "31\n",
      "57798\n",
      "test\n",
      "+-----------+\n",
      "|data_source|\n",
      "+-----------+\n",
      "|         40|\n",
      "|         41|\n",
      "+-----------+\n",
      "\n",
      "None\n",
      "31\n",
      "57798\n"
     ]
    }
   ],
   "source": [
    "ios_compare = compared_df(ios_test_path, ios_prod_path, schema)\n",
    "print ios_compare['compare_df'].count()\n",
    "print ios_compare['matched'].count()\n",
    "print ios_compare['prod_df'].count()\n",
    "print ios_compare['test_df'].count()\n",
    "\n",
    "for i in ['prod', 'test']:\n",
    "    print i\n",
    "    print ios_compare['meta'][i].data_source.show()\n",
    "    print ios_compare['meta'][i].time_period_length\n",
    "    print ios_compare['meta'][i].machine_id_count"
   ]
  },
  {
   "cell_type": "code",
   "execution_count": 15,
   "metadata": {
    "ExecuteTime": {
     "end_time": "2020-02-06T16:15:28.204219Z",
     "start_time": "2020-02-06T16:09:07.002499Z"
    }
   },
   "outputs": [
    {
     "name": "stdout",
     "output_type": "stream",
     "text": [
      "2605054\n",
      "2605054\n",
      "2605054\n",
      "2605054\n",
      "prod\n",
      "+-----------+\n",
      "|data_source|\n",
      "+-----------+\n",
      "|         51|\n",
      "|         50|\n",
      "+-----------+\n",
      "\n",
      "None\n",
      "31\n",
      "54608\n",
      "test\n",
      "+-----------+\n",
      "|data_source|\n",
      "+-----------+\n",
      "|         51|\n",
      "|         50|\n",
      "+-----------+\n",
      "\n",
      "None\n",
      "31\n",
      "54608\n"
     ]
    }
   ],
   "source": [
    "ios_pb_compare = compared_df(ios_pb_test_path, ios_pb_path, schema)\n",
    "print ios_pb_compare['compare_df'].count()\n",
    "print ios_pb_compare['matched'].count()\n",
    "print ios_pb_compare['prod_df'].count()\n",
    "print ios_pb_compare['test_df'].count()\n",
    "\n",
    "for i in ['prod', 'test']:\n",
    "    print i\n",
    "    print ios_pb_compare['meta'][i].data_source.show()\n",
    "    print ios_pb_compare['meta'][i].time_period_length\n",
    "    print ios_pb_compare['meta'][i].machine_id_count\n"
   ]
  },
  {
   "cell_type": "code",
   "execution_count": null,
   "metadata": {
    "ExecuteTime": {
     "start_time": "2020-01-15T21:28:37.475Z"
    }
   },
   "outputs": [],
   "source": [
    "ndr_embee_compare = compared_df(android_embee_test_path, android_embee_path, schema)\n",
    "print ndr_embee_compare['compare_df'].count()\n",
    "print ndr_embee_compare['matched'].count()\n",
    "print ndr_embee_compare['prod_df'].count()\n",
    "print ndr_embee_compare['test_df'].count()\n",
    "for i in ['prod', 'test']:\n",
    "    print i\n",
    "    print ndr_embee_compare['meta'][i].data_source.show()\n",
    "    print ndr_embee_compare['meta'][i].time_period_length\n",
    "    print ndr_embee_compare['meta'][i].machine_id_count"
   ]
  },
  {
   "cell_type": "code",
   "execution_count": 87,
   "metadata": {
    "ExecuteTime": {
     "end_time": "2020-01-14T16:13:12.483708Z",
     "start_time": "2020-01-14T16:13:03.982511Z"
    }
   },
   "outputs": [],
   "source": [
    "spark.stop()"
   ]
  }
 ],
 "metadata": {
  "kernelspec": {
   "display_name": "Python 2",
   "language": "python",
   "name": "python2"
  },
  "language_info": {
   "codemirror_mode": {
    "name": "ipython",
    "version": 2
   },
   "file_extension": ".py",
   "mimetype": "text/x-python",
   "name": "python",
   "nbconvert_exporter": "python",
   "pygments_lexer": "ipython2",
   "version": "2.7.16"
  }
 },
 "nbformat": 4,
 "nbformat_minor": 2
}
